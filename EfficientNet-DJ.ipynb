{
 "cells": [
  {
   "cell_type": "markdown",
   "metadata": {},
   "source": [
    "# Import Required Libraries\n"
   ]
  },
  {
   "cell_type": "code",
   "execution_count": 2,
   "metadata": {
    "tags": []
   },
   "outputs": [],
   "source": [
    "import os\n",
    "import shutil\n",
    "import plotly\n",
    "import numpy as np \n",
    "import pandas as pd\n",
    "import tensorflow as tf \n",
    "import plotly.express as px\n",
    "import matplotlib\n",
    "import matplotlib.pyplot as plt\n",
    "import plotly.graph_objects as go\n",
    "from plotly.subplots import make_subplots\n",
    "from keras.layers import Dense, Dropout, Flatten\n",
    "from sklearn.metrics import classification_report\n",
    "from sklearn.metrics import confusion_matrix, ConfusionMatrixDisplay\n",
    "from sklearn.metrics import roc_curve, auc\n",
    "from sklearn.model_selection import train_test_split\n",
    "from tensorflow import keras\n",
    "from tensorflow.keras import layers\n",
    "from tensorflow.keras import regularizers\n",
    "from tensorflow.keras.applications.vgg16 import VGG16\n",
    "from tensorflow.keras.callbacks import EarlyStopping, ModelCheckpoint\n",
    "from tensorflow.keras.models import Sequential\n",
    "from tensorflow.keras.optimizers import Adam, Adamax\n",
    "from tensorflow.keras.preprocessing.image import ImageDataGenerator\n",
    "import pydot"
   ]
  },
  {
   "cell_type": "markdown",
   "metadata": {},
   "source": [
    "# Reading data and augmentation\n",
    "- Reading the target class values\n",
    "- Reading data from folders and rescale\n"
   ]
  },
  {
   "cell_type": "code",
   "execution_count": 2,
   "metadata": {
    "tags": []
   },
   "outputs": [
    {
     "name": "stdout",
     "output_type": "stream",
     "text": [
      "['Benign', 'Early', 'Pre', 'Pro']\n"
     ]
    }
   ],
   "source": [
    "# Get classes from directory names\n",
    "class_names = os.listdir('Original')\n",
    "print(class_names)"
   ]
  },
  {
   "cell_type": "code",
   "execution_count": 9,
   "metadata": {},
   "outputs": [
    {
     "name": "stdout",
     "output_type": "stream",
     "text": [
      "Benign\n",
      "['WBC-Benign-002.jpg', 'WBC-Benign-003.jpg', 'WBC-Benign-004.jpg', 'WBC-Benign-005.jpg', 'WBC-Benign-006.jpg', 'WBC-Benign-007.jpg', 'WBC-Benign-008.jpg', 'WBC-Benign-009.jpg', 'WBC-Benign-011.jpg', 'WBC-Benign-012.jpg', 'WBC-Benign-013.jpg', 'WBC-Benign-014.jpg', 'WBC-Benign-015.jpg', 'WBC-Benign-016.jpg', 'WBC-Benign-017.jpg', 'WBC-Benign-018.jpg', 'WBC-Benign-019.jpg', 'WBC-Benign-021.jpg', 'WBC-Benign-022.jpg', 'WBC-Benign-023.jpg', 'WBC-Benign-024.jpg', 'WBC-Benign-025.jpg', 'WBC-Benign-026.jpg', 'WBC-Benign-027.jpg', 'WBC-Benign-028.jpg', 'WBC-Benign-029.jpg', 'WBC-Benign-031.jpg', 'WBC-Benign-032.jpg', 'WBC-Benign-033.jpg', 'WBC-Benign-034.jpg', 'WBC-Benign-035.jpg', 'WBC-Benign-036.jpg', 'WBC-Benign-037.jpg', 'WBC-Benign-038.jpg', 'WBC-Benign-039.jpg', 'WBC-Benign-040.jpg', 'WBC-Benign-041.jpg', 'WBC-Benign-042.jpg', 'WBC-Benign-043.jpg', 'WBC-Benign-044.jpg', 'WBC-Benign-045.jpg', 'WBC-Benign-046.jpg', 'WBC-Benign-047.jpg', 'WBC-Benign-048.jpg', 'WBC-Benign-049.jpg', 'WBC-Benign-051.jpg', 'WBC-Benign-052.jpg', 'WBC-Benign-053.jpg', 'WBC-Benign-054.jpg', 'WBC-Benign-055.jpg', 'WBC-Benign-056.jpg', 'WBC-Benign-057.jpg', 'WBC-Benign-058.jpg', 'WBC-Benign-059.jpg', 'WBC-Benign-061.jpg', 'WBC-Benign-062.jpg', 'WBC-Benign-063.jpg', 'WBC-Benign-064.jpg', 'WBC-Benign-065.jpg', 'WBC-Benign-066.jpg', 'WBC-Benign-067.jpg', 'WBC-Benign-068.jpg', 'WBC-Benign-069.jpg', 'WBC-Benign-071.jpg', 'WBC-Benign-072.jpg', 'WBC-Benign-073.jpg', 'WBC-Benign-074.jpg', 'WBC-Benign-075.jpg', 'WBC-Benign-076.jpg', 'WBC-Benign-077.jpg', 'WBC-Benign-078.jpg', 'WBC-Benign-079.jpg', 'WBC-Benign-081.jpg', 'WBC-Benign-082.jpg', 'WBC-Benign-083.jpg', 'WBC-Benign-084.jpg', 'WBC-Benign-085.jpg', 'WBC-Benign-086.jpg', 'WBC-Benign-087.jpg', 'WBC-Benign-088.jpg', 'WBC-Benign-089.jpg', 'WBC-Benign-090.jpg', 'WBC-Benign-091.jpg', 'WBC-Benign-092.jpg', 'WBC-Benign-093.jpg', 'WBC-Benign-094.jpg', 'WBC-Benign-095.jpg', 'WBC-Benign-096.jpg', 'WBC-Benign-097.jpg', 'WBC-Benign-098.jpg', 'WBC-Benign-099.jpg', 'WBC-Benign-101.jpg', 'WBC-Benign-102.jpg', 'WBC-Benign-103.jpg', 'WBC-Benign-104.jpg', 'WBC-Benign-105.jpg', 'WBC-Benign-106.jpg', 'WBC-Benign-107.jpg', 'WBC-Benign-108.jpg', 'WBC-Benign-109.jpg', 'WBC-Benign-111.jpg', 'WBC-Benign-112.jpg', 'WBC-Benign-113.jpg', 'WBC-Benign-114.jpg', 'WBC-Benign-115.jpg', 'WBC-Benign-116.jpg', 'WBC-Benign-117.jpg', 'WBC-Benign-118.jpg', 'WBC-Benign-119.jpg', 'WBC-Benign-121.jpg', 'WBC-Benign-122.jpg', 'WBC-Benign-123.jpg', 'WBC-Benign-124.jpg', 'WBC-Benign-125.jpg', 'WBC-Benign-126.jpg', 'WBC-Benign-127.jpg', 'WBC-Benign-128.jpg', 'WBC-Benign-129.jpg', 'WBC-Benign-131.jpg', 'WBC-Benign-132.jpg', 'WBC-Benign-133.jpg', 'WBC-Benign-134.jpg', 'WBC-Benign-135.jpg', 'WBC-Benign-136.jpg', 'WBC-Benign-137.jpg', 'WBC-Benign-138.jpg', 'WBC-Benign-139.jpg', 'WBC-Benign-140.jpg', 'WBC-Benign-141.jpg', 'WBC-Benign-142.jpg', 'WBC-Benign-143.jpg', 'WBC-Benign-144.jpg', 'WBC-Benign-145.jpg', 'WBC-Benign-146.jpg', 'WBC-Benign-147.jpg', 'WBC-Benign-148.jpg', 'WBC-Benign-149.jpg', 'WBC-Benign-151.jpg', 'WBC-Benign-152.jpg', 'WBC-Benign-153.jpg', 'WBC-Benign-154.jpg', 'WBC-Benign-155.jpg', 'WBC-Benign-156.jpg', 'WBC-Benign-157.jpg', 'WBC-Benign-158.jpg', 'WBC-Benign-159.jpg', 'WBC-Benign-161.jpg', 'WBC-Benign-162.jpg', 'WBC-Benign-163.jpg', 'WBC-Benign-164.jpg', 'WBC-Benign-165.jpg', 'WBC-Benign-166.jpg', 'WBC-Benign-167.jpg', 'WBC-Benign-168.jpg', 'WBC-Benign-169.jpg', 'WBC-Benign-171.jpg', 'WBC-Benign-172.jpg', 'WBC-Benign-173.jpg', 'WBC-Benign-174.jpg', 'WBC-Benign-175.jpg', 'WBC-Benign-176.jpg', 'WBC-Benign-177.jpg', 'WBC-Benign-178.jpg', 'WBC-Benign-179.jpg', 'WBC-Benign-181.jpg', 'WBC-Benign-182.jpg', 'WBC-Benign-183.jpg', 'WBC-Benign-184.jpg', 'WBC-Benign-185.jpg', 'WBC-Benign-186.jpg', 'WBC-Benign-187.jpg', 'WBC-Benign-188.jpg', 'WBC-Benign-189.jpg', 'WBC-Benign-190.jpg', 'WBC-Benign-191.jpg', 'WBC-Benign-192.jpg', 'WBC-Benign-193.jpg', 'WBC-Benign-194.jpg', 'WBC-Benign-195.jpg', 'WBC-Benign-196.jpg', 'WBC-Benign-197.jpg', 'WBC-Benign-198.jpg', 'WBC-Benign-199.jpg', 'WBC-Benign-201.jpg', 'WBC-Benign-202.jpg', 'WBC-Benign-203.jpg', 'WBC-Benign-204.jpg', 'WBC-Benign-205.jpg', 'WBC-Benign-206.jpg', 'WBC-Benign-207.jpg', 'WBC-Benign-208.jpg', 'WBC-Benign-209.jpg', 'WBC-Benign-211.jpg', 'WBC-Benign-212.jpg', 'WBC-Benign-213.jpg', 'WBC-Benign-214.jpg', 'WBC-Benign-215.jpg', 'WBC-Benign-216.jpg', 'WBC-Benign-217.jpg', 'WBC-Benign-218.jpg', 'WBC-Benign-219.jpg', 'WBC-Benign-221.jpg', 'WBC-Benign-222.jpg', 'WBC-Benign-223.jpg', 'WBC-Benign-224.jpg', 'WBC-Benign-225.jpg', 'WBC-Benign-226.jpg', 'WBC-Benign-227.jpg', 'WBC-Benign-228.jpg', 'WBC-Benign-229.jpg', 'WBC-Benign-231.jpg', 'WBC-Benign-232.jpg', 'WBC-Benign-233.jpg', 'WBC-Benign-234.jpg', 'WBC-Benign-235.jpg', 'WBC-Benign-236.jpg', 'WBC-Benign-237.jpg', 'WBC-Benign-238.jpg', 'WBC-Benign-239.jpg', 'WBC-Benign-240.jpg', 'WBC-Benign-241.jpg', 'WBC-Benign-242.jpg', 'WBC-Benign-243.jpg', 'WBC-Benign-244.jpg', 'WBC-Benign-245.jpg', 'WBC-Benign-246.jpg', 'WBC-Benign-247.jpg', 'WBC-Benign-248.jpg', 'WBC-Benign-249.jpg', 'WBC-Benign-251.jpg', 'WBC-Benign-252.jpg', 'WBC-Benign-253.jpg', 'WBC-Benign-254.jpg', 'WBC-Benign-255.jpg', 'WBC-Benign-256.jpg', 'WBC-Benign-257.jpg', 'WBC-Benign-258.jpg', 'WBC-Benign-259.jpg', 'WBC-Benign-261.jpg', 'WBC-Benign-262.jpg', 'WBC-Benign-263.jpg', 'WBC-Benign-264.jpg', 'WBC-Benign-265.jpg', 'WBC-Benign-266.jpg', 'WBC-Benign-267.jpg', 'WBC-Benign-268.jpg', 'WBC-Benign-269.jpg', 'WBC-Benign-271.jpg', 'WBC-Benign-272.jpg', 'WBC-Benign-273.jpg', 'WBC-Benign-274.jpg', 'WBC-Benign-275.jpg', 'WBC-Benign-276.jpg', 'WBC-Benign-277.jpg', 'WBC-Benign-278.jpg', 'WBC-Benign-279.jpg', 'WBC-Benign-281.jpg', 'WBC-Benign-282.jpg', 'WBC-Benign-283.jpg', 'WBC-Benign-284.jpg', 'WBC-Benign-285.jpg', 'WBC-Benign-286.jpg', 'WBC-Benign-287.jpg', 'WBC-Benign-288.jpg', 'WBC-Benign-289.jpg', 'WBC-Benign-290.jpg', 'WBC-Benign-291.jpg', 'WBC-Benign-292.jpg', 'WBC-Benign-293.jpg', 'WBC-Benign-294.jpg', 'WBC-Benign-295.jpg', 'WBC-Benign-296.jpg', 'WBC-Benign-297.jpg', 'WBC-Benign-298.jpg', 'WBC-Benign-299.jpg', 'WBC-Benign-301.jpg', 'WBC-Benign-302.jpg', 'WBC-Benign-303.jpg', 'WBC-Benign-304.jpg', 'WBC-Benign-305.jpg', 'WBC-Benign-306.jpg', 'WBC-Benign-307.jpg', 'WBC-Benign-308.jpg', 'WBC-Benign-309.jpg', 'WBC-Benign-311.jpg', 'WBC-Benign-312.jpg', 'WBC-Benign-313.jpg', 'WBC-Benign-314.jpg', 'WBC-Benign-315.jpg', 'WBC-Benign-316.jpg', 'WBC-Benign-317.jpg', 'WBC-Benign-318.jpg', 'WBC-Benign-319.jpg', 'WBC-Benign-321.jpg', 'WBC-Benign-322.jpg', 'WBC-Benign-323.jpg', 'WBC-Benign-324.jpg', 'WBC-Benign-325.jpg', 'WBC-Benign-326.jpg', 'WBC-Benign-327.jpg', 'WBC-Benign-328.jpg', 'WBC-Benign-329.jpg', 'WBC-Benign-331.jpg', 'WBC-Benign-332.jpg', 'WBC-Benign-333.jpg', 'WBC-Benign-334.jpg', 'WBC-Benign-335.jpg', 'WBC-Benign-336.jpg', 'WBC-Benign-337.jpg', 'WBC-Benign-338.jpg', 'WBC-Benign-339.jpg', 'WBC-Benign-340.jpg', 'WBC-Benign-341.jpg', 'WBC-Benign-342.jpg', 'WBC-Benign-343.jpg', 'WBC-Benign-344.jpg', 'WBC-Benign-345.jpg', 'WBC-Benign-346.jpg', 'WBC-Benign-347.jpg', 'WBC-Benign-348.jpg', 'WBC-Benign-349.jpg', 'WBC-Benign-351.jpg', 'WBC-Benign-352.jpg', 'WBC-Benign-353.jpg', 'WBC-Benign-354.jpg', 'WBC-Benign-355.jpg', 'WBC-Benign-356.jpg', 'WBC-Benign-357.jpg', 'WBC-Benign-358.jpg', 'WBC-Benign-359.jpg', 'WBC-Benign-361.jpg', 'WBC-Benign-362.jpg', 'WBC-Benign-363.jpg', 'WBC-Benign-364.jpg', 'WBC-Benign-365.jpg', 'WBC-Benign-366.jpg', 'WBC-Benign-367.jpg', 'WBC-Benign-368.jpg', 'WBC-Benign-369.jpg', 'WBC-Benign-371.jpg', 'WBC-Benign-372.jpg', 'WBC-Benign-373.jpg', 'WBC-Benign-374.jpg', 'WBC-Benign-375.jpg', 'WBC-Benign-376.jpg', 'WBC-Benign-377.jpg', 'WBC-Benign-378.jpg', 'WBC-Benign-379.jpg', 'WBC-Benign-381.jpg', 'WBC-Benign-382.jpg', 'WBC-Benign-383.jpg', 'WBC-Benign-384.jpg', 'WBC-Benign-385.jpg', 'WBC-Benign-386.jpg', 'WBC-Benign-387.jpg', 'WBC-Benign-388.jpg', 'WBC-Benign-389.jpg', 'WBC-Benign-390.jpg', 'WBC-Benign-391.jpg', 'WBC-Benign-392.jpg', 'WBC-Benign-393.jpg', 'WBC-Benign-394.jpg', 'WBC-Benign-395.jpg', 'WBC-Benign-396.jpg', 'WBC-Benign-397.jpg', 'WBC-Benign-398.jpg', 'WBC-Benign-399.jpg', 'WBC-Benign-401.jpg', 'WBC-Benign-402.jpg', 'WBC-Benign-403.jpg', 'WBC-Benign-404.jpg', 'WBC-Benign-405.jpg', 'WBC-Benign-406.jpg', 'WBC-Benign-407.jpg', 'WBC-Benign-408.jpg', 'WBC-Benign-409.jpg', 'WBC-Benign-411.jpg', 'WBC-Benign-412.jpg', 'WBC-Benign-413.jpg', 'WBC-Benign-414.jpg', 'WBC-Benign-415.jpg', 'WBC-Benign-416.jpg', 'WBC-Benign-417.jpg', 'WBC-Benign-418.jpg', 'WBC-Benign-419.jpg', 'WBC-Benign-421.jpg', 'WBC-Benign-422.jpg', 'WBC-Benign-423.jpg', 'WBC-Benign-424.jpg', 'WBC-Benign-425.jpg', 'WBC-Benign-426.jpg', 'WBC-Benign-427.jpg', 'WBC-Benign-428.jpg', 'WBC-Benign-429.jpg', 'WBC-Benign-431.jpg', 'WBC-Benign-432.jpg', 'WBC-Benign-433.jpg', 'WBC-Benign-434.jpg', 'WBC-Benign-435.jpg', 'WBC-Benign-436.jpg', 'WBC-Benign-437.jpg', 'WBC-Benign-438.jpg', 'WBC-Benign-439.jpg', 'WBC-Benign-440.jpg', 'WBC-Benign-441.jpg', 'WBC-Benign-442.jpg', 'WBC-Benign-443.jpg', 'WBC-Benign-444.jpg', 'WBC-Benign-445.jpg', 'WBC-Benign-446.jpg', 'WBC-Benign-447.jpg', 'WBC-Benign-448.jpg', 'WBC-Benign-449.jpg', 'WBC-Benign-451.jpg', 'WBC-Benign-452.jpg', 'WBC-Benign-453.jpg', 'WBC-Benign-454.jpg', 'WBC-Benign-455.jpg', 'WBC-Benign-456.jpg', 'WBC-Benign-457.jpg', 'WBC-Benign-458.jpg', 'WBC-Benign-459.jpg', 'WBC-Benign-461.jpg', 'WBC-Benign-462.jpg', 'WBC-Benign-463.jpg', 'WBC-Benign-464.jpg', 'WBC-Benign-465.jpg', 'WBC-Benign-466.jpg', 'WBC-Benign-467.jpg', 'WBC-Benign-468.jpg', 'WBC-Benign-469.jpg', 'WBC-Benign-471.jpg', 'WBC-Benign-472.jpg', 'WBC-Benign-473.jpg', 'WBC-Benign-474.jpg', 'WBC-Benign-475.jpg', 'WBC-Benign-476.jpg', 'WBC-Benign-477.jpg', 'WBC-Benign-478.jpg', 'WBC-Benign-479.jpg', 'WBC-Benign-481.jpg', 'WBC-Benign-482.jpg', 'WBC-Benign-483.jpg', 'WBC-Benign-484.jpg', 'WBC-Benign-485.jpg', 'WBC-Benign-486.jpg', 'WBC-Benign-487.jpg', 'WBC-Benign-488.jpg', 'WBC-Benign-489.jpg', 'WBC-Benign-490.jpg', 'WBC-Benign-491.jpg', 'WBC-Benign-492.jpg', 'WBC-Benign-493.jpg', 'WBC-Benign-494.jpg', 'WBC-Benign-495.jpg', 'WBC-Benign-496.jpg', 'WBC-Benign-497.jpg', 'WBC-Benign-498.jpg', 'WBC-Benign-499.jpg', 'WBC-Benign-500.jpg', 'WBC-Benign-501.jpg', 'WBC-Benign-502.jpg', 'WBC-Benign-503.jpg', 'WBC-Benign-504.jpg']\n",
      "Early\n",
      "['WBC-Malignant-Early-002.jpg', 'WBC-Malignant-Early-003.jpg', 'WBC-Malignant-Early-004.jpg', 'WBC-Malignant-Early-005.jpg', 'WBC-Malignant-Early-006.jpg', 'WBC-Malignant-Early-007.jpg', 'WBC-Malignant-Early-008.jpg', 'WBC-Malignant-Early-009.jpg', 'WBC-Malignant-Early-011.jpg', 'WBC-Malignant-Early-012.jpg', 'WBC-Malignant-Early-013.jpg', 'WBC-Malignant-Early-014.jpg', 'WBC-Malignant-Early-015.jpg', 'WBC-Malignant-Early-016.jpg', 'WBC-Malignant-Early-017.jpg', 'WBC-Malignant-Early-018.jpg', 'WBC-Malignant-Early-019.jpg', 'WBC-Malignant-Early-021.jpg', 'WBC-Malignant-Early-022.jpg', 'WBC-Malignant-Early-023.jpg', 'WBC-Malignant-Early-024.jpg', 'WBC-Malignant-Early-025.jpg', 'WBC-Malignant-Early-026.jpg', 'WBC-Malignant-Early-027.jpg', 'WBC-Malignant-Early-028.jpg', 'WBC-Malignant-Early-029.jpg', 'WBC-Malignant-Early-031.jpg', 'WBC-Malignant-Early-032.jpg', 'WBC-Malignant-Early-033.jpg', 'WBC-Malignant-Early-034.jpg', 'WBC-Malignant-Early-035.jpg', 'WBC-Malignant-Early-036.jpg', 'WBC-Malignant-Early-037.jpg', 'WBC-Malignant-Early-038.jpg', 'WBC-Malignant-Early-039.jpg', 'WBC-Malignant-Early-040.jpg', 'WBC-Malignant-Early-041.jpg', 'WBC-Malignant-Early-042.jpg', 'WBC-Malignant-Early-043.jpg', 'WBC-Malignant-Early-044.jpg', 'WBC-Malignant-Early-045.jpg', 'WBC-Malignant-Early-046.jpg', 'WBC-Malignant-Early-047.jpg', 'WBC-Malignant-Early-048.jpg', 'WBC-Malignant-Early-049.jpg', 'WBC-Malignant-Early-051.jpg', 'WBC-Malignant-Early-052.jpg', 'WBC-Malignant-Early-053.jpg', 'WBC-Malignant-Early-054.jpg', 'WBC-Malignant-Early-055.jpg', 'WBC-Malignant-Early-056.jpg', 'WBC-Malignant-Early-057.jpg', 'WBC-Malignant-Early-058.jpg', 'WBC-Malignant-Early-059.jpg', 'WBC-Malignant-Early-061.jpg', 'WBC-Malignant-Early-062.jpg', 'WBC-Malignant-Early-063.jpg', 'WBC-Malignant-Early-064.jpg', 'WBC-Malignant-Early-065.jpg', 'WBC-Malignant-Early-066.jpg', 'WBC-Malignant-Early-067.jpg', 'WBC-Malignant-Early-068.jpg', 'WBC-Malignant-Early-069.jpg', 'WBC-Malignant-Early-071.jpg', 'WBC-Malignant-Early-072.jpg', 'WBC-Malignant-Early-073.jpg', 'WBC-Malignant-Early-074.jpg', 'WBC-Malignant-Early-075.jpg', 'WBC-Malignant-Early-076.jpg', 'WBC-Malignant-Early-077.jpg', 'WBC-Malignant-Early-078.jpg', 'WBC-Malignant-Early-079.jpg', 'WBC-Malignant-Early-081.jpg', 'WBC-Malignant-Early-082.jpg', 'WBC-Malignant-Early-083.jpg', 'WBC-Malignant-Early-084.jpg', 'WBC-Malignant-Early-085.jpg', 'WBC-Malignant-Early-086.jpg', 'WBC-Malignant-Early-087.jpg', 'WBC-Malignant-Early-088.jpg', 'WBC-Malignant-Early-089.jpg', 'WBC-Malignant-Early-090.jpg', 'WBC-Malignant-Early-091.jpg', 'WBC-Malignant-Early-092.jpg', 'WBC-Malignant-Early-093.jpg', 'WBC-Malignant-Early-094.jpg', 'WBC-Malignant-Early-095.jpg', 'WBC-Malignant-Early-096.jpg', 'WBC-Malignant-Early-097.jpg', 'WBC-Malignant-Early-098.jpg', 'WBC-Malignant-Early-099.jpg', 'WBC-Malignant-Early-101.jpg', 'WBC-Malignant-Early-102.jpg', 'WBC-Malignant-Early-103.jpg', 'WBC-Malignant-Early-104.jpg', 'WBC-Malignant-Early-105.jpg', 'WBC-Malignant-Early-106.jpg', 'WBC-Malignant-Early-107.jpg', 'WBC-Malignant-Early-108.jpg', 'WBC-Malignant-Early-109.jpg', 'WBC-Malignant-Early-111.jpg', 'WBC-Malignant-Early-112.jpg', 'WBC-Malignant-Early-113.jpg', 'WBC-Malignant-Early-114.jpg', 'WBC-Malignant-Early-115.jpg', 'WBC-Malignant-Early-116.jpg', 'WBC-Malignant-Early-117.jpg', 'WBC-Malignant-Early-118.jpg', 'WBC-Malignant-Early-119.jpg', 'WBC-Malignant-Early-121.jpg', 'WBC-Malignant-Early-122.jpg', 'WBC-Malignant-Early-123.jpg', 'WBC-Malignant-Early-124.jpg', 'WBC-Malignant-Early-125.jpg', 'WBC-Malignant-Early-126.jpg', 'WBC-Malignant-Early-127.jpg', 'WBC-Malignant-Early-128.jpg', 'WBC-Malignant-Early-129.jpg', 'WBC-Malignant-Early-131.jpg', 'WBC-Malignant-Early-132.jpg', 'WBC-Malignant-Early-133.jpg', 'WBC-Malignant-Early-134.jpg', 'WBC-Malignant-Early-135.jpg', 'WBC-Malignant-Early-136.jpg', 'WBC-Malignant-Early-137.jpg', 'WBC-Malignant-Early-138.jpg', 'WBC-Malignant-Early-139.jpg', 'WBC-Malignant-Early-140.jpg', 'WBC-Malignant-Early-141.jpg', 'WBC-Malignant-Early-142.jpg', 'WBC-Malignant-Early-143.jpg', 'WBC-Malignant-Early-144.jpg', 'WBC-Malignant-Early-145.jpg', 'WBC-Malignant-Early-146.jpg', 'WBC-Malignant-Early-147.jpg', 'WBC-Malignant-Early-148.jpg', 'WBC-Malignant-Early-149.jpg', 'WBC-Malignant-Early-151.jpg', 'WBC-Malignant-Early-152.jpg', 'WBC-Malignant-Early-153.jpg', 'WBC-Malignant-Early-154.jpg', 'WBC-Malignant-Early-155.jpg', 'WBC-Malignant-Early-156.jpg', 'WBC-Malignant-Early-157.jpg', 'WBC-Malignant-Early-158.jpg', 'WBC-Malignant-Early-159.jpg', 'WBC-Malignant-Early-161.jpg', 'WBC-Malignant-Early-162.jpg', 'WBC-Malignant-Early-163.jpg', 'WBC-Malignant-Early-164.jpg', 'WBC-Malignant-Early-165.jpg', 'WBC-Malignant-Early-166.jpg', 'WBC-Malignant-Early-167.jpg', 'WBC-Malignant-Early-168.jpg', 'WBC-Malignant-Early-169.jpg', 'WBC-Malignant-Early-171.jpg', 'WBC-Malignant-Early-172.jpg', 'WBC-Malignant-Early-173.jpg', 'WBC-Malignant-Early-174.jpg', 'WBC-Malignant-Early-175.jpg', 'WBC-Malignant-Early-176.jpg', 'WBC-Malignant-Early-177.jpg', 'WBC-Malignant-Early-178.jpg', 'WBC-Malignant-Early-179.jpg', 'WBC-Malignant-Early-181.jpg', 'WBC-Malignant-Early-182.jpg', 'WBC-Malignant-Early-183.jpg', 'WBC-Malignant-Early-184.jpg', 'WBC-Malignant-Early-185.jpg', 'WBC-Malignant-Early-186.jpg', 'WBC-Malignant-Early-187.jpg', 'WBC-Malignant-Early-188.jpg', 'WBC-Malignant-Early-189.jpg', 'WBC-Malignant-Early-190.jpg', 'WBC-Malignant-Early-191.jpg', 'WBC-Malignant-Early-192.jpg', 'WBC-Malignant-Early-193.jpg', 'WBC-Malignant-Early-194.jpg', 'WBC-Malignant-Early-195.jpg', 'WBC-Malignant-Early-196.jpg', 'WBC-Malignant-Early-197.jpg', 'WBC-Malignant-Early-198.jpg', 'WBC-Malignant-Early-199.jpg', 'WBC-Malignant-Early-201.jpg', 'WBC-Malignant-Early-202.jpg', 'WBC-Malignant-Early-203.jpg', 'WBC-Malignant-Early-204.jpg', 'WBC-Malignant-Early-205.jpg', 'WBC-Malignant-Early-206.jpg', 'WBC-Malignant-Early-207.jpg', 'WBC-Malignant-Early-208.jpg', 'WBC-Malignant-Early-209.jpg', 'WBC-Malignant-Early-211.jpg', 'WBC-Malignant-Early-212.jpg', 'WBC-Malignant-Early-213.jpg', 'WBC-Malignant-Early-214.jpg', 'WBC-Malignant-Early-215.jpg', 'WBC-Malignant-Early-216.jpg', 'WBC-Malignant-Early-217.jpg', 'WBC-Malignant-Early-218.jpg', 'WBC-Malignant-Early-219.jpg', 'WBC-Malignant-Early-221.jpg', 'WBC-Malignant-Early-222.jpg', 'WBC-Malignant-Early-223.jpg', 'WBC-Malignant-Early-224.jpg', 'WBC-Malignant-Early-225.jpg', 'WBC-Malignant-Early-226.jpg', 'WBC-Malignant-Early-227.jpg', 'WBC-Malignant-Early-228.jpg', 'WBC-Malignant-Early-229.jpg', 'WBC-Malignant-Early-231.jpg', 'WBC-Malignant-Early-232.jpg', 'WBC-Malignant-Early-233.jpg', 'WBC-Malignant-Early-234.jpg', 'WBC-Malignant-Early-235.jpg', 'WBC-Malignant-Early-236.jpg', 'WBC-Malignant-Early-237.jpg', 'WBC-Malignant-Early-238.jpg', 'WBC-Malignant-Early-239.jpg', 'WBC-Malignant-Early-240.jpg', 'WBC-Malignant-Early-241.jpg', 'WBC-Malignant-Early-242.jpg', 'WBC-Malignant-Early-243.jpg', 'WBC-Malignant-Early-244.jpg', 'WBC-Malignant-Early-245.jpg', 'WBC-Malignant-Early-246.jpg', 'WBC-Malignant-Early-247.jpg', 'WBC-Malignant-Early-248.jpg', 'WBC-Malignant-Early-249.jpg', 'WBC-Malignant-Early-251.jpg', 'WBC-Malignant-Early-252.jpg', 'WBC-Malignant-Early-253.jpg', 'WBC-Malignant-Early-254.jpg', 'WBC-Malignant-Early-255.jpg', 'WBC-Malignant-Early-256.jpg', 'WBC-Malignant-Early-257.jpg', 'WBC-Malignant-Early-258.jpg', 'WBC-Malignant-Early-259.jpg', 'WBC-Malignant-Early-261.jpg', 'WBC-Malignant-Early-262.jpg', 'WBC-Malignant-Early-263.jpg', 'WBC-Malignant-Early-264.jpg', 'WBC-Malignant-Early-265.jpg', 'WBC-Malignant-Early-266.jpg', 'WBC-Malignant-Early-267.jpg', 'WBC-Malignant-Early-268.jpg', 'WBC-Malignant-Early-269.jpg', 'WBC-Malignant-Early-271.jpg', 'WBC-Malignant-Early-272.jpg', 'WBC-Malignant-Early-273.jpg', 'WBC-Malignant-Early-274.jpg', 'WBC-Malignant-Early-275.jpg', 'WBC-Malignant-Early-276.jpg', 'WBC-Malignant-Early-277.jpg', 'WBC-Malignant-Early-278.jpg', 'WBC-Malignant-Early-279.jpg', 'WBC-Malignant-Early-281.jpg', 'WBC-Malignant-Early-282.jpg', 'WBC-Malignant-Early-283.jpg', 'WBC-Malignant-Early-284.jpg', 'WBC-Malignant-Early-285.jpg', 'WBC-Malignant-Early-286.jpg', 'WBC-Malignant-Early-287.jpg', 'WBC-Malignant-Early-288.jpg', 'WBC-Malignant-Early-289.jpg', 'WBC-Malignant-Early-290.jpg', 'WBC-Malignant-Early-291.jpg', 'WBC-Malignant-Early-292.jpg', 'WBC-Malignant-Early-293.jpg', 'WBC-Malignant-Early-294.jpg', 'WBC-Malignant-Early-295.jpg', 'WBC-Malignant-Early-296.jpg', 'WBC-Malignant-Early-297.jpg', 'WBC-Malignant-Early-298.jpg', 'WBC-Malignant-Early-299.jpg', 'WBC-Malignant-Early-301.jpg', 'WBC-Malignant-Early-302.jpg', 'WBC-Malignant-Early-303.jpg', 'WBC-Malignant-Early-304.jpg', 'WBC-Malignant-Early-305.jpg', 'WBC-Malignant-Early-306.jpg', 'WBC-Malignant-Early-307.jpg', 'WBC-Malignant-Early-308.jpg', 'WBC-Malignant-Early-309.jpg', 'WBC-Malignant-Early-311.jpg', 'WBC-Malignant-Early-312.jpg', 'WBC-Malignant-Early-313.jpg', 'WBC-Malignant-Early-314.jpg', 'WBC-Malignant-Early-315.jpg', 'WBC-Malignant-Early-316.jpg', 'WBC-Malignant-Early-317.jpg', 'WBC-Malignant-Early-318.jpg', 'WBC-Malignant-Early-319.jpg', 'WBC-Malignant-Early-321.jpg', 'WBC-Malignant-Early-322.jpg', 'WBC-Malignant-Early-323.jpg', 'WBC-Malignant-Early-324.jpg', 'WBC-Malignant-Early-325.jpg', 'WBC-Malignant-Early-326.jpg', 'WBC-Malignant-Early-327.jpg', 'WBC-Malignant-Early-328.jpg', 'WBC-Malignant-Early-329.jpg', 'WBC-Malignant-Early-331.jpg', 'WBC-Malignant-Early-332.jpg', 'WBC-Malignant-Early-333.jpg', 'WBC-Malignant-Early-334.jpg', 'WBC-Malignant-Early-335.jpg', 'WBC-Malignant-Early-336.jpg', 'WBC-Malignant-Early-337.jpg', 'WBC-Malignant-Early-338.jpg', 'WBC-Malignant-Early-339.jpg', 'WBC-Malignant-Early-340.jpg', 'WBC-Malignant-Early-341.jpg', 'WBC-Malignant-Early-342.jpg', 'WBC-Malignant-Early-343.jpg', 'WBC-Malignant-Early-344.jpg', 'WBC-Malignant-Early-345.jpg', 'WBC-Malignant-Early-346.jpg', 'WBC-Malignant-Early-347.jpg', 'WBC-Malignant-Early-348.jpg', 'WBC-Malignant-Early-349.jpg', 'WBC-Malignant-Early-351.jpg', 'WBC-Malignant-Early-352.jpg', 'WBC-Malignant-Early-353.jpg', 'WBC-Malignant-Early-354.jpg', 'WBC-Malignant-Early-355.jpg', 'WBC-Malignant-Early-356.jpg', 'WBC-Malignant-Early-357.jpg', 'WBC-Malignant-Early-358.jpg', 'WBC-Malignant-Early-359.jpg', 'WBC-Malignant-Early-361.jpg', 'WBC-Malignant-Early-362.jpg', 'WBC-Malignant-Early-363.jpg', 'WBC-Malignant-Early-364.jpg', 'WBC-Malignant-Early-365.jpg', 'WBC-Malignant-Early-366.jpg', 'WBC-Malignant-Early-367.jpg', 'WBC-Malignant-Early-368.jpg', 'WBC-Malignant-Early-369.jpg', 'WBC-Malignant-Early-371.jpg', 'WBC-Malignant-Early-372.jpg', 'WBC-Malignant-Early-373.jpg', 'WBC-Malignant-Early-374.jpg', 'WBC-Malignant-Early-375.jpg', 'WBC-Malignant-Early-376.jpg', 'WBC-Malignant-Early-377.jpg', 'WBC-Malignant-Early-378.jpg', 'WBC-Malignant-Early-379.jpg', 'WBC-Malignant-Early-381.jpg', 'WBC-Malignant-Early-382.jpg', 'WBC-Malignant-Early-383.jpg', 'WBC-Malignant-Early-384.jpg', 'WBC-Malignant-Early-385.jpg', 'WBC-Malignant-Early-386.jpg', 'WBC-Malignant-Early-387.jpg', 'WBC-Malignant-Early-388.jpg', 'WBC-Malignant-Early-389.jpg', 'WBC-Malignant-Early-390.jpg', 'WBC-Malignant-Early-391.jpg', 'WBC-Malignant-Early-392.jpg', 'WBC-Malignant-Early-393.jpg', 'WBC-Malignant-Early-394.jpg', 'WBC-Malignant-Early-395.jpg', 'WBC-Malignant-Early-396.jpg', 'WBC-Malignant-Early-397.jpg', 'WBC-Malignant-Early-398.jpg', 'WBC-Malignant-Early-399.jpg', 'WBC-Malignant-Early-401.jpg', 'WBC-Malignant-Early-402.jpg', 'WBC-Malignant-Early-403.jpg', 'WBC-Malignant-Early-404.jpg', 'WBC-Malignant-Early-405.jpg', 'WBC-Malignant-Early-406.jpg', 'WBC-Malignant-Early-407.jpg', 'WBC-Malignant-Early-408.jpg', 'WBC-Malignant-Early-409.jpg', 'WBC-Malignant-Early-411.jpg', 'WBC-Malignant-Early-412.jpg', 'WBC-Malignant-Early-413.jpg', 'WBC-Malignant-Early-414.jpg', 'WBC-Malignant-Early-415.jpg', 'WBC-Malignant-Early-416.jpg', 'WBC-Malignant-Early-417.jpg', 'WBC-Malignant-Early-418.jpg', 'WBC-Malignant-Early-419.jpg', 'WBC-Malignant-Early-421.jpg', 'WBC-Malignant-Early-422.jpg', 'WBC-Malignant-Early-423.jpg', 'WBC-Malignant-Early-424.jpg', 'WBC-Malignant-Early-425.jpg', 'WBC-Malignant-Early-426.jpg', 'WBC-Malignant-Early-427.jpg', 'WBC-Malignant-Early-428.jpg', 'WBC-Malignant-Early-429.jpg', 'WBC-Malignant-Early-431.jpg', 'WBC-Malignant-Early-432.jpg', 'WBC-Malignant-Early-433.jpg', 'WBC-Malignant-Early-434.jpg', 'WBC-Malignant-Early-435.jpg', 'WBC-Malignant-Early-436.jpg', 'WBC-Malignant-Early-437.jpg', 'WBC-Malignant-Early-438.jpg', 'WBC-Malignant-Early-439.jpg', 'WBC-Malignant-Early-440.jpg', 'WBC-Malignant-Early-441.jpg', 'WBC-Malignant-Early-442.jpg', 'WBC-Malignant-Early-443.jpg', 'WBC-Malignant-Early-444.jpg', 'WBC-Malignant-Early-445.jpg', 'WBC-Malignant-Early-446.jpg', 'WBC-Malignant-Early-447.jpg', 'WBC-Malignant-Early-448.jpg', 'WBC-Malignant-Early-449.jpg', 'WBC-Malignant-Early-451.jpg', 'WBC-Malignant-Early-452.jpg', 'WBC-Malignant-Early-453.jpg', 'WBC-Malignant-Early-454.jpg', 'WBC-Malignant-Early-455.jpg', 'WBC-Malignant-Early-456.jpg', 'WBC-Malignant-Early-457.jpg', 'WBC-Malignant-Early-458.jpg', 'WBC-Malignant-Early-459.jpg', 'WBC-Malignant-Early-461.jpg', 'WBC-Malignant-Early-462.jpg', 'WBC-Malignant-Early-463.jpg', 'WBC-Malignant-Early-464.jpg', 'WBC-Malignant-Early-465.jpg', 'WBC-Malignant-Early-466.jpg', 'WBC-Malignant-Early-467.jpg', 'WBC-Malignant-Early-468.jpg', 'WBC-Malignant-Early-469.jpg', 'WBC-Malignant-Early-471.jpg', 'WBC-Malignant-Early-472.jpg', 'WBC-Malignant-Early-473.jpg', 'WBC-Malignant-Early-474.jpg', 'WBC-Malignant-Early-475.jpg', 'WBC-Malignant-Early-476.jpg', 'WBC-Malignant-Early-477.jpg', 'WBC-Malignant-Early-478.jpg', 'WBC-Malignant-Early-479.jpg', 'WBC-Malignant-Early-481.jpg', 'WBC-Malignant-Early-482.jpg', 'WBC-Malignant-Early-483.jpg', 'WBC-Malignant-Early-484.jpg', 'WBC-Malignant-Early-485.jpg', 'WBC-Malignant-Early-486.jpg', 'WBC-Malignant-Early-487.jpg', 'WBC-Malignant-Early-488.jpg', 'WBC-Malignant-Early-489.jpg', 'WBC-Malignant-Early-490.jpg', 'WBC-Malignant-Early-491.jpg', 'WBC-Malignant-Early-492.jpg', 'WBC-Malignant-Early-493.jpg', 'WBC-Malignant-Early-494.jpg', 'WBC-Malignant-Early-495.jpg', 'WBC-Malignant-Early-496.jpg', 'WBC-Malignant-Early-497.jpg', 'WBC-Malignant-Early-498.jpg', 'WBC-Malignant-Early-499.jpg', 'WBC-Malignant-Early-500.jpg', 'WBC-Malignant-Early-501.jpg', 'WBC-Malignant-Early-502.jpg', 'WBC-Malignant-Early-503.jpg', 'WBC-Malignant-Early-504.jpg', 'WBC-Malignant-Early-505.jpg', 'WBC-Malignant-Early-506.jpg', 'WBC-Malignant-Early-507.jpg', 'WBC-Malignant-Early-508.jpg', 'WBC-Malignant-Early-509.jpg', 'WBC-Malignant-Early-510.jpg', 'WBC-Malignant-Early-511.jpg', 'WBC-Malignant-Early-512.jpg', 'WBC-Malignant-Early-513.jpg', 'WBC-Malignant-Early-514.jpg', 'WBC-Malignant-Early-515.jpg', 'WBC-Malignant-Early-516.jpg', 'WBC-Malignant-Early-517.jpg', 'WBC-Malignant-Early-518.jpg', 'WBC-Malignant-Early-519.jpg', 'WBC-Malignant-Early-520.jpg', 'WBC-Malignant-Early-521.jpg', 'WBC-Malignant-Early-522.jpg', 'WBC-Malignant-Early-523.jpg', 'WBC-Malignant-Early-524.jpg', 'WBC-Malignant-Early-525.jpg', 'WBC-Malignant-Early-526.jpg', 'WBC-Malignant-Early-527.jpg', 'WBC-Malignant-Early-528.jpg', 'WBC-Malignant-Early-529.jpg', 'WBC-Malignant-Early-530.jpg', 'WBC-Malignant-Early-531.jpg', 'WBC-Malignant-Early-532.jpg', 'WBC-Malignant-Early-533.jpg', 'WBC-Malignant-Early-534.jpg', 'WBC-Malignant-Early-535.jpg', 'WBC-Malignant-Early-536.jpg', 'WBC-Malignant-Early-537.jpg', 'WBC-Malignant-Early-538.jpg', 'WBC-Malignant-Early-539.jpg', 'WBC-Malignant-Early-540.jpg', 'WBC-Malignant-Early-541.jpg', 'WBC-Malignant-Early-542.jpg', 'WBC-Malignant-Early-543.jpg', 'WBC-Malignant-Early-544.jpg', 'WBC-Malignant-Early-545.jpg', 'WBC-Malignant-Early-546.jpg', 'WBC-Malignant-Early-547.jpg', 'WBC-Malignant-Early-548.jpg', 'WBC-Malignant-Early-549.jpg', 'WBC-Malignant-Early-550.jpg', 'WBC-Malignant-Early-551.jpg', 'WBC-Malignant-Early-552.jpg', 'WBC-Malignant-Early-553.jpg', 'WBC-Malignant-Early-554.jpg', 'WBC-Malignant-Early-555.jpg', 'WBC-Malignant-Early-556.jpg', 'WBC-Malignant-Early-557.jpg', 'WBC-Malignant-Early-558.jpg', 'WBC-Malignant-Early-559.jpg', 'WBC-Malignant-Early-560.jpg', 'WBC-Malignant-Early-561.jpg', 'WBC-Malignant-Early-562.jpg', 'WBC-Malignant-Early-563.jpg', 'WBC-Malignant-Early-564.jpg', 'WBC-Malignant-Early-565.jpg', 'WBC-Malignant-Early-566.jpg', 'WBC-Malignant-Early-567.jpg', 'WBC-Malignant-Early-568.jpg', 'WBC-Malignant-Early-569.jpg', 'WBC-Malignant-Early-570.jpg', 'WBC-Malignant-Early-571.jpg', 'WBC-Malignant-Early-572.jpg', 'WBC-Malignant-Early-573.jpg', 'WBC-Malignant-Early-574.jpg', 'WBC-Malignant-Early-575.jpg', 'WBC-Malignant-Early-576.jpg', 'WBC-Malignant-Early-577.jpg', 'WBC-Malignant-Early-578.jpg', 'WBC-Malignant-Early-579.jpg', 'WBC-Malignant-Early-580.jpg', 'WBC-Malignant-Early-581.jpg', 'WBC-Malignant-Early-582.jpg', 'WBC-Malignant-Early-583.jpg', 'WBC-Malignant-Early-584.jpg', 'WBC-Malignant-Early-585.jpg', 'WBC-Malignant-Early-586.jpg', 'WBC-Malignant-Early-587.jpg', 'WBC-Malignant-Early-588.jpg', 'WBC-Malignant-Early-589.jpg', 'WBC-Malignant-Early-590.jpg', 'WBC-Malignant-Early-591.jpg', 'WBC-Malignant-Early-592.jpg', 'WBC-Malignant-Early-593.jpg', 'WBC-Malignant-Early-594.jpg', 'WBC-Malignant-Early-595.jpg', 'WBC-Malignant-Early-596.jpg', 'WBC-Malignant-Early-597.jpg', 'WBC-Malignant-Early-598.jpg', 'WBC-Malignant-Early-599.jpg', 'WBC-Malignant-Early-600.jpg', 'WBC-Malignant-Early-601.jpg', 'WBC-Malignant-Early-602.jpg', 'WBC-Malignant-Early-603.jpg', 'WBC-Malignant-Early-604.jpg', 'WBC-Malignant-Early-605.jpg', 'WBC-Malignant-Early-606.jpg', 'WBC-Malignant-Early-607.jpg', 'WBC-Malignant-Early-608.jpg', 'WBC-Malignant-Early-609.jpg', 'WBC-Malignant-Early-610.jpg', 'WBC-Malignant-Early-611.jpg', 'WBC-Malignant-Early-612.jpg', 'WBC-Malignant-Early-613.jpg', 'WBC-Malignant-Early-614.jpg', 'WBC-Malignant-Early-615.jpg', 'WBC-Malignant-Early-616.jpg', 'WBC-Malignant-Early-617.jpg', 'WBC-Malignant-Early-618.jpg', 'WBC-Malignant-Early-619.jpg', 'WBC-Malignant-Early-620.jpg', 'WBC-Malignant-Early-621.jpg', 'WBC-Malignant-Early-622.jpg', 'WBC-Malignant-Early-623.jpg', 'WBC-Malignant-Early-624.jpg', 'WBC-Malignant-Early-625.jpg', 'WBC-Malignant-Early-626.jpg', 'WBC-Malignant-Early-627.jpg', 'WBC-Malignant-Early-628.jpg', 'WBC-Malignant-Early-629.jpg', 'WBC-Malignant-Early-630.jpg', 'WBC-Malignant-Early-631.jpg', 'WBC-Malignant-Early-632.jpg', 'WBC-Malignant-Early-633.jpg', 'WBC-Malignant-Early-634.jpg', 'WBC-Malignant-Early-635.jpg', 'WBC-Malignant-Early-636.jpg', 'WBC-Malignant-Early-637.jpg', 'WBC-Malignant-Early-638.jpg', 'WBC-Malignant-Early-639.jpg', 'WBC-Malignant-Early-640.jpg', 'WBC-Malignant-Early-641.jpg', 'WBC-Malignant-Early-642.jpg', 'WBC-Malignant-Early-643.jpg', 'WBC-Malignant-Early-644.jpg', 'WBC-Malignant-Early-645.jpg', 'WBC-Malignant-Early-646.jpg', 'WBC-Malignant-Early-647.jpg', 'WBC-Malignant-Early-648.jpg', 'WBC-Malignant-Early-649.jpg', 'WBC-Malignant-Early-650.jpg', 'WBC-Malignant-Early-651.jpg', 'WBC-Malignant-Early-652.jpg', 'WBC-Malignant-Early-653.jpg', 'WBC-Malignant-Early-654.jpg', 'WBC-Malignant-Early-655.jpg', 'WBC-Malignant-Early-656.jpg', 'WBC-Malignant-Early-657.jpg', 'WBC-Malignant-Early-658.jpg', 'WBC-Malignant-Early-659.jpg', 'WBC-Malignant-Early-660.jpg', 'WBC-Malignant-Early-661.jpg', 'WBC-Malignant-Early-662.jpg', 'WBC-Malignant-Early-663.jpg', 'WBC-Malignant-Early-664.jpg', 'WBC-Malignant-Early-665.jpg', 'WBC-Malignant-Early-666.jpg', 'WBC-Malignant-Early-667.jpg', 'WBC-Malignant-Early-668.jpg', 'WBC-Malignant-Early-669.jpg', 'WBC-Malignant-Early-670.jpg', 'WBC-Malignant-Early-671.jpg', 'WBC-Malignant-Early-672.jpg', 'WBC-Malignant-Early-673.jpg', 'WBC-Malignant-Early-674.jpg', 'WBC-Malignant-Early-675.jpg', 'WBC-Malignant-Early-676.jpg', 'WBC-Malignant-Early-677.jpg', 'WBC-Malignant-Early-678.jpg', 'WBC-Malignant-Early-679.jpg', 'WBC-Malignant-Early-680.jpg', 'WBC-Malignant-Early-681.jpg', 'WBC-Malignant-Early-682.jpg', 'WBC-Malignant-Early-683.jpg', 'WBC-Malignant-Early-684.jpg', 'WBC-Malignant-Early-685.jpg', 'WBC-Malignant-Early-686.jpg', 'WBC-Malignant-Early-687.jpg', 'WBC-Malignant-Early-688.jpg', 'WBC-Malignant-Early-689.jpg', 'WBC-Malignant-Early-690.jpg', 'WBC-Malignant-Early-691.jpg', 'WBC-Malignant-Early-692.jpg', 'WBC-Malignant-Early-693.jpg', 'WBC-Malignant-Early-694.jpg', 'WBC-Malignant-Early-695.jpg', 'WBC-Malignant-Early-696.jpg', 'WBC-Malignant-Early-697.jpg', 'WBC-Malignant-Early-698.jpg', 'WBC-Malignant-Early-699.jpg', 'WBC-Malignant-Early-700.jpg', 'WBC-Malignant-Early-701.jpg', 'WBC-Malignant-Early-702.jpg', 'WBC-Malignant-Early-703.jpg', 'WBC-Malignant-Early-704.jpg', 'WBC-Malignant-Early-705.jpg', 'WBC-Malignant-Early-706.jpg', 'WBC-Malignant-Early-707.jpg', 'WBC-Malignant-Early-708.jpg', 'WBC-Malignant-Early-709.jpg', 'WBC-Malignant-Early-710.jpg', 'WBC-Malignant-Early-711.jpg', 'WBC-Malignant-Early-712.jpg', 'WBC-Malignant-Early-713.jpg', 'WBC-Malignant-Early-714.jpg', 'WBC-Malignant-Early-715.jpg', 'WBC-Malignant-Early-716.jpg', 'WBC-Malignant-Early-717.jpg', 'WBC-Malignant-Early-718.jpg', 'WBC-Malignant-Early-719.jpg', 'WBC-Malignant-Early-720.jpg', 'WBC-Malignant-Early-721.jpg', 'WBC-Malignant-Early-722.jpg', 'WBC-Malignant-Early-723.jpg', 'WBC-Malignant-Early-724.jpg', 'WBC-Malignant-Early-725.jpg', 'WBC-Malignant-Early-726.jpg', 'WBC-Malignant-Early-727.jpg', 'WBC-Malignant-Early-728.jpg', 'WBC-Malignant-Early-729.jpg', 'WBC-Malignant-Early-730.jpg', 'WBC-Malignant-Early-731.jpg', 'WBC-Malignant-Early-732.jpg', 'WBC-Malignant-Early-733.jpg', 'WBC-Malignant-Early-734.jpg', 'WBC-Malignant-Early-735.jpg', 'WBC-Malignant-Early-736.jpg', 'WBC-Malignant-Early-737.jpg', 'WBC-Malignant-Early-738.jpg', 'WBC-Malignant-Early-739.jpg', 'WBC-Malignant-Early-740.jpg', 'WBC-Malignant-Early-741.jpg', 'WBC-Malignant-Early-742.jpg', 'WBC-Malignant-Early-743.jpg', 'WBC-Malignant-Early-744.jpg', 'WBC-Malignant-Early-745.jpg', 'WBC-Malignant-Early-746.jpg', 'WBC-Malignant-Early-747.jpg', 'WBC-Malignant-Early-748.jpg', 'WBC-Malignant-Early-749.jpg', 'WBC-Malignant-Early-750.jpg', 'WBC-Malignant-Early-751.jpg', 'WBC-Malignant-Early-752.jpg', 'WBC-Malignant-Early-753.jpg', 'WBC-Malignant-Early-754.jpg', 'WBC-Malignant-Early-755.jpg', 'WBC-Malignant-Early-756.jpg', 'WBC-Malignant-Early-757.jpg', 'WBC-Malignant-Early-758.jpg', 'WBC-Malignant-Early-759.jpg', 'WBC-Malignant-Early-760.jpg', 'WBC-Malignant-Early-761.jpg', 'WBC-Malignant-Early-762.jpg', 'WBC-Malignant-Early-763.jpg', 'WBC-Malignant-Early-764.jpg', 'WBC-Malignant-Early-765.jpg', 'WBC-Malignant-Early-766.jpg', 'WBC-Malignant-Early-767.jpg', 'WBC-Malignant-Early-768.jpg', 'WBC-Malignant-Early-769.jpg', 'WBC-Malignant-Early-770.jpg', 'WBC-Malignant-Early-771.jpg', 'WBC-Malignant-Early-772.jpg', 'WBC-Malignant-Early-773.jpg', 'WBC-Malignant-Early-774.jpg', 'WBC-Malignant-Early-775.jpg', 'WBC-Malignant-Early-776.jpg', 'WBC-Malignant-Early-777.jpg', 'WBC-Malignant-Early-778.jpg', 'WBC-Malignant-Early-779.jpg', 'WBC-Malignant-Early-780.jpg', 'WBC-Malignant-Early-781.jpg', 'WBC-Malignant-Early-782.jpg', 'WBC-Malignant-Early-783.jpg', 'WBC-Malignant-Early-784.jpg', 'WBC-Malignant-Early-785.jpg', 'WBC-Malignant-Early-786.jpg', 'WBC-Malignant-Early-787.jpg', 'WBC-Malignant-Early-788.jpg', 'WBC-Malignant-Early-789.jpg', 'WBC-Malignant-Early-790.jpg', 'WBC-Malignant-Early-791.jpg', 'WBC-Malignant-Early-792.jpg', 'WBC-Malignant-Early-793.jpg', 'WBC-Malignant-Early-794.jpg', 'WBC-Malignant-Early-795.jpg', 'WBC-Malignant-Early-796.jpg', 'WBC-Malignant-Early-797.jpg', 'WBC-Malignant-Early-798.jpg', 'WBC-Malignant-Early-799.jpg', 'WBC-Malignant-Early-800.jpg', 'WBC-Malignant-Early-801.jpg', 'WBC-Malignant-Early-802.jpg', 'WBC-Malignant-Early-803.jpg', 'WBC-Malignant-Early-804.jpg', 'WBC-Malignant-Early-805.jpg', 'WBC-Malignant-Early-806.jpg', 'WBC-Malignant-Early-807.jpg', 'WBC-Malignant-Early-808.jpg', 'WBC-Malignant-Early-809.jpg', 'WBC-Malignant-Early-810.jpg', 'WBC-Malignant-Early-811.jpg', 'WBC-Malignant-Early-812.jpg', 'WBC-Malignant-Early-813.jpg', 'WBC-Malignant-Early-814.jpg', 'WBC-Malignant-Early-815.jpg', 'WBC-Malignant-Early-816.jpg', 'WBC-Malignant-Early-817.jpg', 'WBC-Malignant-Early-818.jpg', 'WBC-Malignant-Early-819.jpg', 'WBC-Malignant-Early-820.jpg', 'WBC-Malignant-Early-821.jpg', 'WBC-Malignant-Early-822.jpg', 'WBC-Malignant-Early-823.jpg', 'WBC-Malignant-Early-824.jpg', 'WBC-Malignant-Early-825.jpg', 'WBC-Malignant-Early-826.jpg', 'WBC-Malignant-Early-827.jpg', 'WBC-Malignant-Early-828.jpg', 'WBC-Malignant-Early-829.jpg', 'WBC-Malignant-Early-830.jpg', 'WBC-Malignant-Early-831.jpg', 'WBC-Malignant-Early-832.jpg', 'WBC-Malignant-Early-833.jpg', 'WBC-Malignant-Early-834.jpg', 'WBC-Malignant-Early-835.jpg', 'WBC-Malignant-Early-836.jpg', 'WBC-Malignant-Early-837.jpg', 'WBC-Malignant-Early-838.jpg', 'WBC-Malignant-Early-839.jpg', 'WBC-Malignant-Early-840.jpg', 'WBC-Malignant-Early-841.jpg', 'WBC-Malignant-Early-842.jpg', 'WBC-Malignant-Early-843.jpg', 'WBC-Malignant-Early-844.jpg', 'WBC-Malignant-Early-845.jpg', 'WBC-Malignant-Early-846.jpg', 'WBC-Malignant-Early-847.jpg', 'WBC-Malignant-Early-848.jpg', 'WBC-Malignant-Early-849.jpg', 'WBC-Malignant-Early-850.jpg', 'WBC-Malignant-Early-851.jpg', 'WBC-Malignant-Early-852.jpg', 'WBC-Malignant-Early-853.jpg', 'WBC-Malignant-Early-854.jpg', 'WBC-Malignant-Early-855.jpg', 'WBC-Malignant-Early-856.jpg', 'WBC-Malignant-Early-857.jpg', 'WBC-Malignant-Early-858.jpg', 'WBC-Malignant-Early-859.jpg', 'WBC-Malignant-Early-860.jpg', 'WBC-Malignant-Early-861.jpg', 'WBC-Malignant-Early-862.jpg', 'WBC-Malignant-Early-863.jpg', 'WBC-Malignant-Early-864.jpg', 'WBC-Malignant-Early-865.jpg', 'WBC-Malignant-Early-866.jpg', 'WBC-Malignant-Early-867.jpg', 'WBC-Malignant-Early-868.jpg', 'WBC-Malignant-Early-869.jpg', 'WBC-Malignant-Early-870.jpg', 'WBC-Malignant-Early-871.jpg', 'WBC-Malignant-Early-872.jpg', 'WBC-Malignant-Early-873.jpg', 'WBC-Malignant-Early-874.jpg', 'WBC-Malignant-Early-875.jpg', 'WBC-Malignant-Early-876.jpg', 'WBC-Malignant-Early-877.jpg', 'WBC-Malignant-Early-878.jpg', 'WBC-Malignant-Early-879.jpg', 'WBC-Malignant-Early-880.jpg', 'WBC-Malignant-Early-881.jpg', 'WBC-Malignant-Early-882.jpg', 'WBC-Malignant-Early-883.jpg', 'WBC-Malignant-Early-884.jpg', 'WBC-Malignant-Early-885.jpg', 'WBC-Malignant-Early-886.jpg', 'WBC-Malignant-Early-887.jpg', 'WBC-Malignant-Early-888.jpg', 'WBC-Malignant-Early-889.jpg', 'WBC-Malignant-Early-890.jpg', 'WBC-Malignant-Early-891.jpg', 'WBC-Malignant-Early-892.jpg', 'WBC-Malignant-Early-893.jpg', 'WBC-Malignant-Early-894.jpg', 'WBC-Malignant-Early-895.jpg', 'WBC-Malignant-Early-896.jpg', 'WBC-Malignant-Early-897.jpg', 'WBC-Malignant-Early-898.jpg', 'WBC-Malignant-Early-899.jpg', 'WBC-Malignant-Early-900.jpg', 'WBC-Malignant-Early-901.jpg', 'WBC-Malignant-Early-902.jpg', 'WBC-Malignant-Early-903.jpg', 'WBC-Malignant-Early-904.jpg', 'WBC-Malignant-Early-905.jpg', 'WBC-Malignant-Early-906.jpg', 'WBC-Malignant-Early-907.jpg', 'WBC-Malignant-Early-908.jpg', 'WBC-Malignant-Early-909.jpg', 'WBC-Malignant-Early-910.jpg', 'WBC-Malignant-Early-911.jpg', 'WBC-Malignant-Early-912.jpg', 'WBC-Malignant-Early-913.jpg', 'WBC-Malignant-Early-914.jpg', 'WBC-Malignant-Early-915.jpg', 'WBC-Malignant-Early-916.jpg', 'WBC-Malignant-Early-917.jpg', 'WBC-Malignant-Early-918.jpg', 'WBC-Malignant-Early-919.jpg', 'WBC-Malignant-Early-920.jpg', 'WBC-Malignant-Early-921.jpg', 'WBC-Malignant-Early-922.jpg', 'WBC-Malignant-Early-923.jpg', 'WBC-Malignant-Early-924.jpg', 'WBC-Malignant-Early-925.jpg', 'WBC-Malignant-Early-926.jpg', 'WBC-Malignant-Early-927.jpg', 'WBC-Malignant-Early-928.jpg', 'WBC-Malignant-Early-929.jpg', 'WBC-Malignant-Early-930.jpg', 'WBC-Malignant-Early-931.jpg', 'WBC-Malignant-Early-932.jpg', 'WBC-Malignant-Early-933.jpg', 'WBC-Malignant-Early-934.jpg', 'WBC-Malignant-Early-935.jpg', 'WBC-Malignant-Early-936.jpg', 'WBC-Malignant-Early-937.jpg', 'WBC-Malignant-Early-938.jpg', 'WBC-Malignant-Early-939.jpg', 'WBC-Malignant-Early-940.jpg', 'WBC-Malignant-Early-941.jpg', 'WBC-Malignant-Early-942.jpg', 'WBC-Malignant-Early-943.jpg', 'WBC-Malignant-Early-944.jpg', 'WBC-Malignant-Early-945.jpg', 'WBC-Malignant-Early-946.jpg', 'WBC-Malignant-Early-947.jpg', 'WBC-Malignant-Early-948.jpg', 'WBC-Malignant-Early-949.jpg', 'WBC-Malignant-Early-950.jpg', 'WBC-Malignant-Early-951.jpg', 'WBC-Malignant-Early-952.jpg', 'WBC-Malignant-Early-953.jpg', 'WBC-Malignant-Early-954.jpg', 'WBC-Malignant-Early-955.jpg', 'WBC-Malignant-Early-956.jpg', 'WBC-Malignant-Early-957.jpg', 'WBC-Malignant-Early-958.jpg', 'WBC-Malignant-Early-959.jpg', 'WBC-Malignant-Early-960.jpg', 'WBC-Malignant-Early-961.jpg', 'WBC-Malignant-Early-962.jpg', 'WBC-Malignant-Early-963.jpg', 'WBC-Malignant-Early-964.jpg', 'WBC-Malignant-Early-965.jpg', 'WBC-Malignant-Early-966.jpg', 'WBC-Malignant-Early-967.jpg', 'WBC-Malignant-Early-968.jpg', 'WBC-Malignant-Early-969.jpg', 'WBC-Malignant-Early-970.jpg', 'WBC-Malignant-Early-971.jpg', 'WBC-Malignant-Early-972.jpg', 'WBC-Malignant-Early-973.jpg', 'WBC-Malignant-Early-974.jpg', 'WBC-Malignant-Early-975.jpg', 'WBC-Malignant-Early-976.jpg', 'WBC-Malignant-Early-977.jpg', 'WBC-Malignant-Early-978.jpg', 'WBC-Malignant-Early-979.jpg', 'WBC-Malignant-Early-980.jpg', 'WBC-Malignant-Early-981.jpg', 'WBC-Malignant-Early-982.jpg', 'WBC-Malignant-Early-983.jpg', 'WBC-Malignant-Early-984.jpg', 'WBC-Malignant-Early-985.jpg']\n",
      "Pre\n",
      "['WBC-Malignant-Pre-002.jpg', 'WBC-Malignant-Pre-003.jpg', 'WBC-Malignant-Pre-004.jpg', 'WBC-Malignant-Pre-005.jpg', 'WBC-Malignant-Pre-006.jpg', 'WBC-Malignant-Pre-007.jpg', 'WBC-Malignant-Pre-008.jpg', 'WBC-Malignant-Pre-009.jpg', 'WBC-Malignant-Pre-011.jpg', 'WBC-Malignant-Pre-012.jpg', 'WBC-Malignant-Pre-013.jpg', 'WBC-Malignant-Pre-014.jpg', 'WBC-Malignant-Pre-015.jpg', 'WBC-Malignant-Pre-016.jpg', 'WBC-Malignant-Pre-017.jpg', 'WBC-Malignant-Pre-018.jpg', 'WBC-Malignant-Pre-019.jpg', 'WBC-Malignant-Pre-021.jpg', 'WBC-Malignant-Pre-022.jpg', 'WBC-Malignant-Pre-023.jpg', 'WBC-Malignant-Pre-024.jpg', 'WBC-Malignant-Pre-025.jpg', 'WBC-Malignant-Pre-026.jpg', 'WBC-Malignant-Pre-027.jpg', 'WBC-Malignant-Pre-028.jpg', 'WBC-Malignant-Pre-029.jpg', 'WBC-Malignant-Pre-031.jpg', 'WBC-Malignant-Pre-032.jpg', 'WBC-Malignant-Pre-033.jpg', 'WBC-Malignant-Pre-034.jpg', 'WBC-Malignant-Pre-035.jpg', 'WBC-Malignant-Pre-036.jpg', 'WBC-Malignant-Pre-037.jpg', 'WBC-Malignant-Pre-038.jpg', 'WBC-Malignant-Pre-039.jpg', 'WBC-Malignant-Pre-040.jpg', 'WBC-Malignant-Pre-041.jpg', 'WBC-Malignant-Pre-042.jpg', 'WBC-Malignant-Pre-043.jpg', 'WBC-Malignant-Pre-044.jpg', 'WBC-Malignant-Pre-045.jpg', 'WBC-Malignant-Pre-046.jpg', 'WBC-Malignant-Pre-047.jpg', 'WBC-Malignant-Pre-048.jpg', 'WBC-Malignant-Pre-049.jpg', 'WBC-Malignant-Pre-051.jpg', 'WBC-Malignant-Pre-052.jpg', 'WBC-Malignant-Pre-053.jpg', 'WBC-Malignant-Pre-054.jpg', 'WBC-Malignant-Pre-055.jpg', 'WBC-Malignant-Pre-056.jpg', 'WBC-Malignant-Pre-057.jpg', 'WBC-Malignant-Pre-058.jpg', 'WBC-Malignant-Pre-059.jpg', 'WBC-Malignant-Pre-061.jpg', 'WBC-Malignant-Pre-062.jpg', 'WBC-Malignant-Pre-063.jpg', 'WBC-Malignant-Pre-064.jpg', 'WBC-Malignant-Pre-065.jpg', 'WBC-Malignant-Pre-066.jpg', 'WBC-Malignant-Pre-067.jpg', 'WBC-Malignant-Pre-068.jpg', 'WBC-Malignant-Pre-069.jpg', 'WBC-Malignant-Pre-071.jpg', 'WBC-Malignant-Pre-072.jpg', 'WBC-Malignant-Pre-073.jpg', 'WBC-Malignant-Pre-074.jpg', 'WBC-Malignant-Pre-075.jpg', 'WBC-Malignant-Pre-076.jpg', 'WBC-Malignant-Pre-077.jpg', 'WBC-Malignant-Pre-078.jpg', 'WBC-Malignant-Pre-079.jpg', 'WBC-Malignant-Pre-081.jpg', 'WBC-Malignant-Pre-082.jpg', 'WBC-Malignant-Pre-083.jpg', 'WBC-Malignant-Pre-084.jpg', 'WBC-Malignant-Pre-085.jpg', 'WBC-Malignant-Pre-086.jpg', 'WBC-Malignant-Pre-087.jpg', 'WBC-Malignant-Pre-088.jpg', 'WBC-Malignant-Pre-089.jpg', 'WBC-Malignant-Pre-090.jpg', 'WBC-Malignant-Pre-091.jpg', 'WBC-Malignant-Pre-092.jpg', 'WBC-Malignant-Pre-093.jpg', 'WBC-Malignant-Pre-094.jpg', 'WBC-Malignant-Pre-095.jpg', 'WBC-Malignant-Pre-096.jpg', 'WBC-Malignant-Pre-097.jpg', 'WBC-Malignant-Pre-098.jpg', 'WBC-Malignant-Pre-099.jpg', 'WBC-Malignant-Pre-101.jpg', 'WBC-Malignant-Pre-102.jpg', 'WBC-Malignant-Pre-103.jpg', 'WBC-Malignant-Pre-104.jpg', 'WBC-Malignant-Pre-105.jpg', 'WBC-Malignant-Pre-106.jpg', 'WBC-Malignant-Pre-107.jpg', 'WBC-Malignant-Pre-108.jpg', 'WBC-Malignant-Pre-109.jpg', 'WBC-Malignant-Pre-111.jpg', 'WBC-Malignant-Pre-112.jpg', 'WBC-Malignant-Pre-113.jpg', 'WBC-Malignant-Pre-114.jpg', 'WBC-Malignant-Pre-115.jpg', 'WBC-Malignant-Pre-116.jpg', 'WBC-Malignant-Pre-117.jpg', 'WBC-Malignant-Pre-118.jpg', 'WBC-Malignant-Pre-119.jpg', 'WBC-Malignant-Pre-121.jpg', 'WBC-Malignant-Pre-122.jpg', 'WBC-Malignant-Pre-123.jpg', 'WBC-Malignant-Pre-124.jpg', 'WBC-Malignant-Pre-125.jpg', 'WBC-Malignant-Pre-126.jpg', 'WBC-Malignant-Pre-127.jpg', 'WBC-Malignant-Pre-128.jpg', 'WBC-Malignant-Pre-129.jpg', 'WBC-Malignant-Pre-131.jpg', 'WBC-Malignant-Pre-132.jpg', 'WBC-Malignant-Pre-133.jpg', 'WBC-Malignant-Pre-134.jpg', 'WBC-Malignant-Pre-135.jpg', 'WBC-Malignant-Pre-136.jpg', 'WBC-Malignant-Pre-137.jpg', 'WBC-Malignant-Pre-138.jpg', 'WBC-Malignant-Pre-139.jpg', 'WBC-Malignant-Pre-140.jpg', 'WBC-Malignant-Pre-141.jpg', 'WBC-Malignant-Pre-142.jpg', 'WBC-Malignant-Pre-143.jpg', 'WBC-Malignant-Pre-144.jpg', 'WBC-Malignant-Pre-145.jpg', 'WBC-Malignant-Pre-146.jpg', 'WBC-Malignant-Pre-147.jpg', 'WBC-Malignant-Pre-148.jpg', 'WBC-Malignant-Pre-149.jpg', 'WBC-Malignant-Pre-151.jpg', 'WBC-Malignant-Pre-152.jpg', 'WBC-Malignant-Pre-153.jpg', 'WBC-Malignant-Pre-154.jpg', 'WBC-Malignant-Pre-155.jpg', 'WBC-Malignant-Pre-156.jpg', 'WBC-Malignant-Pre-157.jpg', 'WBC-Malignant-Pre-158.jpg', 'WBC-Malignant-Pre-159.jpg', 'WBC-Malignant-Pre-161.jpg', 'WBC-Malignant-Pre-162.jpg', 'WBC-Malignant-Pre-163.jpg', 'WBC-Malignant-Pre-164.jpg', 'WBC-Malignant-Pre-165.jpg', 'WBC-Malignant-Pre-166.jpg', 'WBC-Malignant-Pre-167.jpg', 'WBC-Malignant-Pre-168.jpg', 'WBC-Malignant-Pre-169.jpg', 'WBC-Malignant-Pre-171.jpg', 'WBC-Malignant-Pre-172.jpg', 'WBC-Malignant-Pre-173.jpg', 'WBC-Malignant-Pre-174.jpg', 'WBC-Malignant-Pre-175.jpg', 'WBC-Malignant-Pre-176.jpg', 'WBC-Malignant-Pre-177.jpg', 'WBC-Malignant-Pre-178.jpg', 'WBC-Malignant-Pre-179.jpg', 'WBC-Malignant-Pre-181.jpg', 'WBC-Malignant-Pre-182.jpg', 'WBC-Malignant-Pre-183.jpg', 'WBC-Malignant-Pre-184.jpg', 'WBC-Malignant-Pre-185.jpg', 'WBC-Malignant-Pre-186.jpg', 'WBC-Malignant-Pre-187.jpg', 'WBC-Malignant-Pre-188.jpg', 'WBC-Malignant-Pre-189.jpg', 'WBC-Malignant-Pre-190.jpg', 'WBC-Malignant-Pre-191.jpg', 'WBC-Malignant-Pre-192.jpg', 'WBC-Malignant-Pre-193.jpg', 'WBC-Malignant-Pre-194.jpg', 'WBC-Malignant-Pre-195.jpg', 'WBC-Malignant-Pre-196.jpg', 'WBC-Malignant-Pre-197.jpg', 'WBC-Malignant-Pre-198.jpg', 'WBC-Malignant-Pre-199.jpg', 'WBC-Malignant-Pre-201.jpg', 'WBC-Malignant-Pre-202.jpg', 'WBC-Malignant-Pre-203.jpg', 'WBC-Malignant-Pre-204.jpg', 'WBC-Malignant-Pre-205.jpg', 'WBC-Malignant-Pre-206.jpg', 'WBC-Malignant-Pre-207.jpg', 'WBC-Malignant-Pre-208.jpg', 'WBC-Malignant-Pre-209.jpg', 'WBC-Malignant-Pre-211.jpg', 'WBC-Malignant-Pre-212.jpg', 'WBC-Malignant-Pre-213.jpg', 'WBC-Malignant-Pre-214.jpg', 'WBC-Malignant-Pre-215.jpg', 'WBC-Malignant-Pre-216.jpg', 'WBC-Malignant-Pre-217.jpg', 'WBC-Malignant-Pre-218.jpg', 'WBC-Malignant-Pre-219.jpg', 'WBC-Malignant-Pre-221.jpg', 'WBC-Malignant-Pre-222.jpg', 'WBC-Malignant-Pre-223.jpg', 'WBC-Malignant-Pre-224.jpg', 'WBC-Malignant-Pre-225.jpg', 'WBC-Malignant-Pre-226.jpg', 'WBC-Malignant-Pre-227.jpg', 'WBC-Malignant-Pre-228.jpg', 'WBC-Malignant-Pre-229.jpg', 'WBC-Malignant-Pre-231.jpg', 'WBC-Malignant-Pre-232.jpg', 'WBC-Malignant-Pre-233.jpg', 'WBC-Malignant-Pre-234.jpg', 'WBC-Malignant-Pre-235.jpg', 'WBC-Malignant-Pre-236.jpg', 'WBC-Malignant-Pre-237.jpg', 'WBC-Malignant-Pre-238.jpg', 'WBC-Malignant-Pre-239.jpg', 'WBC-Malignant-Pre-240.jpg', 'WBC-Malignant-Pre-241.jpg', 'WBC-Malignant-Pre-242.jpg', 'WBC-Malignant-Pre-243.jpg', 'WBC-Malignant-Pre-244.jpg', 'WBC-Malignant-Pre-245.jpg', 'WBC-Malignant-Pre-246.jpg', 'WBC-Malignant-Pre-247.jpg', 'WBC-Malignant-Pre-248.jpg', 'WBC-Malignant-Pre-249.jpg', 'WBC-Malignant-Pre-251.jpg', 'WBC-Malignant-Pre-252.jpg', 'WBC-Malignant-Pre-253.jpg', 'WBC-Malignant-Pre-254.jpg', 'WBC-Malignant-Pre-255.jpg', 'WBC-Malignant-Pre-256.jpg', 'WBC-Malignant-Pre-257.jpg', 'WBC-Malignant-Pre-258.jpg', 'WBC-Malignant-Pre-259.jpg', 'WBC-Malignant-Pre-261.jpg', 'WBC-Malignant-Pre-262.jpg', 'WBC-Malignant-Pre-263.jpg', 'WBC-Malignant-Pre-264.jpg', 'WBC-Malignant-Pre-265.jpg', 'WBC-Malignant-Pre-266.jpg', 'WBC-Malignant-Pre-267.jpg', 'WBC-Malignant-Pre-268.jpg', 'WBC-Malignant-Pre-269.jpg', 'WBC-Malignant-Pre-271.jpg', 'WBC-Malignant-Pre-272.jpg', 'WBC-Malignant-Pre-273.jpg', 'WBC-Malignant-Pre-274.jpg', 'WBC-Malignant-Pre-275.jpg', 'WBC-Malignant-Pre-276.jpg', 'WBC-Malignant-Pre-277.jpg', 'WBC-Malignant-Pre-278.jpg', 'WBC-Malignant-Pre-279.jpg', 'WBC-Malignant-Pre-281.jpg', 'WBC-Malignant-Pre-282.jpg', 'WBC-Malignant-Pre-283.jpg', 'WBC-Malignant-Pre-284.jpg', 'WBC-Malignant-Pre-285.jpg', 'WBC-Malignant-Pre-286.jpg', 'WBC-Malignant-Pre-287.jpg', 'WBC-Malignant-Pre-288.jpg', 'WBC-Malignant-Pre-289.jpg', 'WBC-Malignant-Pre-290.jpg', 'WBC-Malignant-Pre-291.jpg', 'WBC-Malignant-Pre-292.jpg', 'WBC-Malignant-Pre-293.jpg', 'WBC-Malignant-Pre-294.jpg', 'WBC-Malignant-Pre-295.jpg', 'WBC-Malignant-Pre-296.jpg', 'WBC-Malignant-Pre-297.jpg', 'WBC-Malignant-Pre-298.jpg', 'WBC-Malignant-Pre-299.jpg', 'WBC-Malignant-Pre-301.jpg', 'WBC-Malignant-Pre-302.jpg', 'WBC-Malignant-Pre-303.jpg', 'WBC-Malignant-Pre-304.jpg', 'WBC-Malignant-Pre-305.jpg', 'WBC-Malignant-Pre-306.jpg', 'WBC-Malignant-Pre-307.jpg', 'WBC-Malignant-Pre-308.jpg', 'WBC-Malignant-Pre-309.jpg', 'WBC-Malignant-Pre-311.jpg', 'WBC-Malignant-Pre-312.jpg', 'WBC-Malignant-Pre-313.jpg', 'WBC-Malignant-Pre-314.jpg', 'WBC-Malignant-Pre-315.jpg', 'WBC-Malignant-Pre-316.jpg', 'WBC-Malignant-Pre-317.jpg', 'WBC-Malignant-Pre-318.jpg', 'WBC-Malignant-Pre-319.jpg', 'WBC-Malignant-Pre-321.jpg', 'WBC-Malignant-Pre-322.jpg', 'WBC-Malignant-Pre-323.jpg', 'WBC-Malignant-Pre-324.jpg', 'WBC-Malignant-Pre-325.jpg', 'WBC-Malignant-Pre-326.jpg', 'WBC-Malignant-Pre-327.jpg', 'WBC-Malignant-Pre-328.jpg', 'WBC-Malignant-Pre-329.jpg', 'WBC-Malignant-Pre-331.jpg', 'WBC-Malignant-Pre-332.jpg', 'WBC-Malignant-Pre-333.jpg', 'WBC-Malignant-Pre-334.jpg', 'WBC-Malignant-Pre-335.jpg', 'WBC-Malignant-Pre-336.jpg', 'WBC-Malignant-Pre-337.jpg', 'WBC-Malignant-Pre-338.jpg', 'WBC-Malignant-Pre-339.jpg', 'WBC-Malignant-Pre-340.jpg', 'WBC-Malignant-Pre-341.jpg', 'WBC-Malignant-Pre-342.jpg', 'WBC-Malignant-Pre-343.jpg', 'WBC-Malignant-Pre-344.jpg', 'WBC-Malignant-Pre-345.jpg', 'WBC-Malignant-Pre-346.jpg', 'WBC-Malignant-Pre-347.jpg', 'WBC-Malignant-Pre-348.jpg', 'WBC-Malignant-Pre-349.jpg', 'WBC-Malignant-Pre-351.jpg', 'WBC-Malignant-Pre-352.jpg', 'WBC-Malignant-Pre-353.jpg', 'WBC-Malignant-Pre-354.jpg', 'WBC-Malignant-Pre-355.jpg', 'WBC-Malignant-Pre-356.jpg', 'WBC-Malignant-Pre-357.jpg', 'WBC-Malignant-Pre-358.jpg', 'WBC-Malignant-Pre-359.jpg', 'WBC-Malignant-Pre-361.jpg', 'WBC-Malignant-Pre-362.jpg', 'WBC-Malignant-Pre-363.jpg', 'WBC-Malignant-Pre-364.jpg', 'WBC-Malignant-Pre-365.jpg', 'WBC-Malignant-Pre-366.jpg', 'WBC-Malignant-Pre-367.jpg', 'WBC-Malignant-Pre-368.jpg', 'WBC-Malignant-Pre-369.jpg', 'WBC-Malignant-Pre-371.jpg', 'WBC-Malignant-Pre-372.jpg', 'WBC-Malignant-Pre-373.jpg', 'WBC-Malignant-Pre-374.jpg', 'WBC-Malignant-Pre-375.jpg', 'WBC-Malignant-Pre-376.jpg', 'WBC-Malignant-Pre-377.jpg', 'WBC-Malignant-Pre-378.jpg', 'WBC-Malignant-Pre-379.jpg', 'WBC-Malignant-Pre-381.jpg', 'WBC-Malignant-Pre-382.jpg', 'WBC-Malignant-Pre-383.jpg', 'WBC-Malignant-Pre-384.jpg', 'WBC-Malignant-Pre-385.jpg', 'WBC-Malignant-Pre-386.jpg', 'WBC-Malignant-Pre-387.jpg', 'WBC-Malignant-Pre-388.jpg', 'WBC-Malignant-Pre-389.jpg', 'WBC-Malignant-Pre-390.jpg', 'WBC-Malignant-Pre-391.jpg', 'WBC-Malignant-Pre-392.jpg', 'WBC-Malignant-Pre-393.jpg', 'WBC-Malignant-Pre-394.jpg', 'WBC-Malignant-Pre-395.jpg', 'WBC-Malignant-Pre-396.jpg', 'WBC-Malignant-Pre-397.jpg', 'WBC-Malignant-Pre-398.jpg', 'WBC-Malignant-Pre-399.jpg', 'WBC-Malignant-Pre-401.jpg', 'WBC-Malignant-Pre-402.jpg', 'WBC-Malignant-Pre-403.jpg', 'WBC-Malignant-Pre-404.jpg', 'WBC-Malignant-Pre-405.jpg', 'WBC-Malignant-Pre-406.jpg', 'WBC-Malignant-Pre-407.jpg', 'WBC-Malignant-Pre-408.jpg', 'WBC-Malignant-Pre-409.jpg', 'WBC-Malignant-Pre-411.jpg', 'WBC-Malignant-Pre-412.jpg', 'WBC-Malignant-Pre-413.jpg', 'WBC-Malignant-Pre-414.jpg', 'WBC-Malignant-Pre-415.jpg', 'WBC-Malignant-Pre-416.jpg', 'WBC-Malignant-Pre-417.jpg', 'WBC-Malignant-Pre-418.jpg', 'WBC-Malignant-Pre-419.jpg', 'WBC-Malignant-Pre-421.jpg', 'WBC-Malignant-Pre-422.jpg', 'WBC-Malignant-Pre-423.jpg', 'WBC-Malignant-Pre-424.jpg', 'WBC-Malignant-Pre-425.jpg', 'WBC-Malignant-Pre-426.jpg', 'WBC-Malignant-Pre-427.jpg', 'WBC-Malignant-Pre-428.jpg', 'WBC-Malignant-Pre-429.jpg', 'WBC-Malignant-Pre-431.jpg', 'WBC-Malignant-Pre-432.jpg', 'WBC-Malignant-Pre-433.jpg', 'WBC-Malignant-Pre-434.jpg', 'WBC-Malignant-Pre-435.jpg', 'WBC-Malignant-Pre-436.jpg', 'WBC-Malignant-Pre-437.jpg', 'WBC-Malignant-Pre-438.jpg', 'WBC-Malignant-Pre-439.jpg', 'WBC-Malignant-Pre-440.jpg', 'WBC-Malignant-Pre-441.jpg', 'WBC-Malignant-Pre-442.jpg', 'WBC-Malignant-Pre-443.jpg', 'WBC-Malignant-Pre-444.jpg', 'WBC-Malignant-Pre-445.jpg', 'WBC-Malignant-Pre-446.jpg', 'WBC-Malignant-Pre-447.jpg', 'WBC-Malignant-Pre-448.jpg', 'WBC-Malignant-Pre-449.jpg', 'WBC-Malignant-Pre-451.jpg', 'WBC-Malignant-Pre-452.jpg', 'WBC-Malignant-Pre-453.jpg', 'WBC-Malignant-Pre-454.jpg', 'WBC-Malignant-Pre-455.jpg', 'WBC-Malignant-Pre-456.jpg', 'WBC-Malignant-Pre-457.jpg', 'WBC-Malignant-Pre-458.jpg', 'WBC-Malignant-Pre-459.jpg', 'WBC-Malignant-Pre-461.jpg', 'WBC-Malignant-Pre-462.jpg', 'WBC-Malignant-Pre-463.jpg', 'WBC-Malignant-Pre-464.jpg', 'WBC-Malignant-Pre-465.jpg', 'WBC-Malignant-Pre-466.jpg', 'WBC-Malignant-Pre-467.jpg', 'WBC-Malignant-Pre-468.jpg', 'WBC-Malignant-Pre-469.jpg', 'WBC-Malignant-Pre-471.jpg', 'WBC-Malignant-Pre-472.jpg', 'WBC-Malignant-Pre-473.jpg', 'WBC-Malignant-Pre-474.jpg', 'WBC-Malignant-Pre-475.jpg', 'WBC-Malignant-Pre-476.jpg', 'WBC-Malignant-Pre-477.jpg', 'WBC-Malignant-Pre-478.jpg', 'WBC-Malignant-Pre-479.jpg', 'WBC-Malignant-Pre-481.jpg', 'WBC-Malignant-Pre-482.jpg', 'WBC-Malignant-Pre-483.jpg', 'WBC-Malignant-Pre-484.jpg', 'WBC-Malignant-Pre-485.jpg', 'WBC-Malignant-Pre-486.jpg', 'WBC-Malignant-Pre-487.jpg', 'WBC-Malignant-Pre-488.jpg', 'WBC-Malignant-Pre-489.jpg', 'WBC-Malignant-Pre-490.jpg', 'WBC-Malignant-Pre-491.jpg', 'WBC-Malignant-Pre-492.jpg', 'WBC-Malignant-Pre-493.jpg', 'WBC-Malignant-Pre-494.jpg', 'WBC-Malignant-Pre-495.jpg', 'WBC-Malignant-Pre-496.jpg', 'WBC-Malignant-Pre-497.jpg', 'WBC-Malignant-Pre-498.jpg', 'WBC-Malignant-Pre-499.jpg', 'WBC-Malignant-Pre-500.jpg', 'WBC-Malignant-Pre-501.jpg', 'WBC-Malignant-Pre-502.jpg', 'WBC-Malignant-Pre-503.jpg', 'WBC-Malignant-Pre-504.jpg', 'WBC-Malignant-Pre-505.jpg', 'WBC-Malignant-Pre-506.jpg', 'WBC-Malignant-Pre-507.jpg', 'WBC-Malignant-Pre-508.jpg', 'WBC-Malignant-Pre-509.jpg', 'WBC-Malignant-Pre-510.jpg', 'WBC-Malignant-Pre-511.jpg', 'WBC-Malignant-Pre-512.jpg', 'WBC-Malignant-Pre-513.jpg', 'WBC-Malignant-Pre-514.jpg', 'WBC-Malignant-Pre-515.jpg', 'WBC-Malignant-Pre-516.jpg', 'WBC-Malignant-Pre-517.jpg', 'WBC-Malignant-Pre-518.jpg', 'WBC-Malignant-Pre-519.jpg', 'WBC-Malignant-Pre-520.jpg', 'WBC-Malignant-Pre-521.jpg', 'WBC-Malignant-Pre-522.jpg', 'WBC-Malignant-Pre-523.jpg', 'WBC-Malignant-Pre-524.jpg', 'WBC-Malignant-Pre-525.jpg', 'WBC-Malignant-Pre-526.jpg', 'WBC-Malignant-Pre-527.jpg', 'WBC-Malignant-Pre-528.jpg', 'WBC-Malignant-Pre-529.jpg', 'WBC-Malignant-Pre-530.jpg', 'WBC-Malignant-Pre-531.jpg', 'WBC-Malignant-Pre-532.jpg', 'WBC-Malignant-Pre-533.jpg', 'WBC-Malignant-Pre-534.jpg', 'WBC-Malignant-Pre-535.jpg', 'WBC-Malignant-Pre-536.jpg', 'WBC-Malignant-Pre-537.jpg', 'WBC-Malignant-Pre-538.jpg', 'WBC-Malignant-Pre-539.jpg', 'WBC-Malignant-Pre-540.jpg', 'WBC-Malignant-Pre-541.jpg', 'WBC-Malignant-Pre-542.jpg', 'WBC-Malignant-Pre-543.jpg', 'WBC-Malignant-Pre-544.jpg', 'WBC-Malignant-Pre-545.jpg', 'WBC-Malignant-Pre-546.jpg', 'WBC-Malignant-Pre-547.jpg', 'WBC-Malignant-Pre-548.jpg', 'WBC-Malignant-Pre-549.jpg', 'WBC-Malignant-Pre-550.jpg', 'WBC-Malignant-Pre-551.jpg', 'WBC-Malignant-Pre-552.jpg', 'WBC-Malignant-Pre-553.jpg', 'WBC-Malignant-Pre-554.jpg', 'WBC-Malignant-Pre-555.jpg', 'WBC-Malignant-Pre-556.jpg', 'WBC-Malignant-Pre-557.jpg', 'WBC-Malignant-Pre-558.jpg', 'WBC-Malignant-Pre-559.jpg', 'WBC-Malignant-Pre-560.jpg', 'WBC-Malignant-Pre-561.jpg', 'WBC-Malignant-Pre-562.jpg', 'WBC-Malignant-Pre-563.jpg', 'WBC-Malignant-Pre-564.jpg', 'WBC-Malignant-Pre-565.jpg', 'WBC-Malignant-Pre-566.jpg', 'WBC-Malignant-Pre-567.jpg', 'WBC-Malignant-Pre-568.jpg', 'WBC-Malignant-Pre-569.jpg', 'WBC-Malignant-Pre-570.jpg', 'WBC-Malignant-Pre-571.jpg', 'WBC-Malignant-Pre-572.jpg', 'WBC-Malignant-Pre-573.jpg', 'WBC-Malignant-Pre-574.jpg', 'WBC-Malignant-Pre-575.jpg', 'WBC-Malignant-Pre-576.jpg', 'WBC-Malignant-Pre-577.jpg', 'WBC-Malignant-Pre-578.jpg', 'WBC-Malignant-Pre-579.jpg', 'WBC-Malignant-Pre-580.jpg', 'WBC-Malignant-Pre-581.jpg', 'WBC-Malignant-Pre-582.jpg', 'WBC-Malignant-Pre-583.jpg', 'WBC-Malignant-Pre-584.jpg', 'WBC-Malignant-Pre-585.jpg', 'WBC-Malignant-Pre-586.jpg', 'WBC-Malignant-Pre-587.jpg', 'WBC-Malignant-Pre-588.jpg', 'WBC-Malignant-Pre-589.jpg', 'WBC-Malignant-Pre-590.jpg', 'WBC-Malignant-Pre-591.jpg', 'WBC-Malignant-Pre-592.jpg', 'WBC-Malignant-Pre-593.jpg', 'WBC-Malignant-Pre-594.jpg', 'WBC-Malignant-Pre-595.jpg', 'WBC-Malignant-Pre-596.jpg', 'WBC-Malignant-Pre-597.jpg', 'WBC-Malignant-Pre-598.jpg', 'WBC-Malignant-Pre-599.jpg', 'WBC-Malignant-Pre-600.jpg', 'WBC-Malignant-Pre-601.jpg', 'WBC-Malignant-Pre-602.jpg', 'WBC-Malignant-Pre-603.jpg', 'WBC-Malignant-Pre-604.jpg', 'WBC-Malignant-Pre-605.jpg', 'WBC-Malignant-Pre-606.jpg', 'WBC-Malignant-Pre-607.jpg', 'WBC-Malignant-Pre-608.jpg', 'WBC-Malignant-Pre-609.jpg', 'WBC-Malignant-Pre-610.jpg', 'WBC-Malignant-Pre-611.jpg', 'WBC-Malignant-Pre-612.jpg', 'WBC-Malignant-Pre-613.jpg', 'WBC-Malignant-Pre-614.jpg', 'WBC-Malignant-Pre-615.jpg', 'WBC-Malignant-Pre-616.jpg', 'WBC-Malignant-Pre-617.jpg', 'WBC-Malignant-Pre-618.jpg', 'WBC-Malignant-Pre-619.jpg', 'WBC-Malignant-Pre-620.jpg', 'WBC-Malignant-Pre-621.jpg', 'WBC-Malignant-Pre-622.jpg', 'WBC-Malignant-Pre-623.jpg', 'WBC-Malignant-Pre-624.jpg', 'WBC-Malignant-Pre-625.jpg', 'WBC-Malignant-Pre-626.jpg', 'WBC-Malignant-Pre-627.jpg', 'WBC-Malignant-Pre-628.jpg', 'WBC-Malignant-Pre-629.jpg', 'WBC-Malignant-Pre-630.jpg', 'WBC-Malignant-Pre-631.jpg', 'WBC-Malignant-Pre-632.jpg', 'WBC-Malignant-Pre-633.jpg', 'WBC-Malignant-Pre-634.jpg', 'WBC-Malignant-Pre-635.jpg', 'WBC-Malignant-Pre-636.jpg', 'WBC-Malignant-Pre-637.jpg', 'WBC-Malignant-Pre-638.jpg', 'WBC-Malignant-Pre-639.jpg', 'WBC-Malignant-Pre-640.jpg', 'WBC-Malignant-Pre-641.jpg', 'WBC-Malignant-Pre-642.jpg', 'WBC-Malignant-Pre-643.jpg', 'WBC-Malignant-Pre-644.jpg', 'WBC-Malignant-Pre-645.jpg', 'WBC-Malignant-Pre-646.jpg', 'WBC-Malignant-Pre-647.jpg', 'WBC-Malignant-Pre-648.jpg', 'WBC-Malignant-Pre-649.jpg', 'WBC-Malignant-Pre-650.jpg', 'WBC-Malignant-Pre-651.jpg', 'WBC-Malignant-Pre-652.jpg', 'WBC-Malignant-Pre-653.jpg', 'WBC-Malignant-Pre-654.jpg', 'WBC-Malignant-Pre-655.jpg', 'WBC-Malignant-Pre-656.jpg', 'WBC-Malignant-Pre-657.jpg', 'WBC-Malignant-Pre-658.jpg', 'WBC-Malignant-Pre-659.jpg', 'WBC-Malignant-Pre-660.jpg', 'WBC-Malignant-Pre-661.jpg', 'WBC-Malignant-Pre-662.jpg', 'WBC-Malignant-Pre-663.jpg', 'WBC-Malignant-Pre-664.jpg', 'WBC-Malignant-Pre-665.jpg', 'WBC-Malignant-Pre-666.jpg', 'WBC-Malignant-Pre-667.jpg', 'WBC-Malignant-Pre-668.jpg', 'WBC-Malignant-Pre-669.jpg', 'WBC-Malignant-Pre-670.jpg', 'WBC-Malignant-Pre-671.jpg', 'WBC-Malignant-Pre-672.jpg', 'WBC-Malignant-Pre-673.jpg', 'WBC-Malignant-Pre-674.jpg', 'WBC-Malignant-Pre-675.jpg', 'WBC-Malignant-Pre-676.jpg', 'WBC-Malignant-Pre-677.jpg', 'WBC-Malignant-Pre-678.jpg', 'WBC-Malignant-Pre-679.jpg', 'WBC-Malignant-Pre-680.jpg', 'WBC-Malignant-Pre-681.jpg', 'WBC-Malignant-Pre-682.jpg', 'WBC-Malignant-Pre-683.jpg', 'WBC-Malignant-Pre-684.jpg', 'WBC-Malignant-Pre-685.jpg', 'WBC-Malignant-Pre-686.jpg', 'WBC-Malignant-Pre-687.jpg', 'WBC-Malignant-Pre-688.jpg', 'WBC-Malignant-Pre-689.jpg', 'WBC-Malignant-Pre-690.jpg', 'WBC-Malignant-Pre-691.jpg', 'WBC-Malignant-Pre-692.jpg', 'WBC-Malignant-Pre-693.jpg', 'WBC-Malignant-Pre-694.jpg', 'WBC-Malignant-Pre-695.jpg', 'WBC-Malignant-Pre-696.jpg', 'WBC-Malignant-Pre-697.jpg', 'WBC-Malignant-Pre-698.jpg', 'WBC-Malignant-Pre-699.jpg', 'WBC-Malignant-Pre-700.jpg', 'WBC-Malignant-Pre-701.jpg', 'WBC-Malignant-Pre-702.jpg', 'WBC-Malignant-Pre-703.jpg', 'WBC-Malignant-Pre-704.jpg', 'WBC-Malignant-Pre-705.jpg', 'WBC-Malignant-Pre-706.jpg', 'WBC-Malignant-Pre-707.jpg', 'WBC-Malignant-Pre-708.jpg', 'WBC-Malignant-Pre-709.jpg', 'WBC-Malignant-Pre-710.jpg', 'WBC-Malignant-Pre-711.jpg', 'WBC-Malignant-Pre-712.jpg', 'WBC-Malignant-Pre-713.jpg', 'WBC-Malignant-Pre-714.jpg', 'WBC-Malignant-Pre-715.jpg', 'WBC-Malignant-Pre-716.jpg', 'WBC-Malignant-Pre-717.jpg', 'WBC-Malignant-Pre-718.jpg', 'WBC-Malignant-Pre-719.jpg', 'WBC-Malignant-Pre-720.jpg', 'WBC-Malignant-Pre-721.jpg', 'WBC-Malignant-Pre-722.jpg', 'WBC-Malignant-Pre-723.jpg', 'WBC-Malignant-Pre-724.jpg', 'WBC-Malignant-Pre-725.jpg', 'WBC-Malignant-Pre-726.jpg', 'WBC-Malignant-Pre-727.jpg', 'WBC-Malignant-Pre-728.jpg', 'WBC-Malignant-Pre-729.jpg', 'WBC-Malignant-Pre-730.jpg', 'WBC-Malignant-Pre-731.jpg', 'WBC-Malignant-Pre-732.jpg', 'WBC-Malignant-Pre-733.jpg', 'WBC-Malignant-Pre-734.jpg', 'WBC-Malignant-Pre-735.jpg', 'WBC-Malignant-Pre-736.jpg', 'WBC-Malignant-Pre-737.jpg', 'WBC-Malignant-Pre-738.jpg', 'WBC-Malignant-Pre-739.jpg', 'WBC-Malignant-Pre-740.jpg', 'WBC-Malignant-Pre-741.jpg', 'WBC-Malignant-Pre-742.jpg', 'WBC-Malignant-Pre-743.jpg', 'WBC-Malignant-Pre-744.jpg', 'WBC-Malignant-Pre-745.jpg', 'WBC-Malignant-Pre-746.jpg', 'WBC-Malignant-Pre-747.jpg', 'WBC-Malignant-Pre-748.jpg', 'WBC-Malignant-Pre-749.jpg', 'WBC-Malignant-Pre-750.jpg', 'WBC-Malignant-Pre-751.jpg', 'WBC-Malignant-Pre-752.jpg', 'WBC-Malignant-Pre-753.jpg', 'WBC-Malignant-Pre-754.jpg', 'WBC-Malignant-Pre-755.jpg', 'WBC-Malignant-Pre-756.jpg', 'WBC-Malignant-Pre-757.jpg', 'WBC-Malignant-Pre-758.jpg', 'WBC-Malignant-Pre-759.jpg', 'WBC-Malignant-Pre-760.jpg', 'WBC-Malignant-Pre-761.jpg', 'WBC-Malignant-Pre-762.jpg', 'WBC-Malignant-Pre-763.jpg', 'WBC-Malignant-Pre-764.jpg', 'WBC-Malignant-Pre-765.jpg', 'WBC-Malignant-Pre-766.jpg', 'WBC-Malignant-Pre-767.jpg', 'WBC-Malignant-Pre-768.jpg', 'WBC-Malignant-Pre-769.jpg', 'WBC-Malignant-Pre-770.jpg', 'WBC-Malignant-Pre-771.jpg', 'WBC-Malignant-Pre-772.jpg', 'WBC-Malignant-Pre-773.jpg', 'WBC-Malignant-Pre-774.jpg', 'WBC-Malignant-Pre-775.jpg', 'WBC-Malignant-Pre-776.jpg', 'WBC-Malignant-Pre-777.jpg', 'WBC-Malignant-Pre-778.jpg', 'WBC-Malignant-Pre-779.jpg', 'WBC-Malignant-Pre-780.jpg', 'WBC-Malignant-Pre-781.jpg', 'WBC-Malignant-Pre-782.jpg', 'WBC-Malignant-Pre-783.jpg', 'WBC-Malignant-Pre-784.jpg', 'WBC-Malignant-Pre-785.jpg', 'WBC-Malignant-Pre-786.jpg', 'WBC-Malignant-Pre-787.jpg', 'WBC-Malignant-Pre-788.jpg', 'WBC-Malignant-Pre-789.jpg', 'WBC-Malignant-Pre-790.jpg', 'WBC-Malignant-Pre-791.jpg', 'WBC-Malignant-Pre-792.jpg', 'WBC-Malignant-Pre-793.jpg', 'WBC-Malignant-Pre-794.jpg', 'WBC-Malignant-Pre-795.jpg', 'WBC-Malignant-Pre-796.jpg', 'WBC-Malignant-Pre-797.jpg', 'WBC-Malignant-Pre-798.jpg', 'WBC-Malignant-Pre-799.jpg', 'WBC-Malignant-Pre-800.jpg', 'WBC-Malignant-Pre-801.jpg', 'WBC-Malignant-Pre-802.jpg', 'WBC-Malignant-Pre-803.jpg', 'WBC-Malignant-Pre-804.jpg', 'WBC-Malignant-Pre-805.jpg', 'WBC-Malignant-Pre-806.jpg', 'WBC-Malignant-Pre-807.jpg', 'WBC-Malignant-Pre-808.jpg', 'WBC-Malignant-Pre-809.jpg', 'WBC-Malignant-Pre-810.jpg', 'WBC-Malignant-Pre-811.jpg', 'WBC-Malignant-Pre-812.jpg', 'WBC-Malignant-Pre-813.jpg', 'WBC-Malignant-Pre-814.jpg', 'WBC-Malignant-Pre-815.jpg', 'WBC-Malignant-Pre-816.jpg', 'WBC-Malignant-Pre-817.jpg', 'WBC-Malignant-Pre-818.jpg', 'WBC-Malignant-Pre-819.jpg', 'WBC-Malignant-Pre-820.jpg', 'WBC-Malignant-Pre-821.jpg', 'WBC-Malignant-Pre-822.jpg', 'WBC-Malignant-Pre-823.jpg', 'WBC-Malignant-Pre-824.jpg', 'WBC-Malignant-Pre-825.jpg', 'WBC-Malignant-Pre-826.jpg', 'WBC-Malignant-Pre-827.jpg', 'WBC-Malignant-Pre-828.jpg', 'WBC-Malignant-Pre-829.jpg', 'WBC-Malignant-Pre-830.jpg', 'WBC-Malignant-Pre-831.jpg', 'WBC-Malignant-Pre-832.jpg', 'WBC-Malignant-Pre-833.jpg', 'WBC-Malignant-Pre-834.jpg', 'WBC-Malignant-Pre-835.jpg', 'WBC-Malignant-Pre-836.jpg', 'WBC-Malignant-Pre-837.jpg', 'WBC-Malignant-Pre-838.jpg', 'WBC-Malignant-Pre-839.jpg', 'WBC-Malignant-Pre-840.jpg', 'WBC-Malignant-Pre-841.jpg', 'WBC-Malignant-Pre-842.jpg', 'WBC-Malignant-Pre-843.jpg', 'WBC-Malignant-Pre-844.jpg', 'WBC-Malignant-Pre-845.jpg', 'WBC-Malignant-Pre-846.jpg', 'WBC-Malignant-Pre-847.jpg', 'WBC-Malignant-Pre-848.jpg', 'WBC-Malignant-Pre-849.jpg', 'WBC-Malignant-Pre-850.jpg', 'WBC-Malignant-Pre-851.jpg', 'WBC-Malignant-Pre-852.jpg', 'WBC-Malignant-Pre-853.jpg', 'WBC-Malignant-Pre-854.jpg', 'WBC-Malignant-Pre-855.jpg', 'WBC-Malignant-Pre-856.jpg', 'WBC-Malignant-Pre-857.jpg', 'WBC-Malignant-Pre-858.jpg', 'WBC-Malignant-Pre-859.jpg', 'WBC-Malignant-Pre-860.jpg', 'WBC-Malignant-Pre-861.jpg', 'WBC-Malignant-Pre-862.jpg', 'WBC-Malignant-Pre-863.jpg', 'WBC-Malignant-Pre-864.jpg', 'WBC-Malignant-Pre-865.jpg', 'WBC-Malignant-Pre-866.jpg', 'WBC-Malignant-Pre-867.jpg', 'WBC-Malignant-Pre-868.jpg', 'WBC-Malignant-Pre-869.jpg', 'WBC-Malignant-Pre-870.jpg', 'WBC-Malignant-Pre-871.jpg', 'WBC-Malignant-Pre-872.jpg', 'WBC-Malignant-Pre-873.jpg', 'WBC-Malignant-Pre-874.jpg', 'WBC-Malignant-Pre-875.jpg', 'WBC-Malignant-Pre-876.jpg', 'WBC-Malignant-Pre-877.jpg', 'WBC-Malignant-Pre-878.jpg', 'WBC-Malignant-Pre-879.jpg', 'WBC-Malignant-Pre-880.jpg', 'WBC-Malignant-Pre-881.jpg', 'WBC-Malignant-Pre-882.jpg', 'WBC-Malignant-Pre-883.jpg', 'WBC-Malignant-Pre-884.jpg', 'WBC-Malignant-Pre-885.jpg', 'WBC-Malignant-Pre-886.jpg', 'WBC-Malignant-Pre-887.jpg', 'WBC-Malignant-Pre-888.jpg', 'WBC-Malignant-Pre-889.jpg', 'WBC-Malignant-Pre-890.jpg', 'WBC-Malignant-Pre-891.jpg', 'WBC-Malignant-Pre-892.jpg', 'WBC-Malignant-Pre-893.jpg', 'WBC-Malignant-Pre-894.jpg', 'WBC-Malignant-Pre-895.jpg', 'WBC-Malignant-Pre-896.jpg', 'WBC-Malignant-Pre-897.jpg', 'WBC-Malignant-Pre-898.jpg', 'WBC-Malignant-Pre-899.jpg', 'WBC-Malignant-Pre-900.jpg', 'WBC-Malignant-Pre-901.jpg', 'WBC-Malignant-Pre-902.jpg', 'WBC-Malignant-Pre-903.jpg', 'WBC-Malignant-Pre-904.jpg', 'WBC-Malignant-Pre-905.jpg', 'WBC-Malignant-Pre-906.jpg', 'WBC-Malignant-Pre-907.jpg', 'WBC-Malignant-Pre-908.jpg', 'WBC-Malignant-Pre-909.jpg', 'WBC-Malignant-Pre-910.jpg', 'WBC-Malignant-Pre-911.jpg', 'WBC-Malignant-Pre-912.jpg', 'WBC-Malignant-Pre-913.jpg', 'WBC-Malignant-Pre-914.jpg', 'WBC-Malignant-Pre-915.jpg', 'WBC-Malignant-Pre-916.jpg', 'WBC-Malignant-Pre-917.jpg', 'WBC-Malignant-Pre-918.jpg', 'WBC-Malignant-Pre-919.jpg', 'WBC-Malignant-Pre-920.jpg', 'WBC-Malignant-Pre-921.jpg', 'WBC-Malignant-Pre-922.jpg', 'WBC-Malignant-Pre-923.jpg', 'WBC-Malignant-Pre-924.jpg', 'WBC-Malignant-Pre-925.jpg', 'WBC-Malignant-Pre-926.jpg', 'WBC-Malignant-Pre-927.jpg', 'WBC-Malignant-Pre-928.jpg', 'WBC-Malignant-Pre-929.jpg', 'WBC-Malignant-Pre-930.jpg', 'WBC-Malignant-Pre-931.jpg', 'WBC-Malignant-Pre-932.jpg', 'WBC-Malignant-Pre-933.jpg', 'WBC-Malignant-Pre-934.jpg', 'WBC-Malignant-Pre-935.jpg', 'WBC-Malignant-Pre-936.jpg', 'WBC-Malignant-Pre-937.jpg', 'WBC-Malignant-Pre-938.jpg', 'WBC-Malignant-Pre-939.jpg', 'WBC-Malignant-Pre-940.jpg', 'WBC-Malignant-Pre-941.jpg', 'WBC-Malignant-Pre-942.jpg', 'WBC-Malignant-Pre-943.jpg', 'WBC-Malignant-Pre-944.jpg', 'WBC-Malignant-Pre-945.jpg', 'WBC-Malignant-Pre-946.jpg', 'WBC-Malignant-Pre-947.jpg', 'WBC-Malignant-Pre-948.jpg', 'WBC-Malignant-Pre-949.jpg', 'WBC-Malignant-Pre-950.jpg', 'WBC-Malignant-Pre-951.jpg', 'WBC-Malignant-Pre-952.jpg', 'WBC-Malignant-Pre-953.jpg', 'WBC-Malignant-Pre-954.jpg', 'WBC-Malignant-Pre-955.jpg', 'WBC-Malignant-Pre-956.jpg', 'WBC-Malignant-Pre-957.jpg', 'WBC-Malignant-Pre-958.jpg', 'WBC-Malignant-Pre-959.jpg', 'WBC-Malignant-Pre-960.jpg', 'WBC-Malignant-Pre-961.jpg', 'WBC-Malignant-Pre-962.jpg', 'WBC-Malignant-Pre-963.jpg']\n",
      "Pro\n",
      "['WBC-Malignant-Pro-002.jpg', 'WBC-Malignant-Pro-003.jpg', 'WBC-Malignant-Pro-004.jpg', 'WBC-Malignant-Pro-005.jpg', 'WBC-Malignant-Pro-006.jpg', 'WBC-Malignant-Pro-007.jpg', 'WBC-Malignant-Pro-008.jpg', 'WBC-Malignant-Pro-009.jpg', 'WBC-Malignant-Pro-011.jpg', 'WBC-Malignant-Pro-012.jpg', 'WBC-Malignant-Pro-013.jpg', 'WBC-Malignant-Pro-014.jpg', 'WBC-Malignant-Pro-015.jpg', 'WBC-Malignant-Pro-016.jpg', 'WBC-Malignant-Pro-017.jpg', 'WBC-Malignant-Pro-018.jpg', 'WBC-Malignant-Pro-019.jpg', 'WBC-Malignant-Pro-021.jpg', 'WBC-Malignant-Pro-022.jpg', 'WBC-Malignant-Pro-023.jpg', 'WBC-Malignant-Pro-024.jpg', 'WBC-Malignant-Pro-025.jpg', 'WBC-Malignant-Pro-026.jpg', 'WBC-Malignant-Pro-027.jpg', 'WBC-Malignant-Pro-028.jpg', 'WBC-Malignant-Pro-029.jpg', 'WBC-Malignant-Pro-031.jpg', 'WBC-Malignant-Pro-032.jpg', 'WBC-Malignant-Pro-033.jpg', 'WBC-Malignant-Pro-034.jpg', 'WBC-Malignant-Pro-035.jpg', 'WBC-Malignant-Pro-036.jpg', 'WBC-Malignant-Pro-037.jpg', 'WBC-Malignant-Pro-038.jpg', 'WBC-Malignant-Pro-039.jpg', 'WBC-Malignant-Pro-040.jpg', 'WBC-Malignant-Pro-041.jpg', 'WBC-Malignant-Pro-042.jpg', 'WBC-Malignant-Pro-043.jpg', 'WBC-Malignant-Pro-044.jpg', 'WBC-Malignant-Pro-045.jpg', 'WBC-Malignant-Pro-046.jpg', 'WBC-Malignant-Pro-047.jpg', 'WBC-Malignant-Pro-048.jpg', 'WBC-Malignant-Pro-049.jpg', 'WBC-Malignant-Pro-051.jpg', 'WBC-Malignant-Pro-052.jpg', 'WBC-Malignant-Pro-053.jpg', 'WBC-Malignant-Pro-054.jpg', 'WBC-Malignant-Pro-055.jpg', 'WBC-Malignant-Pro-056.jpg', 'WBC-Malignant-Pro-057.jpg', 'WBC-Malignant-Pro-058.jpg', 'WBC-Malignant-Pro-059.jpg', 'WBC-Malignant-Pro-061.jpg', 'WBC-Malignant-Pro-062.jpg', 'WBC-Malignant-Pro-063.jpg', 'WBC-Malignant-Pro-064.jpg', 'WBC-Malignant-Pro-065.jpg', 'WBC-Malignant-Pro-066.jpg', 'WBC-Malignant-Pro-067.jpg', 'WBC-Malignant-Pro-068.jpg', 'WBC-Malignant-Pro-069.jpg', 'WBC-Malignant-Pro-071.jpg', 'WBC-Malignant-Pro-072.jpg', 'WBC-Malignant-Pro-073.jpg', 'WBC-Malignant-Pro-074.jpg', 'WBC-Malignant-Pro-075.jpg', 'WBC-Malignant-Pro-076.jpg', 'WBC-Malignant-Pro-077.jpg', 'WBC-Malignant-Pro-078.jpg', 'WBC-Malignant-Pro-079.jpg', 'WBC-Malignant-Pro-081.jpg', 'WBC-Malignant-Pro-082.jpg', 'WBC-Malignant-Pro-083.jpg', 'WBC-Malignant-Pro-084.jpg', 'WBC-Malignant-Pro-085.jpg', 'WBC-Malignant-Pro-086.jpg', 'WBC-Malignant-Pro-087.jpg', 'WBC-Malignant-Pro-088.jpg', 'WBC-Malignant-Pro-089.jpg', 'WBC-Malignant-Pro-090.jpg', 'WBC-Malignant-Pro-091.jpg', 'WBC-Malignant-Pro-092.jpg', 'WBC-Malignant-Pro-093.jpg', 'WBC-Malignant-Pro-094.jpg', 'WBC-Malignant-Pro-095.jpg', 'WBC-Malignant-Pro-096.jpg', 'WBC-Malignant-Pro-097.jpg', 'WBC-Malignant-Pro-098.jpg', 'WBC-Malignant-Pro-099.jpg', 'WBC-Malignant-Pro-101.jpg', 'WBC-Malignant-Pro-102.jpg', 'WBC-Malignant-Pro-103.jpg', 'WBC-Malignant-Pro-104.jpg', 'WBC-Malignant-Pro-105.jpg', 'WBC-Malignant-Pro-106.jpg', 'WBC-Malignant-Pro-107.jpg', 'WBC-Malignant-Pro-108.jpg', 'WBC-Malignant-Pro-109.jpg', 'WBC-Malignant-Pro-111.jpg', 'WBC-Malignant-Pro-112.jpg', 'WBC-Malignant-Pro-113.jpg', 'WBC-Malignant-Pro-114.jpg', 'WBC-Malignant-Pro-115.jpg', 'WBC-Malignant-Pro-116.jpg', 'WBC-Malignant-Pro-117.jpg', 'WBC-Malignant-Pro-118.jpg', 'WBC-Malignant-Pro-119.jpg', 'WBC-Malignant-Pro-121.jpg', 'WBC-Malignant-Pro-122.jpg', 'WBC-Malignant-Pro-123.jpg', 'WBC-Malignant-Pro-124.jpg', 'WBC-Malignant-Pro-125.jpg', 'WBC-Malignant-Pro-126.jpg', 'WBC-Malignant-Pro-127.jpg', 'WBC-Malignant-Pro-128.jpg', 'WBC-Malignant-Pro-129.jpg', 'WBC-Malignant-Pro-131.jpg', 'WBC-Malignant-Pro-132.jpg', 'WBC-Malignant-Pro-133.jpg', 'WBC-Malignant-Pro-134.jpg', 'WBC-Malignant-Pro-135.jpg', 'WBC-Malignant-Pro-136.jpg', 'WBC-Malignant-Pro-137.jpg', 'WBC-Malignant-Pro-138.jpg', 'WBC-Malignant-Pro-139.jpg', 'WBC-Malignant-Pro-140.jpg', 'WBC-Malignant-Pro-141.jpg', 'WBC-Malignant-Pro-142.jpg', 'WBC-Malignant-Pro-143.jpg', 'WBC-Malignant-Pro-144.jpg', 'WBC-Malignant-Pro-145.jpg', 'WBC-Malignant-Pro-146.jpg', 'WBC-Malignant-Pro-147.jpg', 'WBC-Malignant-Pro-148.jpg', 'WBC-Malignant-Pro-149.jpg', 'WBC-Malignant-Pro-151.jpg', 'WBC-Malignant-Pro-152.jpg', 'WBC-Malignant-Pro-153.jpg', 'WBC-Malignant-Pro-154.jpg', 'WBC-Malignant-Pro-155.jpg', 'WBC-Malignant-Pro-156.jpg', 'WBC-Malignant-Pro-157.jpg', 'WBC-Malignant-Pro-158.jpg', 'WBC-Malignant-Pro-159.jpg', 'WBC-Malignant-Pro-161.jpg', 'WBC-Malignant-Pro-162.jpg', 'WBC-Malignant-Pro-163.jpg', 'WBC-Malignant-Pro-164.jpg', 'WBC-Malignant-Pro-165.jpg', 'WBC-Malignant-Pro-166.jpg', 'WBC-Malignant-Pro-167.jpg', 'WBC-Malignant-Pro-168.jpg', 'WBC-Malignant-Pro-169.jpg', 'WBC-Malignant-Pro-171.jpg', 'WBC-Malignant-Pro-172.jpg', 'WBC-Malignant-Pro-173.jpg', 'WBC-Malignant-Pro-174.jpg', 'WBC-Malignant-Pro-175.jpg', 'WBC-Malignant-Pro-176.jpg', 'WBC-Malignant-Pro-177.jpg', 'WBC-Malignant-Pro-178.jpg', 'WBC-Malignant-Pro-179.jpg', 'WBC-Malignant-Pro-181.jpg', 'WBC-Malignant-Pro-182.jpg', 'WBC-Malignant-Pro-183.jpg', 'WBC-Malignant-Pro-184.jpg', 'WBC-Malignant-Pro-185.jpg', 'WBC-Malignant-Pro-186.jpg', 'WBC-Malignant-Pro-187.jpg', 'WBC-Malignant-Pro-188.jpg', 'WBC-Malignant-Pro-189.jpg', 'WBC-Malignant-Pro-190.jpg', 'WBC-Malignant-Pro-191.jpg', 'WBC-Malignant-Pro-192.jpg', 'WBC-Malignant-Pro-193.jpg', 'WBC-Malignant-Pro-194.jpg', 'WBC-Malignant-Pro-195.jpg', 'WBC-Malignant-Pro-196.jpg', 'WBC-Malignant-Pro-197.jpg', 'WBC-Malignant-Pro-198.jpg', 'WBC-Malignant-Pro-199.jpg', 'WBC-Malignant-Pro-201.jpg', 'WBC-Malignant-Pro-202.jpg', 'WBC-Malignant-Pro-203.jpg', 'WBC-Malignant-Pro-204.jpg', 'WBC-Malignant-Pro-205.jpg', 'WBC-Malignant-Pro-206.jpg', 'WBC-Malignant-Pro-207.jpg', 'WBC-Malignant-Pro-208.jpg', 'WBC-Malignant-Pro-209.jpg', 'WBC-Malignant-Pro-211.jpg', 'WBC-Malignant-Pro-212.jpg', 'WBC-Malignant-Pro-213.jpg', 'WBC-Malignant-Pro-214.jpg', 'WBC-Malignant-Pro-215.jpg', 'WBC-Malignant-Pro-216.jpg', 'WBC-Malignant-Pro-217.jpg', 'WBC-Malignant-Pro-218.jpg', 'WBC-Malignant-Pro-219.jpg', 'WBC-Malignant-Pro-221.jpg', 'WBC-Malignant-Pro-222.jpg', 'WBC-Malignant-Pro-223.jpg', 'WBC-Malignant-Pro-224.jpg', 'WBC-Malignant-Pro-225.jpg', 'WBC-Malignant-Pro-226.jpg', 'WBC-Malignant-Pro-227.jpg', 'WBC-Malignant-Pro-228.jpg', 'WBC-Malignant-Pro-229.jpg', 'WBC-Malignant-Pro-231.jpg', 'WBC-Malignant-Pro-232.jpg', 'WBC-Malignant-Pro-233.jpg', 'WBC-Malignant-Pro-234.jpg', 'WBC-Malignant-Pro-235.jpg', 'WBC-Malignant-Pro-236.jpg', 'WBC-Malignant-Pro-237.jpg', 'WBC-Malignant-Pro-238.jpg', 'WBC-Malignant-Pro-239.jpg', 'WBC-Malignant-Pro-240.jpg', 'WBC-Malignant-Pro-241.jpg', 'WBC-Malignant-Pro-242.jpg', 'WBC-Malignant-Pro-243.jpg', 'WBC-Malignant-Pro-244.jpg', 'WBC-Malignant-Pro-245.jpg', 'WBC-Malignant-Pro-246.jpg', 'WBC-Malignant-Pro-247.jpg', 'WBC-Malignant-Pro-248.jpg', 'WBC-Malignant-Pro-249.jpg', 'WBC-Malignant-Pro-251.jpg', 'WBC-Malignant-Pro-252.jpg', 'WBC-Malignant-Pro-253.jpg', 'WBC-Malignant-Pro-254.jpg', 'WBC-Malignant-Pro-255.jpg', 'WBC-Malignant-Pro-256.jpg', 'WBC-Malignant-Pro-257.jpg', 'WBC-Malignant-Pro-258.jpg', 'WBC-Malignant-Pro-259.jpg', 'WBC-Malignant-Pro-261.jpg', 'WBC-Malignant-Pro-262.jpg', 'WBC-Malignant-Pro-263.jpg', 'WBC-Malignant-Pro-264.jpg', 'WBC-Malignant-Pro-265.jpg', 'WBC-Malignant-Pro-266.jpg', 'WBC-Malignant-Pro-267.jpg', 'WBC-Malignant-Pro-268.jpg', 'WBC-Malignant-Pro-269.jpg', 'WBC-Malignant-Pro-271.jpg', 'WBC-Malignant-Pro-272.jpg', 'WBC-Malignant-Pro-273.jpg', 'WBC-Malignant-Pro-274.jpg', 'WBC-Malignant-Pro-275.jpg', 'WBC-Malignant-Pro-276.jpg', 'WBC-Malignant-Pro-277.jpg', 'WBC-Malignant-Pro-278.jpg', 'WBC-Malignant-Pro-279.jpg', 'WBC-Malignant-Pro-281.jpg', 'WBC-Malignant-Pro-282.jpg', 'WBC-Malignant-Pro-283.jpg', 'WBC-Malignant-Pro-284.jpg', 'WBC-Malignant-Pro-285.jpg', 'WBC-Malignant-Pro-286.jpg', 'WBC-Malignant-Pro-287.jpg', 'WBC-Malignant-Pro-288.jpg', 'WBC-Malignant-Pro-289.jpg', 'WBC-Malignant-Pro-290.jpg', 'WBC-Malignant-Pro-291.jpg', 'WBC-Malignant-Pro-292.jpg', 'WBC-Malignant-Pro-293.jpg', 'WBC-Malignant-Pro-294.jpg', 'WBC-Malignant-Pro-295.jpg', 'WBC-Malignant-Pro-296.jpg', 'WBC-Malignant-Pro-297.jpg', 'WBC-Malignant-Pro-298.jpg', 'WBC-Malignant-Pro-299.jpg', 'WBC-Malignant-Pro-301.jpg', 'WBC-Malignant-Pro-302.jpg', 'WBC-Malignant-Pro-303.jpg', 'WBC-Malignant-Pro-304.jpg', 'WBC-Malignant-Pro-305.jpg', 'WBC-Malignant-Pro-306.jpg', 'WBC-Malignant-Pro-307.jpg', 'WBC-Malignant-Pro-308.jpg', 'WBC-Malignant-Pro-309.jpg', 'WBC-Malignant-Pro-311.jpg', 'WBC-Malignant-Pro-312.jpg', 'WBC-Malignant-Pro-313.jpg', 'WBC-Malignant-Pro-314.jpg', 'WBC-Malignant-Pro-315.jpg', 'WBC-Malignant-Pro-316.jpg', 'WBC-Malignant-Pro-317.jpg', 'WBC-Malignant-Pro-318.jpg', 'WBC-Malignant-Pro-319.jpg', 'WBC-Malignant-Pro-321.jpg', 'WBC-Malignant-Pro-322.jpg', 'WBC-Malignant-Pro-323.jpg', 'WBC-Malignant-Pro-324.jpg', 'WBC-Malignant-Pro-325.jpg', 'WBC-Malignant-Pro-326.jpg', 'WBC-Malignant-Pro-327.jpg', 'WBC-Malignant-Pro-328.jpg', 'WBC-Malignant-Pro-329.jpg', 'WBC-Malignant-Pro-331.jpg', 'WBC-Malignant-Pro-332.jpg', 'WBC-Malignant-Pro-333.jpg', 'WBC-Malignant-Pro-334.jpg', 'WBC-Malignant-Pro-335.jpg', 'WBC-Malignant-Pro-336.jpg', 'WBC-Malignant-Pro-337.jpg', 'WBC-Malignant-Pro-338.jpg', 'WBC-Malignant-Pro-339.jpg', 'WBC-Malignant-Pro-340.jpg', 'WBC-Malignant-Pro-341.jpg', 'WBC-Malignant-Pro-342.jpg', 'WBC-Malignant-Pro-343.jpg', 'WBC-Malignant-Pro-344.jpg', 'WBC-Malignant-Pro-345.jpg', 'WBC-Malignant-Pro-346.jpg', 'WBC-Malignant-Pro-347.jpg', 'WBC-Malignant-Pro-348.jpg', 'WBC-Malignant-Pro-349.jpg', 'WBC-Malignant-Pro-351.jpg', 'WBC-Malignant-Pro-352.jpg', 'WBC-Malignant-Pro-353.jpg', 'WBC-Malignant-Pro-354.jpg', 'WBC-Malignant-Pro-355.jpg', 'WBC-Malignant-Pro-356.jpg', 'WBC-Malignant-Pro-357.jpg', 'WBC-Malignant-Pro-358.jpg', 'WBC-Malignant-Pro-359.jpg', 'WBC-Malignant-Pro-361.jpg', 'WBC-Malignant-Pro-362.jpg', 'WBC-Malignant-Pro-363.jpg', 'WBC-Malignant-Pro-364.jpg', 'WBC-Malignant-Pro-365.jpg', 'WBC-Malignant-Pro-366.jpg', 'WBC-Malignant-Pro-367.jpg', 'WBC-Malignant-Pro-368.jpg', 'WBC-Malignant-Pro-369.jpg', 'WBC-Malignant-Pro-371.jpg', 'WBC-Malignant-Pro-372.jpg', 'WBC-Malignant-Pro-373.jpg', 'WBC-Malignant-Pro-374.jpg', 'WBC-Malignant-Pro-375.jpg', 'WBC-Malignant-Pro-376.jpg', 'WBC-Malignant-Pro-377.jpg', 'WBC-Malignant-Pro-378.jpg', 'WBC-Malignant-Pro-379.jpg', 'WBC-Malignant-Pro-381.jpg', 'WBC-Malignant-Pro-382.jpg', 'WBC-Malignant-Pro-383.jpg', 'WBC-Malignant-Pro-384.jpg', 'WBC-Malignant-Pro-385.jpg', 'WBC-Malignant-Pro-386.jpg', 'WBC-Malignant-Pro-387.jpg', 'WBC-Malignant-Pro-388.jpg', 'WBC-Malignant-Pro-389.jpg', 'WBC-Malignant-Pro-390.jpg', 'WBC-Malignant-Pro-391.jpg', 'WBC-Malignant-Pro-392.jpg', 'WBC-Malignant-Pro-393.jpg', 'WBC-Malignant-Pro-394.jpg', 'WBC-Malignant-Pro-395.jpg', 'WBC-Malignant-Pro-396.jpg', 'WBC-Malignant-Pro-397.jpg', 'WBC-Malignant-Pro-398.jpg', 'WBC-Malignant-Pro-399.jpg', 'WBC-Malignant-Pro-401.jpg', 'WBC-Malignant-Pro-402.jpg', 'WBC-Malignant-Pro-403.jpg', 'WBC-Malignant-Pro-404.jpg', 'WBC-Malignant-Pro-405.jpg', 'WBC-Malignant-Pro-406.jpg', 'WBC-Malignant-Pro-407.jpg', 'WBC-Malignant-Pro-408.jpg', 'WBC-Malignant-Pro-409.jpg', 'WBC-Malignant-Pro-411.jpg', 'WBC-Malignant-Pro-412.jpg', 'WBC-Malignant-Pro-413.jpg', 'WBC-Malignant-Pro-414.jpg', 'WBC-Malignant-Pro-415.jpg', 'WBC-Malignant-Pro-416.jpg', 'WBC-Malignant-Pro-417.jpg', 'WBC-Malignant-Pro-418.jpg', 'WBC-Malignant-Pro-419.jpg', 'WBC-Malignant-Pro-421.jpg', 'WBC-Malignant-Pro-422.jpg', 'WBC-Malignant-Pro-423.jpg', 'WBC-Malignant-Pro-424.jpg', 'WBC-Malignant-Pro-425.jpg', 'WBC-Malignant-Pro-426.jpg', 'WBC-Malignant-Pro-427.jpg', 'WBC-Malignant-Pro-428.jpg', 'WBC-Malignant-Pro-429.jpg', 'WBC-Malignant-Pro-431.jpg', 'WBC-Malignant-Pro-432.jpg', 'WBC-Malignant-Pro-433.jpg', 'WBC-Malignant-Pro-434.jpg', 'WBC-Malignant-Pro-435.jpg', 'WBC-Malignant-Pro-436.jpg', 'WBC-Malignant-Pro-437.jpg', 'WBC-Malignant-Pro-438.jpg', 'WBC-Malignant-Pro-439.jpg', 'WBC-Malignant-Pro-440.jpg', 'WBC-Malignant-Pro-441.jpg', 'WBC-Malignant-Pro-442.jpg', 'WBC-Malignant-Pro-443.jpg', 'WBC-Malignant-Pro-444.jpg', 'WBC-Malignant-Pro-445.jpg', 'WBC-Malignant-Pro-446.jpg', 'WBC-Malignant-Pro-447.jpg', 'WBC-Malignant-Pro-448.jpg', 'WBC-Malignant-Pro-449.jpg', 'WBC-Malignant-Pro-451.jpg', 'WBC-Malignant-Pro-452.jpg', 'WBC-Malignant-Pro-453.jpg', 'WBC-Malignant-Pro-454.jpg', 'WBC-Malignant-Pro-455.jpg', 'WBC-Malignant-Pro-456.jpg', 'WBC-Malignant-Pro-457.jpg', 'WBC-Malignant-Pro-458.jpg', 'WBC-Malignant-Pro-459.jpg', 'WBC-Malignant-Pro-461.jpg', 'WBC-Malignant-Pro-462.jpg', 'WBC-Malignant-Pro-463.jpg', 'WBC-Malignant-Pro-464.jpg', 'WBC-Malignant-Pro-465.jpg', 'WBC-Malignant-Pro-466.jpg', 'WBC-Malignant-Pro-467.jpg', 'WBC-Malignant-Pro-468.jpg', 'WBC-Malignant-Pro-469.jpg', 'WBC-Malignant-Pro-471.jpg', 'WBC-Malignant-Pro-472.jpg', 'WBC-Malignant-Pro-473.jpg', 'WBC-Malignant-Pro-474.jpg', 'WBC-Malignant-Pro-475.jpg', 'WBC-Malignant-Pro-476.jpg', 'WBC-Malignant-Pro-477.jpg', 'WBC-Malignant-Pro-478.jpg', 'WBC-Malignant-Pro-479.jpg', 'WBC-Malignant-Pro-481.jpg', 'WBC-Malignant-Pro-482.jpg', 'WBC-Malignant-Pro-483.jpg', 'WBC-Malignant-Pro-484.jpg', 'WBC-Malignant-Pro-485.jpg', 'WBC-Malignant-Pro-486.jpg', 'WBC-Malignant-Pro-487.jpg', 'WBC-Malignant-Pro-488.jpg', 'WBC-Malignant-Pro-489.jpg', 'WBC-Malignant-Pro-490.jpg', 'WBC-Malignant-Pro-491.jpg', 'WBC-Malignant-Pro-492.jpg', 'WBC-Malignant-Pro-493.jpg', 'WBC-Malignant-Pro-494.jpg', 'WBC-Malignant-Pro-495.jpg', 'WBC-Malignant-Pro-496.jpg', 'WBC-Malignant-Pro-497.jpg', 'WBC-Malignant-Pro-498.jpg', 'WBC-Malignant-Pro-499.jpg', 'WBC-Malignant-Pro-500.jpg', 'WBC-Malignant-Pro-501.jpg', 'WBC-Malignant-Pro-502.jpg', 'WBC-Malignant-Pro-503.jpg', 'WBC-Malignant-Pro-504.jpg', 'WBC-Malignant-Pro-505.jpg', 'WBC-Malignant-Pro-506.jpg', 'WBC-Malignant-Pro-507.jpg', 'WBC-Malignant-Pro-508.jpg', 'WBC-Malignant-Pro-509.jpg', 'WBC-Malignant-Pro-510.jpg', 'WBC-Malignant-Pro-511.jpg', 'WBC-Malignant-Pro-512.jpg', 'WBC-Malignant-Pro-513.jpg', 'WBC-Malignant-Pro-514.jpg', 'WBC-Malignant-Pro-515.jpg', 'WBC-Malignant-Pro-516.jpg', 'WBC-Malignant-Pro-517.jpg', 'WBC-Malignant-Pro-518.jpg', 'WBC-Malignant-Pro-519.jpg', 'WBC-Malignant-Pro-520.jpg', 'WBC-Malignant-Pro-521.jpg', 'WBC-Malignant-Pro-522.jpg', 'WBC-Malignant-Pro-523.jpg', 'WBC-Malignant-Pro-524.jpg', 'WBC-Malignant-Pro-525.jpg', 'WBC-Malignant-Pro-526.jpg', 'WBC-Malignant-Pro-527.jpg', 'WBC-Malignant-Pro-528.jpg', 'WBC-Malignant-Pro-529.jpg', 'WBC-Malignant-Pro-530.jpg', 'WBC-Malignant-Pro-531.jpg', 'WBC-Malignant-Pro-532.jpg', 'WBC-Malignant-Pro-533.jpg', 'WBC-Malignant-Pro-534.jpg', 'WBC-Malignant-Pro-535.jpg', 'WBC-Malignant-Pro-536.jpg', 'WBC-Malignant-Pro-537.jpg', 'WBC-Malignant-Pro-538.jpg', 'WBC-Malignant-Pro-539.jpg', 'WBC-Malignant-Pro-540.jpg', 'WBC-Malignant-Pro-541.jpg', 'WBC-Malignant-Pro-542.jpg', 'WBC-Malignant-Pro-543.jpg', 'WBC-Malignant-Pro-544.jpg', 'WBC-Malignant-Pro-545.jpg', 'WBC-Malignant-Pro-546.jpg', 'WBC-Malignant-Pro-547.jpg', 'WBC-Malignant-Pro-548.jpg', 'WBC-Malignant-Pro-549.jpg', 'WBC-Malignant-Pro-550.jpg', 'WBC-Malignant-Pro-551.jpg', 'WBC-Malignant-Pro-552.jpg', 'WBC-Malignant-Pro-553.jpg', 'WBC-Malignant-Pro-554.jpg', 'WBC-Malignant-Pro-555.jpg', 'WBC-Malignant-Pro-556.jpg', 'WBC-Malignant-Pro-557.jpg', 'WBC-Malignant-Pro-558.jpg', 'WBC-Malignant-Pro-559.jpg', 'WBC-Malignant-Pro-560.jpg', 'WBC-Malignant-Pro-561.jpg', 'WBC-Malignant-Pro-562.jpg', 'WBC-Malignant-Pro-563.jpg', 'WBC-Malignant-Pro-564.jpg', 'WBC-Malignant-Pro-565.jpg', 'WBC-Malignant-Pro-566.jpg', 'WBC-Malignant-Pro-567.jpg', 'WBC-Malignant-Pro-568.jpg', 'WBC-Malignant-Pro-569.jpg', 'WBC-Malignant-Pro-570.jpg', 'WBC-Malignant-Pro-571.jpg', 'WBC-Malignant-Pro-572.jpg', 'WBC-Malignant-Pro-573.jpg', 'WBC-Malignant-Pro-574.jpg', 'WBC-Malignant-Pro-575.jpg', 'WBC-Malignant-Pro-576.jpg', 'WBC-Malignant-Pro-577.jpg', 'WBC-Malignant-Pro-578.jpg', 'WBC-Malignant-Pro-579.jpg', 'WBC-Malignant-Pro-580.jpg', 'WBC-Malignant-Pro-581.jpg', 'WBC-Malignant-Pro-582.jpg', 'WBC-Malignant-Pro-583.jpg', 'WBC-Malignant-Pro-584.jpg', 'WBC-Malignant-Pro-585.jpg', 'WBC-Malignant-Pro-586.jpg', 'WBC-Malignant-Pro-587.jpg', 'WBC-Malignant-Pro-588.jpg', 'WBC-Malignant-Pro-589.jpg', 'WBC-Malignant-Pro-590.jpg', 'WBC-Malignant-Pro-591.jpg', 'WBC-Malignant-Pro-592.jpg', 'WBC-Malignant-Pro-593.jpg', 'WBC-Malignant-Pro-594.jpg', 'WBC-Malignant-Pro-595.jpg', 'WBC-Malignant-Pro-596.jpg', 'WBC-Malignant-Pro-597.jpg', 'WBC-Malignant-Pro-598.jpg', 'WBC-Malignant-Pro-599.jpg', 'WBC-Malignant-Pro-600.jpg', 'WBC-Malignant-Pro-601.jpg', 'WBC-Malignant-Pro-602.jpg', 'WBC-Malignant-Pro-603.jpg', 'WBC-Malignant-Pro-604.jpg', 'WBC-Malignant-Pro-605.jpg', 'WBC-Malignant-Pro-606.jpg', 'WBC-Malignant-Pro-607.jpg', 'WBC-Malignant-Pro-608.jpg', 'WBC-Malignant-Pro-609.jpg', 'WBC-Malignant-Pro-610.jpg', 'WBC-Malignant-Pro-611.jpg', 'WBC-Malignant-Pro-612.jpg', 'WBC-Malignant-Pro-613.jpg', 'WBC-Malignant-Pro-614.jpg', 'WBC-Malignant-Pro-615.jpg', 'WBC-Malignant-Pro-616.jpg', 'WBC-Malignant-Pro-617.jpg', 'WBC-Malignant-Pro-618.jpg', 'WBC-Malignant-Pro-619.jpg', 'WBC-Malignant-Pro-620.jpg', 'WBC-Malignant-Pro-621.jpg', 'WBC-Malignant-Pro-622.jpg', 'WBC-Malignant-Pro-623.jpg', 'WBC-Malignant-Pro-624.jpg', 'WBC-Malignant-Pro-625.jpg', 'WBC-Malignant-Pro-626.jpg', 'WBC-Malignant-Pro-627.jpg', 'WBC-Malignant-Pro-628.jpg', 'WBC-Malignant-Pro-629.jpg', 'WBC-Malignant-Pro-630.jpg', 'WBC-Malignant-Pro-631.jpg', 'WBC-Malignant-Pro-632.jpg', 'WBC-Malignant-Pro-633.jpg', 'WBC-Malignant-Pro-634.jpg', 'WBC-Malignant-Pro-635.jpg', 'WBC-Malignant-Pro-636.jpg', 'WBC-Malignant-Pro-637.jpg', 'WBC-Malignant-Pro-638.jpg', 'WBC-Malignant-Pro-639.jpg', 'WBC-Malignant-Pro-640.jpg', 'WBC-Malignant-Pro-641.jpg', 'WBC-Malignant-Pro-642.jpg', 'WBC-Malignant-Pro-643.jpg', 'WBC-Malignant-Pro-644.jpg', 'WBC-Malignant-Pro-645.jpg', 'WBC-Malignant-Pro-646.jpg', 'WBC-Malignant-Pro-647.jpg', 'WBC-Malignant-Pro-648.jpg', 'WBC-Malignant-Pro-649.jpg', 'WBC-Malignant-Pro-650.jpg', 'WBC-Malignant-Pro-651.jpg', 'WBC-Malignant-Pro-652.jpg', 'WBC-Malignant-Pro-653.jpg', 'WBC-Malignant-Pro-654.jpg', 'WBC-Malignant-Pro-655.jpg', 'WBC-Malignant-Pro-656.jpg', 'WBC-Malignant-Pro-657.jpg', 'WBC-Malignant-Pro-658.jpg', 'WBC-Malignant-Pro-659.jpg', 'WBC-Malignant-Pro-660.jpg', 'WBC-Malignant-Pro-661.jpg', 'WBC-Malignant-Pro-662.jpg', 'WBC-Malignant-Pro-663.jpg', 'WBC-Malignant-Pro-664.jpg', 'WBC-Malignant-Pro-665.jpg', 'WBC-Malignant-Pro-666.jpg', 'WBC-Malignant-Pro-667.jpg', 'WBC-Malignant-Pro-668.jpg', 'WBC-Malignant-Pro-669.jpg', 'WBC-Malignant-Pro-670.jpg', 'WBC-Malignant-Pro-671.jpg', 'WBC-Malignant-Pro-672.jpg', 'WBC-Malignant-Pro-673.jpg', 'WBC-Malignant-Pro-674.jpg', 'WBC-Malignant-Pro-675.jpg', 'WBC-Malignant-Pro-676.jpg', 'WBC-Malignant-Pro-677.jpg', 'WBC-Malignant-Pro-678.jpg', 'WBC-Malignant-Pro-679.jpg', 'WBC-Malignant-Pro-680.jpg', 'WBC-Malignant-Pro-681.jpg', 'WBC-Malignant-Pro-682.jpg', 'WBC-Malignant-Pro-683.jpg', 'WBC-Malignant-Pro-684.jpg', 'WBC-Malignant-Pro-685.jpg', 'WBC-Malignant-Pro-686.jpg', 'WBC-Malignant-Pro-687.jpg', 'WBC-Malignant-Pro-688.jpg', 'WBC-Malignant-Pro-689.jpg', 'WBC-Malignant-Pro-690.jpg', 'WBC-Malignant-Pro-691.jpg', 'WBC-Malignant-Pro-692.jpg', 'WBC-Malignant-Pro-693.jpg', 'WBC-Malignant-Pro-694.jpg', 'WBC-Malignant-Pro-695.jpg', 'WBC-Malignant-Pro-696.jpg', 'WBC-Malignant-Pro-697.jpg', 'WBC-Malignant-Pro-698.jpg', 'WBC-Malignant-Pro-699.jpg', 'WBC-Malignant-Pro-700.jpg', 'WBC-Malignant-Pro-701.jpg', 'WBC-Malignant-Pro-702.jpg', 'WBC-Malignant-Pro-703.jpg', 'WBC-Malignant-Pro-704.jpg', 'WBC-Malignant-Pro-705.jpg', 'WBC-Malignant-Pro-706.jpg', 'WBC-Malignant-Pro-707.jpg', 'WBC-Malignant-Pro-708.jpg', 'WBC-Malignant-Pro-709.jpg', 'WBC-Malignant-Pro-710.jpg', 'WBC-Malignant-Pro-711.jpg', 'WBC-Malignant-Pro-712.jpg', 'WBC-Malignant-Pro-713.jpg', 'WBC-Malignant-Pro-714.jpg', 'WBC-Malignant-Pro-715.jpg', 'WBC-Malignant-Pro-716.jpg', 'WBC-Malignant-Pro-717.jpg', 'WBC-Malignant-Pro-718.jpg', 'WBC-Malignant-Pro-719.jpg', 'WBC-Malignant-Pro-720.jpg', 'WBC-Malignant-Pro-721.jpg', 'WBC-Malignant-Pro-722.jpg', 'WBC-Malignant-Pro-723.jpg', 'WBC-Malignant-Pro-724.jpg', 'WBC-Malignant-Pro-725.jpg', 'WBC-Malignant-Pro-726.jpg', 'WBC-Malignant-Pro-727.jpg', 'WBC-Malignant-Pro-728.jpg', 'WBC-Malignant-Pro-729.jpg', 'WBC-Malignant-Pro-730.jpg', 'WBC-Malignant-Pro-731.jpg', 'WBC-Malignant-Pro-732.jpg', 'WBC-Malignant-Pro-733.jpg', 'WBC-Malignant-Pro-734.jpg', 'WBC-Malignant-Pro-735.jpg', 'WBC-Malignant-Pro-736.jpg', 'WBC-Malignant-Pro-737.jpg', 'WBC-Malignant-Pro-738.jpg', 'WBC-Malignant-Pro-739.jpg', 'WBC-Malignant-Pro-740.jpg', 'WBC-Malignant-Pro-741.jpg', 'WBC-Malignant-Pro-742.jpg', 'WBC-Malignant-Pro-743.jpg', 'WBC-Malignant-Pro-744.jpg', 'WBC-Malignant-Pro-745.jpg', 'WBC-Malignant-Pro-746.jpg', 'WBC-Malignant-Pro-747.jpg', 'WBC-Malignant-Pro-748.jpg', 'WBC-Malignant-Pro-749.jpg', 'WBC-Malignant-Pro-750.jpg', 'WBC-Malignant-Pro-751.jpg', 'WBC-Malignant-Pro-752.jpg', 'WBC-Malignant-Pro-753.jpg', 'WBC-Malignant-Pro-754.jpg', 'WBC-Malignant-Pro-755.jpg', 'WBC-Malignant-Pro-756.jpg', 'WBC-Malignant-Pro-757.jpg', 'WBC-Malignant-Pro-758.jpg', 'WBC-Malignant-Pro-759.jpg', 'WBC-Malignant-Pro-760.jpg', 'WBC-Malignant-Pro-761.jpg', 'WBC-Malignant-Pro-762.jpg', 'WBC-Malignant-Pro-763.jpg', 'WBC-Malignant-Pro-764.jpg', 'WBC-Malignant-Pro-765.jpg', 'WBC-Malignant-Pro-766.jpg', 'WBC-Malignant-Pro-767.jpg', 'WBC-Malignant-Pro-768.jpg', 'WBC-Malignant-Pro-769.jpg', 'WBC-Malignant-Pro-770.jpg', 'WBC-Malignant-Pro-771.jpg', 'WBC-Malignant-Pro-772.jpg', 'WBC-Malignant-Pro-773.jpg', 'WBC-Malignant-Pro-774.jpg', 'WBC-Malignant-Pro-775.jpg', 'WBC-Malignant-Pro-776.jpg', 'WBC-Malignant-Pro-777.jpg', 'WBC-Malignant-Pro-778.jpg', 'WBC-Malignant-Pro-779.jpg', 'WBC-Malignant-Pro-780.jpg', 'WBC-Malignant-Pro-781.jpg', 'WBC-Malignant-Pro-782.jpg', 'WBC-Malignant-Pro-783.jpg', 'WBC-Malignant-Pro-784.jpg', 'WBC-Malignant-Pro-785.jpg', 'WBC-Malignant-Pro-786.jpg', 'WBC-Malignant-Pro-787.jpg', 'WBC-Malignant-Pro-788.jpg', 'WBC-Malignant-Pro-789.jpg', 'WBC-Malignant-Pro-790.jpg', 'WBC-Malignant-Pro-791.jpg', 'WBC-Malignant-Pro-792.jpg', 'WBC-Malignant-Pro-793.jpg', 'WBC-Malignant-Pro-794.jpg', 'WBC-Malignant-Pro-795.jpg', 'WBC-Malignant-Pro-796.jpg', 'WBC-Malignant-Pro-797.jpg', 'WBC-Malignant-Pro-798.jpg', 'WBC-Malignant-Pro-799.jpg', 'WBC-Malignant-Pro-800.jpg', 'WBC-Malignant-Pro-801.jpg', 'WBC-Malignant-Pro-802.jpg', 'WBC-Malignant-Pro-803.jpg', 'WBC-Malignant-Pro-804.jpg']\n"
     ]
    }
   ],
   "source": [
    "for x in os.listdir('data/test'):\n",
    "    print(x)\n",
    "    print(os.listdir(f'data/test/{x}'))\n",
    "\n",
    "# print(os.listdir('data/test'))\n"
   ]
  },
  {
   "cell_type": "markdown",
   "metadata": {
    "tags": []
   },
   "source": [
    "## Define a function that takes in a dataframe, and integers max_samples, min_samples.\n",
    "it uses the function trim to set the maximum number of samples in a class defined by the string column to max_samples. if the number of samples is less than min_samples the class is eliminated from the dataset. If some classes have less than max_samples, then augmented images are created for that class and stored in the working_dir so the class will have max_samples of images. After augmentation an aug_df is created for the augmented images in the working_dir. The aug_df is then merged with the original train_df to produce a new train_df that has exactly max_sample images in each class thus creating a balanced training set.\n"
   ]
  },
  {
   "cell_type": "code",
   "execution_count": null,
   "metadata": {},
   "outputs": [],
   "source": [
    "def balance(train_df,max_samples, min_samples, column, working_dir, image_size):\n",
    "    train_df=train_df.copy()\n",
    "    train_df=trim (train_df, max_samples, min_samples, column) \n",
    "    \n",
    "    # make directories to store augmented images\n",
    "    aug_dir=os.path.join(working_dir, 'aug')\n",
    "    if os.path.isdir(aug_dir):\n",
    "        shutil.rmtree(aug_dir)\n",
    "    os.mkdir(aug_dir)\n",
    "    for label in train_df['labels'].unique():    \n",
    "        dir_path=os.path.join(aug_dir,label)    \n",
    "        os.mkdir(dir_path)\n",
    "    \n",
    "    # create and store the augmented images  \n",
    "    total=0\n",
    "    gen=ImageDataGenerator(horizontal_flip=True,  rotation_range=20, width_shift_range=.2,\n",
    "                                  height_shift_range=.2, zoom_range=.2)\n",
    "    groups=train_df.groupby('labels') # group by class\n",
    "    for label in train_df['labels'].unique():  # for every class               \n",
    "        group=groups.get_group(label)  # a dataframe holding only rows with the specified label \n",
    "        sample_count=len(group)   # determine how many samples there are in this class  \n",
    "        if sample_count< max_samples: # if the class has less than target number of images\n",
    "            aug_img_count=0\n",
    "            delta=max_samples-sample_count  # number of augmented images to create\n",
    "            target_dir=os.path.join(aug_dir, label)  # define where to write the images    \n",
    "            aug_gen=gen.flow_from_dataframe( group,  x_col='filepaths', y_col=None, target_size=image_size,\n",
    "                                            class_mode=None, batch_size=1, shuffle=False, \n",
    "                                            save_to_dir=target_dir, save_prefix='aug-', color_mode='rgb',\n",
    "                                            save_format='jpg')\n",
    "            while aug_img_count<delta:\n",
    "                images=next(aug_gen)            \n",
    "                aug_img_count += len(images)\n",
    "            total +=aug_img_count\n",
    "    print('Total Augmented images created= ', total)\n",
    "    \n",
    "    # create aug_df and merge with train_df to create composite training set ndf\n",
    "    if total>0:\n",
    "        aug_fpaths=[]\n",
    "        aug_labels=[]\n",
    "        classlist=os.listdir(aug_dir)\n",
    "        for klass in classlist:\n",
    "            classpath=os.path.join(aug_dir, klass)     \n",
    "            flist=os.listdir(classpath)    \n",
    "            for f in flist:        \n",
    "                fpath=os.path.join(classpath,f)         \n",
    "                aug_fpaths.append(fpath)\n",
    "                aug_labels.append(klass)\n",
    "        Fseries=pd.Series(aug_fpaths, name='filepaths')\n",
    "        Lseries=pd.Series(aug_labels, name='labels')\n",
    "        aug_df=pd.concat([Fseries, Lseries], axis=1)\n",
    "        train_df=pd.concat([train_df,aug_df], axis=0).reset_index(drop=True)\n",
    "   \n",
    "    print (list(train_df['labels'].value_counts()) )\n",
    "    return train_df \n",
    "\n"
   ]
  },
  {
   "cell_type": "markdown",
   "metadata": {
    "tags": []
   },
   "source": [
    "## Define a function that takes in a dataframe df, and integer max_size and a string column.\n",
    "Returns a dataframe where the number of samples for any class specified by column is limited to max samples"
   ]
  },
  {
   "cell_type": "code",
   "execution_count": null,
   "metadata": {},
   "outputs": [],
   "source": [
    "def trim (df, max_size, min_size, column):\n",
    "    df=df.copy()\n",
    "    original_class_count= len(list(df[column].unique()))\n",
    "    print ('Original Number of classes in dataframe: ', original_class_count)\n",
    "    sample_list=[] \n",
    "    groups=df.groupby(column)\n",
    "    for label in df[column].unique():        \n",
    "        group=groups.get_group(label)\n",
    "        sample_count=len(group)         \n",
    "        if sample_count> max_size :\n",
    "            strat=group[column]\n",
    "            samples,_=train_test_split(group, train_size=max_size, shuffle=True, random_state=123, stratify=strat)            \n",
    "            sample_list.append(samples)\n",
    "        elif sample_count>= min_size:\n",
    "            sample_list.append(group)\n",
    "    df=pd.concat(sample_list, axis=0).reset_index(drop=True)\n",
    "    final_class_count= len(list(df[column].unique())) \n",
    "    if final_class_count != original_class_count:\n",
    "        print ('*** WARNING***  dataframe has a reduced number of classes' )\n",
    "    balance=list(df[column].value_counts())\n",
    "    print (balance)\n",
    "    return df"
   ]
  },
  {
   "cell_type": "markdown",
   "metadata": {},
   "source": [
    "## Define preprocess function to read in image file and create dataframes"
   ]
  },
  {
   "cell_type": "code",
   "execution_count": null,
   "metadata": {},
   "outputs": [],
   "source": [
    "def preprocess (sdir):\n",
    "    categories=['train', 'test', 'valid']\n",
    "    for category in categories:\n",
    "        catpath=os.path.join(sdir, category)\n",
    "        filepaths=[]\n",
    "        labels=[]    \n",
    "        classlist=os.listdir(catpath)\n",
    "        for klass in classlist:\n",
    "            classpath=os.path.join(catpath,klass)\n",
    "            flist=os.listdir(classpath)\n",
    "            for f in flist:\n",
    "                fpath=os.path.join(classpath,f)\n",
    "                filepaths.append(fpath)\n",
    "                labels.append(klass)\n",
    "        Fseries=pd.Series(filepaths, name='filepaths')\n",
    "        Lseries=pd.Series(labels, name='labels')\n",
    "        if category == 'train':\n",
    "            train_df=pd.concat([Fseries, Lseries], axis=1)            \n",
    "        elif category =='test':\n",
    "            test_df=pd.concat([Fseries, Lseries], axis=1) \n",
    "        else:\n",
    "            valid_df= pd.concat([Fseries, Lseries], axis=1)     \n",
    "    print('train_df length: ', len(train_df), '  test_df length: ',len(test_df), '  valid_df length: ', len(valid_df))\n",
    "     # check that each dataframe has the same number of classes to prevent model.fit errors\n",
    "    trcount=len(train_df['labels'].unique())\n",
    "    tecount=len(test_df['labels'].unique())\n",
    "    vcount=len(valid_df['labels'].unique())\n",
    "    if trcount < tecount :         \n",
    "        msg='** WARNING ** number of classes in training set is less than the number of classes in test set'\n",
    "        print_in_color(msg, (255,0,0), (55,65,80))\n",
    "        msg='This will throw an error in either model.evaluate or model.predict'\n",
    "        print_in_color(msg, (255,0,0), (55,65,80))\n",
    "    if trcount != vcount:\n",
    "        msg='** WARNING ** number of classes in training set not equal to number of classes in validation set' \n",
    "        print_in_color(msg, (255,0,0), (55,65,80))\n",
    "        msg=' this will throw an error in model.fit'\n",
    "        print_in_color(msg, (255,0,0), (55,65,80))\n",
    "        print ('train df class count: ', trcount, 'test df class count: ', tecount, ' valid df class count: ', vcount) \n",
    "        ans=input('Enter C to continue execution or H to halt execution')\n",
    "        if ans =='H' or ans == 'h':\n",
    "            print_in_color('Halting Execution', (255,0,0), (55,65,80))\n",
    "            import sys\n",
    "            sys.exit('program halted by user')\n",
    "    msg='\\nBelow is image count per class to evaluate train_df balance'\n",
    "    print_in_color(msg, (0,255,255),(55,65,80))\n",
    "    print(list(train_df['labels'].value_counts()))\n",
    "    return train_df, test_df, valid_df\n",
    "    \n"
   ]
  },
  {
   "cell_type": "markdown",
   "metadata": {
    "tags": []
   },
   "source": [
    "## Define a function to print text in RGB foreground and background colors\n"
   ]
  },
  {
   "cell_type": "code",
   "execution_count": null,
   "metadata": {
    "tags": []
   },
   "outputs": [],
   "source": [
    "def print_in_color(txt_msg,fore_tupple,back_tupple,):\n",
    "    #prints the text_msg in the foreground color specified by fore_tupple with the background specified by back_tupple \n",
    "    #text_msg is the text, fore_tupple is foregroud color tupple (r,g,b), back_tupple is background tupple (r,g,b)\n",
    "    rf,gf,bf=fore_tupple\n",
    "    rb,gb,bb=back_tupple\n",
    "    msg='{0}' + txt_msg\n",
    "    mat='\\33[38;2;' + str(rf) +';' + str(gf) + ';' + str(bf) + ';48;2;' + str(rb) + ';' +str(gb) + ';' + str(bb) +'m' \n",
    "    print(msg .format(mat), flush=True)\n",
    "    print('\\33[0m', flush=True) # returns default print color to back to black\n",
    "    return"
   ]
  },
  {
   "cell_type": "code",
   "execution_count": null,
   "metadata": {},
   "outputs": [],
   "source": [
    "sdir=r'./data'\n",
    "train_df, test_df, valid_df= preprocess(sdir)"
   ]
  },
  {
   "cell_type": "markdown",
   "metadata": {},
   "source": [
    "## Balance Data Set\n",
    "Limit maximum samples in a class to 150 samples. Create augmented images for under represented classes so all classes in training set have 150 samples"
   ]
  },
  {
   "cell_type": "code",
   "execution_count": null,
   "metadata": {
    "tags": []
   },
   "outputs": [],
   "source": [
    "max_samples=150\n",
    "min_samples= 0\n",
    "column='labels'\n",
    "working_dir = r'./'\n",
    "img_size=(150,150)\n",
    "train_df=balance(train_df, max_samples, min_samples, column, working_dir, img_size)"
   ]
  },
  {
   "cell_type": "markdown",
   "metadata": {},
   "source": [
    "**The train_df dataframe is now balanced with 150 samples per class**"
   ]
  },
  {
   "cell_type": "markdown",
   "metadata": {},
   "source": [
    "# Dylan CNN Model"
   ]
  },
  {
   "cell_type": "markdown",
   "metadata": {},
   "source": [
    "\n",
    "\n",
    "## Create train, test and validation generators"
   ]
  },
  {
   "cell_type": "code",
   "execution_count": null,
   "metadata": {},
   "outputs": [],
   "source": [
    "img_shape = img_size + (3,) # Add a third dimension for RGB channel\n",
    "print(img_shape)\n",
    "batch_size=25\n",
    "length=len(test_df)\n",
    "test_batch_size=25  \n",
    "test_steps=int(length/test_batch_size)\n",
    "print (f'test batch size: {test_batch_size}, test steps: {test_steps}')\n",
    "\n",
    "def scalar(img):    \n",
    "    return img  # EfficientNet expects pixelsin range 0 to 255 so no scaling is required\n",
    "\n",
    "trgen=ImageDataGenerator(preprocessing_function=scalar, horizontal_flip=True)\n",
    "tvgen=ImageDataGenerator(preprocessing_function=scalar)\n",
    "\n",
    "msg='                                                               for the train generator'\n",
    "print(msg, '\\r', end='') \n",
    "train_gen=trgen.flow_from_dataframe( train_df, x_col='filepaths', y_col='labels', target_size=img_size, class_mode='categorical',\n",
    "                                    color_mode='rgb', shuffle=True, batch_size=batch_size)\n",
    "msg='                                                               for the test generator'\n",
    "print(msg, '\\r', end='') \n",
    "test_gen=tvgen.flow_from_dataframe( test_df, x_col='filepaths', y_col='labels', target_size=img_size, class_mode='categorical',\n",
    "                                    color_mode='rgb', shuffle=False, batch_size=test_batch_size)\n",
    "msg='                                                               for the validation generator'\n",
    "print(msg, '\\r', end='')\n",
    "valid_gen=tvgen.flow_from_dataframe( valid_df, x_col='filepaths', y_col='labels', target_size=img_size, class_mode='categorical',\n",
    "                                    color_mode='rgb', shuffle=True, batch_size=batch_size)\n",
    "\n",
    "classes=list(train_gen.class_indices.keys())\n",
    "class_count=len(classes)\n",
    "train_steps=int(np.ceil(len(train_gen.labels)/batch_size))\n",
    "labels=test_gen.labels\n"
   ]
  },
  {
   "cell_type": "markdown",
   "metadata": {},
   "source": [
    "### Let's see some butterflies"
   ]
  },
  {
   "cell_type": "code",
   "execution_count": null,
   "metadata": {
    "tags": []
   },
   "outputs": [],
   "source": [
    "img, label = train_gen.next()\n",
    "rows,cols = 4,4\n",
    "fig = make_subplots(rows=rows, cols=cols,horizontal_spacing=0.05,subplot_titles=[class_names[np.argmax(label[i])] for i in range(rows*cols)])\n",
    "indx=0\n",
    "for i in range(rows):\n",
    "    for j in range(cols):\n",
    "        fig.add_trace(px.imshow(img[indx]).data[0],i+1,j+1)\n",
    "        indx+=1\n",
    "        fig.update_layout(width=1000,height=1000)\n",
    "        fig.update_xaxes(showticklabels=False)\n",
    "        fig.update_yaxes(showticklabels=False)\n",
    "fig.show()"
   ]
  },
  {
   "cell_type": "markdown",
   "metadata": {},
   "source": [
    "# Model - EfficientNetV2L"
   ]
  },
  {
   "cell_type": "code",
   "execution_count": null,
   "metadata": {},
   "outputs": [],
   "source": [
    "model_name='EfficientNetV2L'\n",
    "\n",
    "# Create a base model from the pre-trained EfficientNetV2L\n",
    "base_model=tf.keras.applications.efficientnet_v2.EfficientNetV2L(input_shape=img_shape, include_top=False) \n",
    "# Make model trainable\n",
    "base_model.trainable = True"
   ]
  },
  {
   "cell_type": "code",
   "execution_count": null,
   "metadata": {},
   "outputs": [],
   "source": [
    "inputs = keras.Input(shape=img_shape) # Input layer\n",
    "\n",
    "x = base_model(inputs) # EfficientNetV2L\n",
    "x = layers.GlobalMaxPooling2D()(x) # Pooling layer\n",
    "x = layers.Dropout(0.1)(x) # Dropout layer\n",
    " \n",
    "outputs = Dense(class_count, activation = 'softmax')(x) # Classification layer\n",
    "\n",
    "fine_tune_at = 1 # Update parameters starting from layer 1\n",
    "for layer in base_model.layers[:fine_tune_at]:\n",
    "    layer.trainable = True\n",
    "\n",
    "# Build the model\n",
    "model = keras.Model(inputs, outputs)\n"
   ]
  },
  {
   "cell_type": "code",
   "execution_count": null,
   "metadata": {},
   "outputs": [],
   "source": [
    "# Print out a summary of the model created.\n",
    "model.summary()"
   ]
  },
  {
   "cell_type": "code",
   "execution_count": null,
   "metadata": {},
   "outputs": [],
   "source": [
    "# Plot the model layers' dependency graph and each layer's input-output shape.\n",
    "keras.utils.plot_model(model, show_shapes=True)"
   ]
  },
  {
   "cell_type": "markdown",
   "metadata": {},
   "source": [
    "## Train model"
   ]
  },
  {
   "cell_type": "code",
   "execution_count": null,
   "metadata": {
    "scrolled": false
   },
   "outputs": [],
   "source": [
    "# Specify metrics, loss function, and optimizer \n",
    "# define evaluation metics\n",
    "metrics = [\n",
    "      keras.metrics.TruePositives(name='tp'),\n",
    "      keras.metrics.FalsePositives(name='fp'),\n",
    "      keras.metrics.TrueNegatives(name='tn'),\n",
    "      keras.metrics.FalseNegatives(name='fn'), \n",
    "      keras.metrics.BinaryAccuracy(name='accuracy'),\n",
    "      keras.metrics.Precision(name='precision'),\n",
    "      keras.metrics.Recall(name='recall'), \n",
    "      keras.metrics.SpecificityAtSensitivity(0.5,name='SpecificityAtSensitivity'),\n",
    "      keras.metrics.AUC(name='auc'),\n",
    "      keras.metrics.AUC(name='prc', curve='PR'), # precision-recall curve\n",
    "]\n",
    "\n",
    "loss = 'categorical_crossentropy' # Better performance than categorical_crossentropy\n",
    "# optimizer = keras.optimizers.Adam\n",
    "optimizer = Adamax\n",
    "\n",
    "# Create learning rates for two phases of training \n",
    "learning_rates = 0.001\n",
    "\n",
    "# Setting the number of training epochs\n",
    "training_epochs = 20\n",
    "\n",
    "def print_info( test_gen, preds):\n",
    "    class_dict=test_gen.class_indices\n",
    "    labels= test_gen.labels\n",
    "    file_names= test_gen.filenames \n",
    "    error_list=[]\n",
    "    true_class=[]\n",
    "    pred_class=[]\n",
    "    prob_list=[]\n",
    "    new_dict={}\n",
    "    error_indices=[]\n",
    "    y_pred=[]\n",
    "    for key,value in class_dict.items():\n",
    "        new_dict[value]=key             # dictionary {integer of class number: string of class name}\n",
    "    # store new_dict as a text fine in the save_dir\n",
    "    classes=list(new_dict.values())     # list of string of class names     \n",
    "    errors=0      \n",
    "    for i, p in enumerate(preds):\n",
    "        pred_index=np.argmax(p)         \n",
    "        true_index=labels[i]  # labels are integer values\n",
    "        if pred_index != true_index: # a misclassification has occurred\n",
    "            error_list.append(file_names[i])\n",
    "            true_class.append(new_dict[true_index])\n",
    "            pred_class.append(new_dict[pred_index])\n",
    "            prob_list.append(p[pred_index])\n",
    "            error_indices.append(true_index)            \n",
    "            errors=errors + 1\n",
    "        y_pred.append(pred_index) \n",
    "    tests=len(preds)\n",
    "    acc= (1-errors/tests) *100\n",
    "\n",
    "    y_true= np.array(labels)        \n",
    "    y_pred=np.array(y_pred)\n",
    "\n",
    "    clr = classification_report(y_true, y_pred, target_names=classes, digits= 4)\n",
    "    print(\"Classification Report:\\n----------------------\\n\", clr)\n",
    "    return acc/100\n",
    "\n",
    "# Compile the model\n",
    "model.compile(\n",
    "    optimizer=optimizer(learning_rates),\n",
    "    loss=loss,\n",
    "    metrics=metrics,\n",
    ")\n",
    "\n",
    "# Train the model\n",
    "history = model.fit(\n",
    "    train_gen,\n",
    "    epochs=training_epochs,\n",
    "    validation_data = valid_gen\n",
    ")\n",
    "\n",
    "# Retrieve the training metrics (after each train epoch)\n",
    "train_accuracy = history.history['accuracy']\n",
    "val_accuracy = history.history['val_accuracy']\n",
    "plt.plot(train_accuracy, label='train_accuracy')\n",
    "plt.plot(val_accuracy, label='validation accuracy')\n",
    "plt.xticks(range(training_epochs))\n",
    "plt.xlabel('Train epochs')\n",
    "plt.legend()\n",
    "plt.show()"
   ]
  },
  {
   "cell_type": "code",
   "execution_count": null,
   "metadata": {},
   "outputs": [],
   "source": [
    "fig = make_subplots(rows=4, cols=2,subplot_titles=(\"Loss\", \"Accuracy\",\"Precision\",\"Recall\",\"AUC\",\"PRC\",\"True Positive\",\"SpecificityAtSensitivity\"))\n",
    "fig.add_trace(go.Scatter(y=history.history['loss'], mode='lines', name='Train Loss'),1,1)\n",
    "fig.add_trace(go.Scatter(y=history.history['val_loss'], mode='lines', name='Validation Loss'),1,1)\n",
    "fig.add_trace(go.Scatter(y=history.history['accuracy'], mode='lines', name='Train Accuracy'),1,2)\n",
    "fig.add_trace(go.Scatter(y=history.history['val_accuracy'],mode='lines', name='Validation Accuracy'),1,2)\n",
    "fig.add_trace(go.Scatter(y=history.history['precision'], mode='lines', name='Train precision'),2,1)\n",
    "fig.add_trace(go.Scatter(y=history.history['val_precision'],mode='lines', name='Validation precision'),2,1)\n",
    "fig.add_trace(go.Scatter(y=history.history['recall'], mode='lines', name='Train recall'),2,2)\n",
    "fig.add_trace(go.Scatter(y=history.history['val_recall'],mode='lines', name='Validation recall'),2,2)\n",
    "fig.add_trace(go.Scatter(y=history.history['auc'], mode='lines', name='Train auc'),3,1)\n",
    "fig.add_trace(go.Scatter(y=history.history['val_auc'],mode='lines', name='Validation auc'),3,1)\n",
    "fig.add_trace(go.Scatter(y=history.history['prc'], mode='lines', name='Train prc'),3,2)\n",
    "fig.add_trace(go.Scatter(y=history.history['val_prc'],mode='lines', name='Validation prc'),3,2)\n",
    "fig.add_trace(go.Scatter(y=history.history['tp'], mode='lines', name='Train tp'),4,1)\n",
    "fig.add_trace(go.Scatter(y=history.history['val_tp'],mode='lines', name='Validation tp'),4,1)\n",
    "fig.add_trace(go.Scatter(y=history.history['SpecificityAtSensitivity'], mode='lines', name='Train SpecificityAtSensitivity'),4,2)\n",
    "fig.add_trace(go.Scatter(y=history.history['val_SpecificityAtSensitivity'],mode='lines', name='Validation SpecificityAtSensitivity'),4,2)\n",
    "\n",
    "fig.update_xaxes(title_text=\"Epoch\", row=4, col=1)\n",
    "fig.update_xaxes(title_text=\"Epoch\", row=4, col=2)\n",
    "fig.show()"
   ]
  },
  {
   "cell_type": "markdown",
   "metadata": {},
   "source": [
    "## Test model"
   ]
  },
  {
   "cell_type": "code",
   "execution_count": null,
   "metadata": {},
   "outputs": [],
   "source": [
    "preds=model.predict(test_gen) \n",
    "acc=print_info(test_gen, preds) "
   ]
  },
  {
   "cell_type": "code",
   "execution_count": null,
   "metadata": {},
   "outputs": [],
   "source": []
  }
 ],
 "metadata": {
  "kernelspec": {
   "display_name": "Python 3 (ipykernel)",
   "language": "python",
   "name": "python3"
  },
  "language_info": {
   "codemirror_mode": {
    "name": "ipython",
    "version": 3
   },
   "file_extension": ".py",
   "mimetype": "text/x-python",
   "name": "python",
   "nbconvert_exporter": "python",
   "pygments_lexer": "ipython3",
   "version": "3.9.13"
  }
 },
 "nbformat": 4,
 "nbformat_minor": 4
}
