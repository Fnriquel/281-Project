{
 "cells": [
  {
   "cell_type": "code",
   "execution_count": 28,
   "id": "248c5de2",
   "metadata": {},
   "outputs": [],
   "source": [
    "import numpy as np\n",
    "\n",
    "import pandas as pd \n",
    "\n",
    "import sklearn.metrics as metrics \n",
    "\n",
    "from sklearn.svm import SVC "
   ]
  },
  {
   "cell_type": "code",
   "execution_count": 29,
   "id": "cf2f6335",
   "metadata": {},
   "outputs": [],
   "source": [
    "# Load in Feature dataframes\n",
    "\n",
    "df_n = pd.read_csv('Non_Segmented_Features.csv')\n",
    "df_s = pd.read_csv('Segmented_Features.csv')\n",
    "\n",
    "#Split Train, Validate, Test \n",
    "\n",
    "df_nonseg_train = df_n[df_n['split']=='train']\n",
    "df_nonseg_valid = df_n[df_n['split']=='valid']\n",
    "df_nonseg_test = df_n[df_n['split']=='test']\n",
    "\n",
    "df_seg_train = df_s[df_s['split']=='train']\n",
    "df_seg_valid = df_s[df_s['split']=='valid']\n",
    "df_seg_test = df_s[df_s['split']=='test']"
   ]
  },
  {
   "cell_type": "code",
   "execution_count": 30,
   "id": "246f5b5d",
   "metadata": {},
   "outputs": [],
   "source": [
    "#Convert to Numpy Arrays \n",
    "\n",
    "np_nonseg_train = df_nonseg_train.to_numpy()\n",
    "np_nonseg_valid = df_nonseg_valid.to_numpy()\n",
    "np_nonseg_test = df_nonseg_test.to_numpy()\n",
    "\n",
    "np_seg_train = df_seg_train.to_numpy() \n",
    "np_seg_valid = df_seg_valid.to_numpy()\n",
    "np_seg_test = df_seg_test.to_numpy()"
   ]
  },
  {
   "cell_type": "code",
   "execution_count": 39,
   "id": "fb6abbd8",
   "metadata": {},
   "outputs": [],
   "source": [
    "## Non Segmented Train, Validate Data \n",
    "\n",
    "x_train_ns = np_nonseg_train[:,6:]\n",
    "x_val_ns = np_nonseg_valid[:,6:]\n",
    "\n",
    "y_train_ns = np_nonseg_train[:,2]\n",
    "y_val_ns = np_nonseg_valid[:,2]"
   ]
  },
  {
   "cell_type": "code",
   "execution_count": 40,
   "id": "996efb18",
   "metadata": {},
   "outputs": [],
   "source": [
    "## Segmented Train, Validate Data \n",
    "\n",
    "x_train_s = np_seg_train[:,6:]\n",
    "x_val_s = np_seg_valid[:,6:]\n",
    "\n",
    "y_train_s = np_seg_train[:,2]\n",
    "y_val_s = np_seg_valid[:,2]"
   ]
  },
  {
   "cell_type": "markdown",
   "id": "1c9d3c67",
   "metadata": {},
   "source": [
    "## Okay, Ready to use "
   ]
  },
  {
   "cell_type": "code",
   "execution_count": 45,
   "id": "433a4548",
   "metadata": {},
   "outputs": [],
   "source": [
    "def Train_SVM(X_train, Y_train, X_val, Y_val, C, kernel, verbose = False):\n",
    "    \n",
    "    \"\"\"C value is a penalty value for slack variable \n",
    "    Large C makes slack 0 \n",
    "    low C allows more slack in classifier boundary\n",
    "    \n",
    "    Kernel options: 'linear', 'poly', 'rbf', 'sigmoid', 'precomputed' \n",
    "    \n",
    "    \"\"\"\n",
    "    \n",
    "    Y_train = Y_train.astype('int')\n",
    "    Y_val = Y_val.astype('int')\n",
    "    \n",
    "    X_train = X_train.astype('float32')\n",
    "    X_val = X_val.astype('float32')\n",
    "\n",
    "    if kernel == 'linear': \n",
    "        \n",
    "        clf = SVC(C = 1, kernel = kernel) # \n",
    "        clf.fit(X, Y) # Y.ravel())\n",
    "        w = clf.coef_[0]\n",
    "        b = clf.intercept_\n",
    "\n",
    "    else: \n",
    "\n",
    "        # fit SVM \n",
    "        clf = SVC(C= 10, kernel = 'rbf') #'radial basis function kernel'\n",
    "        clf_probs = SVC(C= 10, kernel = 'rbf', probability = True)\n",
    "        clf.fit(X_train,Y_train)\n",
    "        clf_probs.fit(X_train,Y_train)\n",
    "        \n",
    "\n",
    "        Y_val_pred = clf.predict(X_val)\n",
    "        Y_val_pred_p = clf_probs.predict_proba(X_val)\n",
    "        \n",
    "        #metrics\n",
    "        f1_micro = metrics.f1_score(Y_val, Y_val_pred, average = 'micro') #\n",
    "        f1_macro = metrics.f1_score(Y_val, Y_val_pred,  average = 'macro') #\n",
    "        f1_weighted = metrics.f1_score(Y_val, Y_val_pred,  average = 'weighted') #\n",
    "        \n",
    "        acc = metrics.accuracy_score(Y_val, Y_val_pred)\n",
    "        AUC = metrics.roc_auc_score(Y_val, Y_val_pred_p, multi_class = 'ovo')\n",
    "        \n",
    "        \n",
    "        print('f1 scores:', f1_micro, f1_macro, f1_weighted)\n",
    "        print('accuracy: ', acc)\n",
    "        print('AUC: ', AUC)\n",
    "        \n",
    "        \n",
    "        if verbose: \n",
    "            \n",
    "            plt.scatter(X[:,0], X[:,1], s = 30, c= Y,\n",
    "                       cmap = plt.cm.Paired)\n",
    "        \n",
    "            \n",
    "        \n",
    "            #svmContour(clf)\n",
    "\n",
    "            plt.show()"
   ]
  },
  {
   "cell_type": "code",
   "execution_count": 47,
   "id": "8e9aaaf0",
   "metadata": {},
   "outputs": [
    {
     "name": "stdout",
     "output_type": "stream",
     "text": [
      "f1 scores: 0.565 0.49221426893942466 0.4922142689394247\n",
      "accuracy:  0.565\n",
      "AUC:  0.7961\n"
     ]
    }
   ],
   "source": [
    "Train_SVM(x_train_ns, y_train_ns, x_val_ns, y_val_ns, 10, 'rbf')"
   ]
  },
  {
   "cell_type": "code",
   "execution_count": 49,
   "id": "4a4a64e7",
   "metadata": {},
   "outputs": [
    {
     "name": "stdout",
     "output_type": "stream",
     "text": [
      "f1 scores: 0.775 0.7682178932178931 0.7682178932178931\n",
      "accuracy:  0.775\n",
      "AUC:  0.9429333333333334\n"
     ]
    }
   ],
   "source": [
    "Train_SVM(x_train_s, y_train_s, x_val_s, y_val_s, 10, 'rbf')"
   ]
  },
  {
   "cell_type": "code",
   "execution_count": null,
   "id": "7e9b4746",
   "metadata": {},
   "outputs": [],
   "source": []
  }
 ],
 "metadata": {
  "kernelspec": {
   "display_name": "Python 3 (ipykernel)",
   "language": "python",
   "name": "python3"
  },
  "language_info": {
   "codemirror_mode": {
    "name": "ipython",
    "version": 3
   },
   "file_extension": ".py",
   "mimetype": "text/x-python",
   "name": "python",
   "nbconvert_exporter": "python",
   "pygments_lexer": "ipython3",
   "version": "3.9.13"
  }
 },
 "nbformat": 4,
 "nbformat_minor": 5
}
