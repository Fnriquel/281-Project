{
  "cells": [
    {
      "cell_type": "markdown",
      "metadata": {
        "id": "view-in-github",
        "colab_type": "text"
      },
      "source": [
        "<a href=\"https://colab.research.google.com/github/Fnriquel/281-Project/blob/main/Efficiennet_Colabversion.ipynb\" target=\"_parent\"><img src=\"https://colab.research.google.com/assets/colab-badge.svg\" alt=\"Open In Colab\"/></a>"
      ]
    },
    {
      "cell_type": "code",
      "source": [
        "from google.colab import drive\n",
        "drive.mount('/content/drive')"
      ],
      "metadata": {
        "colab": {
          "base_uri": "https://localhost:8080/"
        },
        "id": "qQTFIxHmfhxa",
        "outputId": "da3919a6-44fc-4ef2-c03e-b2260152f7da"
      },
      "execution_count": 1,
      "outputs": [
        {
          "output_type": "stream",
          "name": "stdout",
          "text": [
            "Mounted at /content/drive\n"
          ]
        }
      ]
    },
    {
      "cell_type": "code",
      "execution_count": 2,
      "metadata": {
        "id": "HlMqVxnNffHX"
      },
      "outputs": [],
      "source": [
        "import charset_normalizer\n",
        "import tensorflow as tf\n",
        "import numpy as np\n",
        "import matplotlib.pyplot as plt\n",
        "import pandas as pd\n",
        "import cv2\n",
        "import os\n",
        "from tensorflow import keras\n",
        "from tensorflow.keras.preprocessing.image import ImageDataGenerator\n",
        "from tensorflow.keras.applications.efficientnet import preprocess_input\n",
        "from tensorflow.keras.applications import EfficientNetB3\n",
        "from tensorflow.keras.layers import Dense, GlobalAveragePooling2D, Dropout, GlobalMaxPool2D\n",
        "from tensorflow.keras.models import Model\n",
        "from tensorflow.keras.optimizers import Adam, Adamax, SGD, Adagrad\n",
        "from sklearn.model_selection import train_test_split"
      ]
    },
    {
      "cell_type": "code",
      "source": [
        "source_dir = \"/content/drive/MyDrive/W281/Original\"\n",
        "train_dir = \"/content/drive/MyDrive/W281/Train_image\"\n",
        "test_dir = \"/content/drive/MyDrive/W281/Test_image\""
      ],
      "metadata": {
        "id": "1IjmT0kHhwhZ"
      },
      "execution_count": 3,
      "outputs": []
    },
    {
      "cell_type": "code",
      "source": [
        "## function to do Adaptive histogram equalization\n",
        "\n",
        "from tensorflow.keras.preprocessing.image import img_to_array\n",
        "\n",
        "def min_max_intensity_normalization(img):\n",
        "    img_array = img_to_array(img)\n",
        "    min_value = np.min(img_array)\n",
        "    max_value = np.max(img_array)\n",
        "    normalized_array = (img_array - min_value) / (max_value - min_value)\n",
        "    return normalized_array\n",
        "\n",
        "def adaptive_hist_eq(image):\n",
        "    clahe = cv2.createCLAHE(clipLimit=2.0, tileGridSize=(8,8))\n",
        "    cl1 = clahe.apply(image)\n",
        "    return cl1\n",
        "\n",
        "## function to do histogram normalization\n",
        "from skimage import exposure, color\n",
        "\n",
        "def hist_norm(img):\n",
        "    img[:,:,0] = exposure.equalize_hist(img[:,:,0])\n",
        "    img[:,:,1] = exposure.equalize_hist(img[:,:,1])\n",
        "    img[:,:,2] = exposure.equalize_hist(img[:,:,2])\n",
        "    return img\n",
        "\n",
        "##function that gets all the pictures from the directory and apply the adaptive histogram equalization\n",
        "def get_images_processing(directory, processing='adaptive_histogram_equalization'):\n",
        "    images=[]\n",
        "    for dir in os.listdir(directory):\n",
        "        for dir1 in os.listdir('Original'+'\\\\'+str(dir)):\n",
        "            img = cv2.imread(directory+'\\\\'+dir+'\\\\'+dir1)\n",
        "            #img = cv2.cvtColor(img, cv2.COLOR_BGR2GRAY)\n",
        "            if processing == 'adaptive_histogram_equalization':\n",
        "                img = cv2.cvtColor(img, cv2.COLOR_BGR2GRAY)\n",
        "                img = adaptive_hist_eq(img)\n",
        "            elif processing == 'histogram_normalization':\n",
        "                img = hist_norm(img)   \n",
        "            elif processing == 'sharpening':\n",
        "                img = cv2.cvtColor(img, cv2.COLOR_BGR2GRAY)\n",
        "                kernel = np.array([[-1,-1,-1], [-1,9,-1], [-1,-1,-1]])\n",
        "                img = cv2.filter2D(img, -1, kernel)\n",
        "            else:\n",
        "                img = img\n",
        "            \n",
        "            images.append(img)\n",
        "    return images"
      ],
      "metadata": {
        "id": "TssCO8YS3gJr"
      },
      "execution_count": 4,
      "outputs": []
    },
    {
      "cell_type": "markdown",
      "source": [
        "Only run the cell bellow to create the 2 folders Train and Test."
      ],
      "metadata": {
        "id": "k0BL5UMd41wr"
      }
    },
    {
      "cell_type": "code",
      "source": [
        "import shutil\n",
        "import random\n",
        "\n",
        "\n",
        "\n",
        "# Create train and test directories\n",
        "os.makedirs(train_dir, exist_ok=True)\n",
        "os.makedirs(test_dir, exist_ok=True)\n",
        "\n",
        "# Set the percentage of images to use for training\n",
        "train_percentage = 0.8\n",
        "\n",
        "# Loop through each sub-directory in the source directory\n",
        "for subdir in os.listdir(source_dir):\n",
        "    subdir_path = os.path.join(source_dir, subdir)\n",
        "    \n",
        "    # Create train and test sub-directories\n",
        "    os.makedirs(os.path.join(train_dir, subdir), exist_ok=True)\n",
        "    os.makedirs(os.path.join(test_dir, subdir), exist_ok=True)\n",
        "    \n",
        "    # Split the images between train and test sets\n",
        "    images = os.listdir(subdir_path)\n",
        "    random.shuffle(images)\n",
        "    split_index = int(train_percentage * len(images))\n",
        "    train_images = images[:split_index]\n",
        "    test_images = images[split_index:]\n",
        "    \n",
        "    # Copy the train images to the train directory\n",
        "    for image in train_images:\n",
        "        source = os.path.join(subdir_path, image)\n",
        "        destination = os.path.join(train_dir, subdir, image)\n",
        "        shutil.copy(source, destination)\n",
        "    \n",
        "    # Copy the test images to the test directory\n",
        "    for image in test_images:\n",
        "        source = os.path.join(subdir_path, image)\n",
        "        destination = os.path.join(test_dir, subdir, image)\n",
        "        shutil.copy(source, destination)"
      ],
      "metadata": {
        "id": "LNzKd3czgPfG"
      },
      "execution_count": null,
      "outputs": []
    },
    {
      "cell_type": "code",
      "source": [
        "from tensorflow.keras.layers import Dense, Dropout, BatchNormalization\n",
        "from tensorflow.keras.applications.vgg16 import VGG16\n",
        "img_size = (224, 224)\n",
        "input_shape = (224,224,3)\n",
        "\n",
        "\n",
        "# Create a base model from the pre-trained \n",
        "#base_model = EfficientNetB3(input_shape=input_shape, include_top=False, weights='imagenet') \n",
        "base_model=tf.keras.applications.efficientnet_v2.EfficientNetV2L(input_shape=input_shape, include_top=False)\n",
        "# Make model trainable\n",
        "base_model.trainable = True\n",
        "inputs=keras.Input(shape=input_shape)\n",
        "x = base_model(inputs)\n",
        "#x = base_model.output\n",
        "x = GlobalMaxPool2D()(x)\n",
        "x = Dropout(0.1)(x)\n",
        "#x = BatchNormalization()(x)\n",
        "\n",
        "outputs = Dense(4, activation='softmax')(x)\n",
        "model = Model(inputs, outputs)\n",
        "fine_tune_at = 1 # Update parameters starting from layer 1\n",
        "for layer in base_model.layers[:fine_tune_at]:\n",
        "    layer.trainable = True"
      ],
      "metadata": {
        "id": "NTru7ECVgroE",
        "colab": {
          "base_uri": "https://localhost:8080/"
        },
        "outputId": "f0273151-f7f3-4d4e-b2e1-55e2d36f6298"
      },
      "execution_count": 5,
      "outputs": [
        {
          "output_type": "stream",
          "name": "stdout",
          "text": [
            "Downloading data from https://storage.googleapis.com/tensorflow/keras-applications/efficientnet_v2/efficientnetv2-l_notop.h5\n",
            "473176280/473176280 [==============================] - 18s 0us/step\n"
          ]
        }
      ]
    },
    {
      "cell_type": "code",
      "source": [
        "from sklearn.utils.class_weight import compute_class_weight\n",
        "\n",
        "\n",
        "img_size = (224, 224)\n",
        "color_mode = 'rgb'\n",
        "#datagen = ImageDataGenerator(preprocessing_function=min_max_intensity_normalization,rescale=1./255, validation_split=0.25)\n",
        "datagen = ImageDataGenerator(rescale=1./255, validation_split=0.25)\n",
        "train_generator = datagen.flow_from_directory(\n",
        "    \"/content/drive/MyDrive/W281/Train_image\",\n",
        "    target_size=img_size,\n",
        "    batch_size=16,\n",
        "    class_mode='categorical',\n",
        "    subset='training')\n",
        "\n",
        "\n",
        "\n",
        "\n",
        "val_generator = datagen.flow_from_directory(\n",
        "        \"/content/drive/MyDrive/W281/Train_image\",\n",
        "        target_size=img_size,\n",
        "        batch_size=16,\n",
        "        class_mode='categorical',\n",
        "        subset='validation')\n",
        "\n",
        "labels = train_generator.labels\n",
        "print(labels)\n",
        "class_labels = np.unique(labels)\n",
        "print(class_labels)\n",
        "# Compute class weights\n",
        "class_weights = compute_class_weight(\"balanced\", classes=np.unique(labels), y=labels)\n",
        "\n",
        "# Convert to dictionary\n",
        "class_weights_dict = dict(enumerate(class_weights))\n",
        "\n",
        "\n",
        "print(class_weights_dict)"
      ],
      "metadata": {
        "colab": {
          "base_uri": "https://localhost:8080/"
        },
        "id": "1XThaOPLUS_b",
        "outputId": "b6ecf524-b0c2-422f-c91b-422bae82ef63"
      },
      "execution_count": 6,
      "outputs": [
        {
          "output_type": "stream",
          "name": "stdout",
          "text": [
            "Found 1955 images belonging to 4 classes.\n",
            "Found 649 images belonging to 4 classes.\n",
            "[0 0 0 ... 3 3 3]\n",
            "[0 1 2 3]\n",
            "{0: 1.613036303630363, 1: 0.8269881556683587, 2: 0.8455882352941176, 3: 1.0119047619047619}\n"
          ]
        }
      ]
    },
    {
      "cell_type": "code",
      "source": [
        "loss = 'categorical_crossentropy' # Better performance than categorical_crossentropy\n",
        "# optimizer = keras.optimizers.Adam\n",
        "optimizer = Adamax\n",
        "\n",
        "# Create learning rates for two phases of training \n",
        "learning_rates = 0.001\n",
        "\n",
        "# Setting the number of training epochs\n",
        "training_epochs = 20\n",
        "\n",
        "metrics = [\n",
        "      keras.metrics.TruePositives(name='tp'),\n",
        "      keras.metrics.FalsePositives(name='fp'),\n",
        "      keras.metrics.TrueNegatives(name='tn'),\n",
        "      keras.metrics.FalseNegatives(name='fn'), \n",
        "      keras.metrics.CategoricalAccuracy(name='accuracy'), # Use CategoricalAccuracy for one-hot encoded labels\n",
        "      #keras.metrics.SparseCategoricalAccuracy(name='accuracy'), # Use SparseCategoricalAccuracy for integer labels\n",
        "      keras.metrics.Precision(name='precision'),\n",
        "      keras.metrics.Recall(name='recall'), \n",
        "      keras.metrics.SpecificityAtSensitivity(0.5,name='SpecificityAtSensitivity'),\n",
        "      keras.metrics.AUC(name='auc'),\n",
        "      keras.metrics.AUC(name='prc', curve='PR'), # precision-recall curve\n",
        "]\n",
        "\n",
        "model.compile(loss=loss, optimizer=optimizer(learning_rates), metrics=metrics)\n",
        "\n",
        "\n",
        "\n",
        "\n"
      ],
      "metadata": {
        "id": "Vt7Hq7RrhHeL"
      },
      "execution_count": 15,
      "outputs": []
    },
    {
      "cell_type": "code",
      "execution_count": 16,
      "metadata": {
        "colab": {
          "base_uri": "https://localhost:8080/"
        },
        "id": "jLo_X27pffHa",
        "outputId": "1c886316-1560-4f3d-c7c7-d32d8e97704d"
      },
      "outputs": [
        {
          "output_type": "stream",
          "name": "stdout",
          "text": [
            "Epoch 1/20\n",
            "123/123 [==============================] - 295s 946ms/step - loss: 0.3423 - tp: 1809.0000 - fp: 110.0000 - tn: 5755.0000 - fn: 146.0000 - accuracy: 0.9335 - precision: 0.9427 - recall: 0.9253 - SpecificityAtSensitivity: 0.9964 - auc: 0.9851 - prc: 0.9638 - val_loss: 0.2370 - val_tp: 594.0000 - val_fp: 39.0000 - val_tn: 1908.0000 - val_fn: 55.0000 - val_accuracy: 0.9245 - val_precision: 0.9384 - val_recall: 0.9153 - val_SpecificityAtSensitivity: 1.0000 - val_auc: 0.9887 - val_prc: 0.9742\n",
            "Epoch 2/20\n",
            "123/123 [==============================] - 108s 875ms/step - loss: 0.1088 - tp: 1912.0000 - fp: 35.0000 - tn: 5830.0000 - fn: 43.0000 - accuracy: 0.9806 - precision: 0.9820 - recall: 0.9780 - SpecificityAtSensitivity: 0.9990 - auc: 0.9966 - prc: 0.9914 - val_loss: 0.2022 - val_tp: 605.0000 - val_fp: 33.0000 - val_tn: 1914.0000 - val_fn: 44.0000 - val_accuracy: 0.9399 - val_precision: 0.9483 - val_recall: 0.9322 - val_SpecificityAtSensitivity: 1.0000 - val_auc: 0.9914 - val_prc: 0.9828\n",
            "Epoch 3/20\n",
            "123/123 [==============================] - 107s 874ms/step - loss: 0.0456 - tp: 1934.0000 - fp: 19.0000 - tn: 5846.0000 - fn: 21.0000 - accuracy: 0.9893 - precision: 0.9903 - recall: 0.9893 - SpecificityAtSensitivity: 0.9995 - auc: 0.9986 - prc: 0.9966 - val_loss: 1.2721 - val_tp: 310.0000 - val_fp: 279.0000 - val_tn: 1668.0000 - val_fn: 339.0000 - val_accuracy: 0.5023 - val_precision: 0.5263 - val_recall: 0.4777 - val_SpecificityAtSensitivity: 0.8433 - val_auc: 0.8068 - val_prc: 0.6006\n",
            "Epoch 4/20\n",
            "123/123 [==============================] - 107s 873ms/step - loss: 0.0277 - tp: 1939.0000 - fp: 16.0000 - tn: 5849.0000 - fn: 16.0000 - accuracy: 0.9918 - precision: 0.9918 - recall: 0.9918 - SpecificityAtSensitivity: 1.0000 - auc: 0.9996 - prc: 0.9993 - val_loss: 1.6773 - val_tp: 178.0000 - val_fp: 413.0000 - val_tn: 1534.0000 - val_fn: 471.0000 - val_accuracy: 0.2881 - val_precision: 0.3012 - val_recall: 0.2743 - val_SpecificityAtSensitivity: 0.6615 - val_auc: 0.6905 - val_prc: 0.4277\n",
            "Epoch 5/20\n",
            "123/123 [==============================] - 107s 871ms/step - loss: 0.0109 - tp: 1949.0000 - fp: 6.0000 - tn: 5859.0000 - fn: 6.0000 - accuracy: 0.9969 - precision: 0.9969 - recall: 0.9969 - SpecificityAtSensitivity: 1.0000 - auc: 1.0000 - prc: 0.9999 - val_loss: 0.2420 - val_tp: 606.0000 - val_fp: 36.0000 - val_tn: 1911.0000 - val_fn: 43.0000 - val_accuracy: 0.9399 - val_precision: 0.9439 - val_recall: 0.9337 - val_SpecificityAtSensitivity: 0.9995 - val_auc: 0.9868 - val_prc: 0.9779\n",
            "Epoch 6/20\n",
            "123/123 [==============================] - 107s 871ms/step - loss: 0.0275 - tp: 1935.0000 - fp: 19.0000 - tn: 5846.0000 - fn: 20.0000 - accuracy: 0.9898 - precision: 0.9903 - recall: 0.9898 - SpecificityAtSensitivity: 0.9998 - auc: 0.9995 - prc: 0.9988 - val_loss: 0.3709 - val_tp: 583.0000 - val_fp: 60.0000 - val_tn: 1887.0000 - val_fn: 66.0000 - val_accuracy: 0.9029 - val_precision: 0.9067 - val_recall: 0.8983 - val_SpecificityAtSensitivity: 0.9969 - val_auc: 0.9769 - val_prc: 0.9540\n",
            "Epoch 7/20\n",
            "123/123 [==============================] - 109s 886ms/step - loss: 0.0160 - tp: 1946.0000 - fp: 9.0000 - tn: 5856.0000 - fn: 9.0000 - accuracy: 0.9954 - precision: 0.9954 - recall: 0.9954 - SpecificityAtSensitivity: 1.0000 - auc: 1.0000 - prc: 0.9999 - val_loss: 0.8841 - val_tp: 407.0000 - val_fp: 193.0000 - val_tn: 1754.0000 - val_fn: 242.0000 - val_accuracy: 0.6502 - val_precision: 0.6783 - val_recall: 0.6271 - val_SpecificityAtSensitivity: 0.9456 - val_auc: 0.8900 - val_prc: 0.7418\n",
            "Epoch 8/20\n",
            "123/123 [==============================] - 107s 872ms/step - loss: 0.0244 - tp: 1941.0000 - fp: 13.0000 - tn: 5852.0000 - fn: 14.0000 - accuracy: 0.9928 - precision: 0.9933 - recall: 0.9928 - SpecificityAtSensitivity: 0.9997 - auc: 0.9992 - prc: 0.9982 - val_loss: 0.3920 - val_tp: 555.0000 - val_fp: 85.0000 - val_tn: 1862.0000 - val_fn: 94.0000 - val_accuracy: 0.8598 - val_precision: 0.8672 - val_recall: 0.8552 - val_SpecificityAtSensitivity: 0.9985 - val_auc: 0.9793 - val_prc: 0.9489\n",
            "Epoch 9/20\n",
            "123/123 [==============================] - 107s 873ms/step - loss: 0.0217 - tp: 1941.0000 - fp: 14.0000 - tn: 5851.0000 - fn: 14.0000 - accuracy: 0.9928 - precision: 0.9928 - recall: 0.9928 - SpecificityAtSensitivity: 0.9998 - auc: 0.9993 - prc: 0.9987 - val_loss: 2.4875 - val_tp: 350.0000 - val_fp: 284.0000 - val_tn: 1663.0000 - val_fn: 299.0000 - val_accuracy: 0.5455 - val_precision: 0.5521 - val_recall: 0.5393 - val_SpecificityAtSensitivity: 0.8803 - val_auc: 0.7776 - val_prc: 0.5517\n",
            "Epoch 10/20\n",
            "123/123 [==============================] - 107s 872ms/step - loss: 0.0149 - tp: 1945.0000 - fp: 10.0000 - tn: 5855.0000 - fn: 10.0000 - accuracy: 0.9949 - precision: 0.9949 - recall: 0.9949 - SpecificityAtSensitivity: 1.0000 - auc: 1.0000 - prc: 0.9999 - val_loss: 0.4076 - val_tp: 550.0000 - val_fp: 84.0000 - val_tn: 1863.0000 - val_fn: 99.0000 - val_accuracy: 0.8552 - val_precision: 0.8675 - val_recall: 0.8475 - val_SpecificityAtSensitivity: 0.9938 - val_auc: 0.9721 - val_prc: 0.9264\n",
            "Epoch 11/20\n",
            "123/123 [==============================] - 109s 888ms/step - loss: 0.0457 - tp: 1933.0000 - fp: 20.0000 - tn: 5845.0000 - fn: 22.0000 - accuracy: 0.9893 - precision: 0.9898 - recall: 0.9887 - SpecificityAtSensitivity: 0.9995 - auc: 0.9987 - prc: 0.9968 - val_loss: 0.1499 - val_tp: 613.0000 - val_fp: 31.0000 - val_tn: 1916.0000 - val_fn: 36.0000 - val_accuracy: 0.9507 - val_precision: 0.9519 - val_recall: 0.9445 - val_SpecificityAtSensitivity: 0.9995 - val_auc: 0.9942 - val_prc: 0.9871\n",
            "Epoch 12/20\n",
            "123/123 [==============================] - 107s 872ms/step - loss: 0.0048 - tp: 1952.0000 - fp: 3.0000 - tn: 5862.0000 - fn: 3.0000 - accuracy: 0.9985 - precision: 0.9985 - recall: 0.9985 - SpecificityAtSensitivity: 1.0000 - auc: 1.0000 - prc: 1.0000 - val_loss: 0.2167 - val_tp: 613.0000 - val_fp: 33.0000 - val_tn: 1914.0000 - val_fn: 36.0000 - val_accuracy: 0.9461 - val_precision: 0.9489 - val_recall: 0.9445 - val_SpecificityAtSensitivity: 0.9995 - val_auc: 0.9902 - val_prc: 0.9823\n",
            "Epoch 13/20\n",
            "123/123 [==============================] - 107s 871ms/step - loss: 0.0037 - tp: 1953.0000 - fp: 2.0000 - tn: 5863.0000 - fn: 2.0000 - accuracy: 0.9990 - precision: 0.9990 - recall: 0.9990 - SpecificityAtSensitivity: 1.0000 - auc: 1.0000 - prc: 1.0000 - val_loss: 0.1476 - val_tp: 619.0000 - val_fp: 25.0000 - val_tn: 1922.0000 - val_fn: 30.0000 - val_accuracy: 0.9553 - val_precision: 0.9612 - val_recall: 0.9538 - val_SpecificityAtSensitivity: 0.9990 - val_auc: 0.9928 - val_prc: 0.9865\n",
            "Epoch 14/20\n",
            "123/123 [==============================] - 107s 871ms/step - loss: 0.0013 - tp: 1955.0000 - fp: 0.0000e+00 - tn: 5865.0000 - fn: 0.0000e+00 - accuracy: 1.0000 - precision: 1.0000 - recall: 1.0000 - SpecificityAtSensitivity: 1.0000 - auc: 1.0000 - prc: 1.0000 - val_loss: 0.1709 - val_tp: 617.0000 - val_fp: 29.0000 - val_tn: 1918.0000 - val_fn: 32.0000 - val_accuracy: 0.9507 - val_precision: 0.9551 - val_recall: 0.9507 - val_SpecificityAtSensitivity: 0.9990 - val_auc: 0.9924 - val_prc: 0.9854\n",
            "Epoch 15/20\n",
            "123/123 [==============================] - 107s 871ms/step - loss: 0.0024 - tp: 1953.0000 - fp: 2.0000 - tn: 5863.0000 - fn: 2.0000 - accuracy: 0.9990 - precision: 0.9990 - recall: 0.9990 - SpecificityAtSensitivity: 1.0000 - auc: 1.0000 - prc: 1.0000 - val_loss: 0.1669 - val_tp: 613.0000 - val_fp: 34.0000 - val_tn: 1913.0000 - val_fn: 36.0000 - val_accuracy: 0.9445 - val_precision: 0.9474 - val_recall: 0.9445 - val_SpecificityAtSensitivity: 0.9985 - val_auc: 0.9936 - val_prc: 0.9832\n",
            "Epoch 16/20\n",
            "123/123 [==============================] - 109s 887ms/step - loss: 5.8272e-04 - tp: 1955.0000 - fp: 0.0000e+00 - tn: 5865.0000 - fn: 0.0000e+00 - accuracy: 1.0000 - precision: 1.0000 - recall: 1.0000 - SpecificityAtSensitivity: 1.0000 - auc: 1.0000 - prc: 1.0000 - val_loss: 0.1441 - val_tp: 631.0000 - val_fp: 18.0000 - val_tn: 1929.0000 - val_fn: 18.0000 - val_accuracy: 0.9723 - val_precision: 0.9723 - val_recall: 0.9723 - val_SpecificityAtSensitivity: 0.9974 - val_auc: 0.9911 - val_prc: 0.9831\n",
            "Epoch 17/20\n",
            "123/123 [==============================] - 107s 873ms/step - loss: 0.0221 - tp: 1950.0000 - fp: 5.0000 - tn: 5860.0000 - fn: 5.0000 - accuracy: 0.9974 - precision: 0.9974 - recall: 0.9974 - SpecificityAtSensitivity: 0.9997 - auc: 0.9990 - prc: 0.9980 - val_loss: 0.3481 - val_tp: 571.0000 - val_fp: 57.0000 - val_tn: 1890.0000 - val_fn: 78.0000 - val_accuracy: 0.8998 - val_precision: 0.9092 - val_recall: 0.8798 - val_SpecificityAtSensitivity: 0.9990 - val_auc: 0.9787 - val_prc: 0.9551\n",
            "Epoch 18/20\n",
            "123/123 [==============================] - 107s 872ms/step - loss: 0.0195 - tp: 1938.0000 - fp: 16.0000 - tn: 5849.0000 - fn: 17.0000 - accuracy: 0.9918 - precision: 0.9918 - recall: 0.9913 - SpecificityAtSensitivity: 1.0000 - auc: 0.9999 - prc: 0.9998 - val_loss: 0.3385 - val_tp: 575.0000 - val_fp: 63.0000 - val_tn: 1884.0000 - val_fn: 74.0000 - val_accuracy: 0.8952 - val_precision: 0.9013 - val_recall: 0.8860 - val_SpecificityAtSensitivity: 0.9990 - val_auc: 0.9801 - val_prc: 0.9590\n",
            "Epoch 19/20\n",
            "123/123 [==============================] - 107s 872ms/step - loss: 0.0101 - tp: 1947.0000 - fp: 6.0000 - tn: 5859.0000 - fn: 8.0000 - accuracy: 0.9964 - precision: 0.9969 - recall: 0.9959 - SpecificityAtSensitivity: 1.0000 - auc: 1.0000 - prc: 0.9999 - val_loss: 0.2470 - val_tp: 620.0000 - val_fp: 28.0000 - val_tn: 1919.0000 - val_fn: 29.0000 - val_accuracy: 0.9553 - val_precision: 0.9568 - val_recall: 0.9553 - val_SpecificityAtSensitivity: 0.9964 - val_auc: 0.9884 - val_prc: 0.9764\n",
            "Epoch 20/20\n",
            "123/123 [==============================] - 107s 872ms/step - loss: 0.0013 - tp: 1954.0000 - fp: 1.0000 - tn: 5864.0000 - fn: 1.0000 - accuracy: 0.9995 - precision: 0.9995 - recall: 0.9995 - SpecificityAtSensitivity: 1.0000 - auc: 1.0000 - prc: 1.0000 - val_loss: 0.2585 - val_tp: 625.0000 - val_fp: 21.0000 - val_tn: 1926.0000 - val_fn: 24.0000 - val_accuracy: 0.9630 - val_precision: 0.9675 - val_recall: 0.9630 - val_SpecificityAtSensitivity: 0.9985 - val_auc: 0.9873 - val_prc: 0.9811\n"
          ]
        }
      ],
      "source": [
        "history = model.fit(\n",
        "    train_generator,\n",
        "    epochs=training_epochs,\n",
        "    validation_data=val_generator,\n",
        "    class_weight=class_weights_dict \n",
        ")\n",
        "\n"
      ]
    },
    {
      "cell_type": "code",
      "source": [
        "\n",
        "# Plot accuracy\n",
        "plt.plot(history.history['accuracy'])\n",
        "plt.plot(history.history['val_accuracy'])\n",
        "plt.title('Model Accuracy')\n",
        "plt.ylabel('Accuracy')\n",
        "plt.xlabel('Epoch')\n",
        "plt.legend(['train', 'val'], loc='upper left')\n",
        "plt.show()\n",
        "\n",
        "# Plot loss\n",
        "plt.plot(history.history['loss'])\n",
        "plt.plot(history.history['val_loss'])\n",
        "plt.title('Model Loss')\n",
        "plt.ylabel('Loss')\n",
        "plt.xlabel('Epoch')\n",
        "plt.legend(['train', 'val'], loc='upper left')\n",
        "plt.show()"
      ],
      "metadata": {
        "id": "PhCPL17VfR-z",
        "colab": {
          "base_uri": "https://localhost:8080/",
          "height": 927
        },
        "outputId": "78f8642b-b3d7-4c14-8a58-5ab91b234f7e"
      },
      "execution_count": 17,
      "outputs": [
        {
          "output_type": "display_data",
          "data": {
            "text/plain": [
              "<Figure size 640x480 with 1 Axes>"
            ],
            "image/png": "[encoded data removed]"
          },
          "metadata": {}
        },
        {
          "output_type": "display_data",
          "data": {
            "text/plain": [
              "<Figure size 640x480 with 1 Axes>"
            ],
            "image/png": "[encoded data removed]"
          },
          "metadata": {}
        }
      ]
    },
    {
      "cell_type": "code",
      "source": [
        "# Evaluate on test set\n",
        "from sklearn.metrics import f1_score\n",
        "datagen = ImageDataGenerator(rescale=1./255)\n",
        "\n",
        "test_data = datagen.flow_from_directory(\n",
        "    \"/content/drive/MyDrive/W281/Test_image\",\n",
        "    target_size=img_size,\n",
        "    batch_size=32,\n",
        "    class_mode='categorical',\n",
        "    )\n",
        "test_results = model.evaluate(test_data, verbose=2)\n",
        "tp = test_results[1]\n",
        "fp = test_results[2]\n",
        "tn = test_results[3]\n",
        "fn = test_results[4]\n",
        "accuracy=test_results[5]\n",
        "precision=test_results[6]\n",
        "recall=test_results[7]\n"
      ],
      "metadata": {
        "id": "2WW5HUaf6p7p",
        "colab": {
          "base_uri": "https://localhost:8080/"
        },
        "outputId": "eda9bb43-c8f3-4382-8d1b-c8c036ec8d15"
      },
      "execution_count": 18,
      "outputs": [
        {
          "output_type": "stream",
          "name": "stdout",
          "text": [
            "Found 652 images belonging to 4 classes.\n",
            "21/21 - 8s - loss: 0.0633 - tp: 647.0000 - fp: 5.0000 - tn: 1951.0000 - fn: 5.0000 - accuracy: 0.9923 - precision: 0.9923 - recall: 0.9923 - SpecificityAtSensitivity: 0.9990 - auc: 0.9964 - prc: 0.9935 - 8s/epoch - 366ms/step\n"
          ]
        }
      ]
    },
    {
      "cell_type": "code",
      "source": [
        "\n",
        "\n",
        "# Get the number of batches in the test_data\n",
        "num_batches = len(test_data)\n",
        "\n",
        "# Initialize an empty list to store images\n",
        "images_list = []\n",
        "labels_list= []\n",
        "\n",
        "# Loop through the test_data generator\n",
        "for i in range(num_batches):\n",
        "    # Get a batch of images and their labels\n",
        "    images_batch, labels_batch = next(test_data)\n",
        "    \n",
        "    # Append the images from this batch to the images_list\n",
        "    images_list.append(images_batch)\n",
        "    labels_list.append(labels_batch)\n",
        "\n",
        "# Concatenate all the batches into a single numpy array\n",
        "images_array = np.concatenate(images_list, axis=0)\n",
        "labels_array = np.concatenate(labels_list, axis=0)\n",
        "\n",
        "print(\"Images array shape:\", images_array.shape)"
      ],
      "metadata": {
        "colab": {
          "base_uri": "https://localhost:8080/"
        },
        "id": "vCKOdvoH6oAi",
        "outputId": "49ece903-9048-4ef0-98b3-d9e4bfb7ad66"
      },
      "execution_count": 19,
      "outputs": [
        {
          "output_type": "stream",
          "name": "stdout",
          "text": [
            "Images array shape: (652, 224, 224, 3)\n"
          ]
        }
      ]
    },
    {
      "cell_type": "code",
      "source": [
        "y_predict = model.predict(images_array)\n",
        "y_predict_classes=np.argmax(y_predict, axis=1)\n",
        "y_true=np.argmax(labels_array, axis=1)\n",
        "f1 = f1_score(y_true,y_predict_classes, average=None)\n",
        "f1_average = f1_score(y_true,y_predict_classes, average='weighted')\n",
        "print(\"F1 score: \", f1)\n",
        "print(\"F1 score average: \", f1_average)"
      ],
      "metadata": {
        "colab": {
          "base_uri": "https://localhost:8080/"
        },
        "id": "_nCGf-uN6zLd",
        "outputId": "85dcf1be-f8fb-4386-ce85-6d6c872935c1"
      },
      "execution_count": 20,
      "outputs": [
        {
          "output_type": "stream",
          "name": "stdout",
          "text": [
            "21/21 [==============================] - 19s 355ms/step\n",
            "F1 score:  [0.98522167 0.99494949 0.9895288  0.99690402]\n",
            "F1 score average:  0.9923206215442502\n"
          ]
        }
      ]
    },
    {
      "cell_type": "code",
      "source": [
        "import seaborn as sns\n",
        "from sklearn.metrics import confusion_matrix\n",
        "conf_mat=confusion_matrix(y_true, y_predict_classes)\n",
        "sns.heatmap(conf_mat, annot=True, cmap=\"Blues\", fmt=\"d\")"
      ],
      "metadata": {
        "id": "Al6P-GXduA9E",
        "colab": {
          "base_uri": "https://localhost:8080/",
          "height": 447
        },
        "outputId": "085907f3-c7ff-45fa-c3a8-a2d241e3f777"
      },
      "execution_count": 21,
      "outputs": [
        {
          "output_type": "execute_result",
          "data": {
            "text/plain": [
              "<Axes: >"
            ]
          },
          "metadata": {},
          "execution_count": 21
        },
        {
          "output_type": "display_data",
          "data": {
            "text/plain": [
              "<Figure size 640x480 with 2 Axes>"
            ],
            "image/png": "[encoded data removed]"
          },
          "metadata": {}
        }
      ]
    }
  ],
  "metadata": {
    "kernelspec": {
      "display_name": "cv2023",
      "language": "python",
      "name": "python3"
    },
    "language_info": {
      "codemirror_mode": {
        "name": "ipython",
        "version": 3
      },
      "file_extension": ".py",
      "mimetype": "text/x-python",
      "name": "python",
      "nbconvert_exporter": "python",
      "pygments_lexer": "ipython3",
      "version": "3.9.16"
    },
    "orig_nbformat": 4,
    "colab": {
      "provenance": [],
      "include_colab_link": true
    },
    "accelerator": "GPU",
    "gpuClass": "standard"
  },
  "nbformat": 4,
  "nbformat_minor": 0
}