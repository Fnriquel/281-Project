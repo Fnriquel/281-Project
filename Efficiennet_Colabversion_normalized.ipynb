{
  "cells": [
    {
      "cell_type": "markdown",
      "metadata": {
        "id": "view-in-github",
        "colab_type": "text"
      },
      "source": [
        "<a href=\"https://colab.research.google.com/github/Fnriquel/281-Project/blob/main/Efficiennet_Colabversion_normalized.ipynb\" target=\"_parent\"><img src=\"https://colab.research.google.com/assets/colab-badge.svg\" alt=\"Open In Colab\"/></a>"
      ]
    },
    {
      "cell_type": "code",
      "source": [
        "from google.colab import drive\n",
        "drive.mount('/content/drive')"
      ],
      "metadata": {
        "colab": {
          "base_uri": "https://localhost:8080/"
        },
        "id": "qQTFIxHmfhxa",
        "outputId": "2396830b-3c49-4b9a-b13d-2ac1d6006c16"
      },
      "execution_count": 1,
      "outputs": [
        {
          "output_type": "stream",
          "name": "stdout",
          "text": [
            "Drive already mounted at /content/drive; to attempt to forcibly remount, call drive.mount(\"/content/drive\", force_remount=True).\n"
          ]
        }
      ]
    },
    {
      "cell_type": "code",
      "execution_count": 2,
      "metadata": {
        "id": "HlMqVxnNffHX"
      },
      "outputs": [],
      "source": [
        "import charset_normalizer\n",
        "import tensorflow as tf\n",
        "import numpy as np\n",
        "import matplotlib.pyplot as plt\n",
        "import pandas as pd\n",
        "import cv2\n",
        "import os\n",
        "from tensorflow import keras\n",
        "from tensorflow.keras.preprocessing.image import ImageDataGenerator\n",
        "from tensorflow.keras.applications.efficientnet import preprocess_input\n",
        "from tensorflow.keras.applications import EfficientNetB3\n",
        "from tensorflow.keras.layers import Dense, GlobalAveragePooling2D, Dropout, GlobalMaxPool2D\n",
        "from tensorflow.keras.models import Model\n",
        "from tensorflow.keras.optimizers import Adam, Adamax, SGD, Adagrad\n",
        "from sklearn.model_selection import train_test_split"
      ]
    },
    {
      "cell_type": "code",
      "source": [
        "source_dir = \"/content/drive/MyDrive/W281/Original\"\n",
        "train_dir = \"/content/drive/MyDrive/W281/Train_image\"\n",
        "test_dir = \"/content/drive/MyDrive/W281/Test_image\""
      ],
      "metadata": {
        "id": "1IjmT0kHhwhZ"
      },
      "execution_count": 3,
      "outputs": []
    },
    {
      "cell_type": "code",
      "source": [
        "## function to do Adaptive histogram equalization\n",
        "import numpy as np\n",
        "from tensorflow.keras.preprocessing.image import img_to_array\n",
        "\n",
        "def min_max_intensity_normalization(img):\n",
        "    img_array = img_to_array(img)\n",
        "    min_value = np.min(img_array)\n",
        "    max_value = np.max(img_array)\n",
        "    normalized_array = (img_array - min_value) / (max_value - min_value)\n",
        "    return normalized_array\n",
        "\n",
        "def adaptive_hist_eq(image):\n",
        "    clahe = cv2.createCLAHE(clipLimit=2.0, tileGridSize=(8,8))\n",
        "    cl1 = clahe.apply(image)\n",
        "    return cl1\n",
        "\n",
        "## function to do histogram normalization\n",
        "from skimage import exposure, color\n",
        "\n",
        "def hist_norm(img):\n",
        "    img[:,:,0] = exposure.equalize_hist(img[:,:,0])\n",
        "    img[:,:,1] = exposure.equalize_hist(img[:,:,1])\n",
        "    img[:,:,2] = exposure.equalize_hist(img[:,:,2])\n",
        "    return img\n",
        "\n",
        "##function that gets all the pictures from the directory and apply the adaptive histogram equalization\n",
        "def get_images_processing(directory, processing='adaptive_histogram_equalization'):\n",
        "    images=[]\n",
        "    for dir in os.listdir(directory):\n",
        "        for dir1 in os.listdir('Original'+'\\\\'+str(dir)):\n",
        "            img = cv2.imread(directory+'\\\\'+dir+'\\\\'+dir1)\n",
        "            #img = cv2.cvtColor(img, cv2.COLOR_BGR2GRAY)\n",
        "            if processing == 'adaptive_histogram_equalization':\n",
        "                img = cv2.cvtColor(img, cv2.COLOR_BGR2GRAY)\n",
        "                img = adaptive_hist_eq(img)\n",
        "            elif processing == 'histogram_normalization':\n",
        "                img = hist_norm(img)   \n",
        "            elif processing == 'sharpening':\n",
        "                img = cv2.cvtColor(img, cv2.COLOR_BGR2GRAY)\n",
        "                kernel = np.array([[-1,-1,-1], [-1,9,-1], [-1,-1,-1]])\n",
        "                img = cv2.filter2D(img, -1, kernel)\n",
        "            else:\n",
        "                img = img\n",
        "            \n",
        "            images.append(img)\n",
        "    return images"
      ],
      "metadata": {
        "id": "TssCO8YS3gJr"
      },
      "execution_count": 4,
      "outputs": []
    },
    {
      "cell_type": "markdown",
      "source": [
        "Only run the cell bellow to create the 2 folders Train and Test."
      ],
      "metadata": {
        "id": "k0BL5UMd41wr"
      }
    },
    {
      "cell_type": "code",
      "source": [
        "import shutil\n",
        "import random\n",
        "\n",
        "\n",
        "\n",
        "# Create train and test directories\n",
        "os.makedirs(train_dir, exist_ok=True)\n",
        "os.makedirs(test_dir, exist_ok=True)\n",
        "\n",
        "# Set the percentage of images to use for training\n",
        "train_percentage = 0.8\n",
        "\n",
        "# Loop through each sub-directory in the source directory\n",
        "for subdir in os.listdir(source_dir):\n",
        "    subdir_path = os.path.join(source_dir, subdir)\n",
        "    \n",
        "    # Create train and test sub-directories\n",
        "    os.makedirs(os.path.join(train_dir, subdir), exist_ok=True)\n",
        "    os.makedirs(os.path.join(test_dir, subdir), exist_ok=True)\n",
        "    \n",
        "    # Split the images between train and test sets\n",
        "    images = os.listdir(subdir_path)\n",
        "    random.shuffle(images)\n",
        "    split_index = int(train_percentage * len(images))\n",
        "    train_images = images[:split_index]\n",
        "    test_images = images[split_index:]\n",
        "    \n",
        "    # Copy the train images to the train directory\n",
        "    for image in train_images:\n",
        "        source = os.path.join(subdir_path, image)\n",
        "        destination = os.path.join(train_dir, subdir, image)\n",
        "        shutil.copy(source, destination)\n",
        "    \n",
        "    # Copy the test images to the test directory\n",
        "    for image in test_images:\n",
        "        source = os.path.join(subdir_path, image)\n",
        "        destination = os.path.join(test_dir, subdir, image)\n",
        "        shutil.copy(source, destination)"
      ],
      "metadata": {
        "id": "LNzKd3czgPfG"
      },
      "execution_count": null,
      "outputs": []
    },
    {
      "cell_type": "code",
      "source": [
        "from tensorflow.keras.layers import Dense, Dropout, BatchNormalization\n",
        "from tensorflow.keras.applications.vgg16 import VGG16\n",
        "img_size = (224, 224)\n",
        "input_shape = (224,224,3)\n",
        "\n",
        "\n",
        "# Create a base model from the pre-trained \n",
        "#base_model = EfficientNetB3(input_shape=input_shape, include_top=False, weights='imagenet') \n",
        "base_model=tf.keras.applications.efficientnet_v2.EfficientNetV2L(input_shape=input_shape, include_top=False)\n",
        "# Make model trainable\n",
        "base_model.trainable = True\n",
        "inputs=keras.Input(shape=input_shape)\n",
        "x = base_model(inputs)\n",
        "#x = base_model.output\n",
        "x = GlobalMaxPool2D()(x)\n",
        "x = Dropout(0.1)(x)\n",
        "#x = BatchNormalization()(x)\n",
        "\n",
        "outputs = Dense(4, activation='softmax')(x)\n",
        "model = Model(inputs, outputs)\n",
        "fine_tune_at = 1 # Update parameters starting from layer 1\n",
        "for layer in base_model.layers[:fine_tune_at]:\n",
        "    layer.trainable = True"
      ],
      "metadata": {
        "id": "NTru7ECVgroE"
      },
      "execution_count": 7,
      "outputs": []
    },
    {
      "cell_type": "code",
      "source": [
        "from sklearn.utils.class_weight import compute_class_weight\n",
        "\n",
        "\n",
        "img_size = (224, 224)\n",
        "color_mode = 'rgb'\n",
        "datagen = ImageDataGenerator(preprocessing_function=min_max_intensity_normalization,rescale=1./255, validation_split=0.25)\n",
        "\n",
        "train_generator = datagen.flow_from_directory(\n",
        "    \"/content/drive/MyDrive/W281/Train_image\",\n",
        "    target_size=img_size,\n",
        "    batch_size=16,\n",
        "    class_mode='categorical',\n",
        "    subset='training')\n",
        "\n",
        "\n",
        "\n",
        "\n",
        "val_generator = datagen.flow_from_directory(\n",
        "        \"/content/drive/MyDrive/W281/Train_image\",\n",
        "        target_size=img_size,\n",
        "        batch_size=16,\n",
        "        class_mode='categorical',\n",
        "        subset='validation')\n",
        "\n",
        "labels = train_generator.labels\n",
        "print(labels)\n",
        "class_labels = np.unique(labels)\n",
        "print(class_labels)\n",
        "# Compute class weights\n",
        "class_weights = compute_class_weight(\"balanced\", classes=np.unique(labels), y=labels)\n",
        "\n",
        "# Convert to dictionary\n",
        "class_weights_dict = dict(enumerate(class_weights))\n",
        "\n",
        "\n",
        "print(class_weights_dict)"
      ],
      "metadata": {
        "colab": {
          "base_uri": "https://localhost:8080/"
        },
        "id": "1XThaOPLUS_b",
        "outputId": "8164bcc1-88ba-403f-f2f0-75633cd3bf77"
      },
      "execution_count": 8,
      "outputs": [
        {
          "output_type": "stream",
          "name": "stdout",
          "text": [
            "Found 1955 images belonging to 4 classes.\n",
            "Found 649 images belonging to 4 classes.\n",
            "[0 0 0 ... 3 3 3]\n",
            "[0 1 2 3]\n",
            "{0: 1.613036303630363, 1: 0.8269881556683587, 2: 0.8455882352941176, 3: 1.0119047619047619}\n"
          ]
        }
      ]
    },
    {
      "cell_type": "code",
      "source": [
        "loss = 'categorical_crossentropy' # Better performance than categorical_crossentropy\n",
        "# optimizer = keras.optimizers.Adam\n",
        "optimizer = Adamax\n",
        "\n",
        "# Create learning rates for two phases of training \n",
        "learning_rates = 0.001\n",
        "\n",
        "# Setting the number of training epochs\n",
        "training_epochs = 5\n",
        "\n",
        "metrics = [\n",
        "      keras.metrics.TruePositives(name='tp'),\n",
        "      keras.metrics.FalsePositives(name='fp'),\n",
        "      keras.metrics.TrueNegatives(name='tn'),\n",
        "      keras.metrics.FalseNegatives(name='fn'), \n",
        "      keras.metrics.CategoricalAccuracy(name='accuracy'), # Use CategoricalAccuracy for one-hot encoded labels\n",
        "      #keras.metrics.SparseCategoricalAccuracy(name='accuracy'), # Use SparseCategoricalAccuracy for integer labels\n",
        "      keras.metrics.Precision(name='precision'),\n",
        "      keras.metrics.Recall(name='recall'), \n",
        "      keras.metrics.SpecificityAtSensitivity(0.5,name='SpecificityAtSensitivity'),\n",
        "      keras.metrics.AUC(name='auc'),\n",
        "      keras.metrics.AUC(name='prc', curve='PR'), # precision-recall curve\n",
        "]\n",
        "\n",
        "model.compile(loss=loss, optimizer=optimizer(learning_rates), metrics=metrics)\n",
        "\n",
        "\n",
        "\n",
        "\n"
      ],
      "metadata": {
        "id": "Vt7Hq7RrhHeL"
      },
      "execution_count": 9,
      "outputs": []
    },
    {
      "cell_type": "code",
      "execution_count": 10,
      "metadata": {
        "colab": {
          "base_uri": "https://localhost:8080/"
        },
        "id": "jLo_X27pffHa",
        "outputId": "3bc39220-5919-472e-c3c3-20e41d9d0ddb"
      },
      "outputs": [
        {
          "output_type": "stream",
          "name": "stdout",
          "text": [
            "Epoch 1/5\n",
            "123/123 [==============================] - 313s 965ms/step - loss: 1.7408 - tp: 112.0000 - fp: 311.0000 - tn: 5554.0000 - fn: 1843.0000 - accuracy: 0.2348 - precision: 0.2648 - recall: 0.0573 - SpecificityAtSensitivity: 0.4697 - auc: 0.4981 - prc: 0.2482 - val_loss: 1.3859 - val_tp: 0.0000e+00 - val_fp: 0.0000e+00 - val_tn: 1947.0000 - val_fn: 649.0000 - val_accuracy: 0.2958 - val_precision: 0.0000e+00 - val_recall: 0.0000e+00 - val_SpecificityAtSensitivity: 0.5141 - val_auc: 0.5137 - val_prc: 0.2731\n",
            "Epoch 2/5\n",
            "123/123 [==============================] - 110s 890ms/step - loss: 1.4045 - tp: 1.0000 - fp: 1.0000 - tn: 5864.0000 - fn: 1954.0000 - accuracy: 0.2343 - precision: 0.5000 - recall: 5.1151e-04 - SpecificityAtSensitivity: 0.4731 - auc: 0.5000 - prc: 0.2470 - val_loss: 1.4226 - val_tp: 0.0000e+00 - val_fp: 0.0000e+00 - val_tn: 1947.0000 - val_fn: 649.0000 - val_accuracy: 0.1541 - val_precision: 0.0000e+00 - val_recall: 0.0000e+00 - val_SpecificityAtSensitivity: 0.2322 - val_auc: 0.4351 - val_prc: 0.2127\n",
            "Epoch 3/5\n",
            "123/123 [==============================] - 109s 890ms/step - loss: 1.3964 - tp: 0.0000e+00 - fp: 0.0000e+00 - tn: 5865.0000 - fn: 1955.0000 - accuracy: 0.2317 - precision: 0.0000e+00 - recall: 0.0000e+00 - SpecificityAtSensitivity: 0.4651 - auc: 0.4791 - prc: 0.2359 - val_loss: 1.4230 - val_tp: 0.0000e+00 - val_fp: 0.0000e+00 - val_tn: 1947.0000 - val_fn: 649.0000 - val_accuracy: 0.1541 - val_precision: 0.0000e+00 - val_recall: 0.0000e+00 - val_SpecificityAtSensitivity: 0.2322 - val_auc: 0.4335 - val_prc: 0.2121\n",
            "Epoch 4/5\n",
            "123/123 [==============================] - 109s 887ms/step - loss: 1.3924 - tp: 0.0000e+00 - fp: 0.0000e+00 - tn: 5865.0000 - fn: 1955.0000 - accuracy: 0.2409 - precision: 0.0000e+00 - recall: 0.0000e+00 - SpecificityAtSensitivity: 0.4237 - auc: 0.4962 - prc: 0.2478 - val_loss: 1.3908 - val_tp: 0.0000e+00 - val_fp: 0.0000e+00 - val_tn: 1947.0000 - val_fn: 649.0000 - val_accuracy: 0.1541 - val_precision: 0.0000e+00 - val_recall: 0.0000e+00 - val_SpecificityAtSensitivity: 0.2512 - val_auc: 0.4710 - val_prc: 0.2312\n",
            "Epoch 5/5\n",
            "123/123 [==============================] - 109s 889ms/step - loss: 1.3919 - tp: 0.0000e+00 - fp: 0.0000e+00 - tn: 5865.0000 - fn: 1955.0000 - accuracy: 0.2583 - precision: 0.0000e+00 - recall: 0.0000e+00 - SpecificityAtSensitivity: 0.4757 - auc: 0.5111 - prc: 0.2559 - val_loss: 1.3724 - val_tp: 0.0000e+00 - val_fp: 0.0000e+00 - val_tn: 1947.0000 - val_fn: 649.0000 - val_accuracy: 0.2958 - val_precision: 0.0000e+00 - val_recall: 0.0000e+00 - val_SpecificityAtSensitivity: 0.5331 - val_auc: 0.5804 - val_prc: 0.2902\n"
          ]
        }
      ],
      "source": [
        "history = model.fit(\n",
        "    train_generator,\n",
        "    epochs=training_epochs,\n",
        "    validation_data=val_generator,\n",
        "    class_weight=class_weights_dict \n",
        ")\n",
        "\n"
      ]
    },
    {
      "cell_type": "code",
      "source": [
        "\n",
        "# Plot accuracy\n",
        "plt.plot(history.history['accuracy'])\n",
        "plt.plot(history.history['val_accuracy'])\n",
        "plt.title('Model Accuracy')\n",
        "plt.ylabel('Accuracy')\n",
        "plt.xlabel('Epoch')\n",
        "plt.legend(['train', 'val'], loc='upper left')\n",
        "plt.show()\n",
        "\n",
        "# Plot loss\n",
        "plt.plot(history.history['loss'])\n",
        "plt.plot(history.history['val_loss'])\n",
        "plt.title('Model Loss')\n",
        "plt.ylabel('Loss')\n",
        "plt.xlabel('Epoch')\n",
        "plt.legend(['train', 'val'], loc='upper left')\n",
        "plt.show()"
      ],
      "metadata": {
        "id": "PhCPL17VfR-z",
        "colab": {
          "base_uri": "https://localhost:8080/",
          "height": 927
        },
        "outputId": "4bfb5455-7397-4966-a26f-71bfae5173b7"
      },
      "execution_count": 11,
      "outputs": [
        {
          "output_type": "display_data",
          "data": {
            "text/plain": [
              "<Figure size 640x480 with 1 Axes>"
            ],
            "image/png": "[encoded data removed]"
          },
          "metadata": {}
        },
        {
          "output_type": "display_data",
          "data": {
            "text/plain": [
              "<Figure size 640x480 with 1 Axes>"
            ],
            "image/png": "[encoded data removed]"
          },
          "metadata": {}
        }
      ]
    },
    {
      "cell_type": "code",
      "source": [
        "# Evaluate on test set\n",
        "from sklearn.metrics import f1_score\n",
        "datagen = ImageDataGenerator(rescale=1./255)\n",
        "\n",
        "test_data = datagen.flow_from_directory(\n",
        "    \"/content/drive/MyDrive/W281/Test_image\",\n",
        "    target_size=img_size,\n",
        "    batch_size=32,\n",
        "    class_mode='categorical',\n",
        "    )\n",
        "test_results = model.evaluate(test_data, verbose=2)\n",
        "tp = test_results[1]\n",
        "fp = test_results[2]\n",
        "tn = test_results[3]\n",
        "fn = test_results[4]\n",
        "accuracy=test_results[5]\n",
        "precision=test_results[6]\n",
        "recall=test_results[7]\n"
      ],
      "metadata": {
        "id": "2WW5HUaf6p7p",
        "colab": {
          "base_uri": "https://localhost:8080/"
        },
        "outputId": "6e7ab4b9-708d-4796-e707-8483b933d754"
      },
      "execution_count": 12,
      "outputs": [
        {
          "output_type": "stream",
          "name": "stdout",
          "text": [
            "Found 652 images belonging to 4 classes.\n",
            "21/21 - 10s - loss: 1.3868 - tp: 0.0000e+00 - fp: 0.0000e+00 - tn: 1956.0000 - fn: 652.0000 - accuracy: 0.3083 - precision: 0.0000e+00 - recall: 0.0000e+00 - SpecificityAtSensitivity: 0.4632 - auc: 0.5211 - prc: 0.3591 - 10s/epoch - 499ms/step\n"
          ]
        }
      ]
    },
    {
      "cell_type": "code",
      "source": [
        "import numpy as np\n",
        "\n",
        "# Get the number of batches in the test_data\n",
        "num_batches = len(test_data)\n",
        "\n",
        "# Initialize an empty list to store images\n",
        "images_list = []\n",
        "labels_list= []\n",
        "\n",
        "# Loop through the test_data generator\n",
        "for i in range(num_batches):\n",
        "    # Get a batch of images and their labels\n",
        "    images_batch, labels_batch = next(test_data)\n",
        "    \n",
        "    # Append the images from this batch to the images_list\n",
        "    images_list.append(images_batch)\n",
        "    labels_list.append(labels_batch)\n",
        "\n",
        "# Concatenate all the batches into a single numpy array\n",
        "images_array = np.concatenate(images_list, axis=0)\n",
        "labels_array = np.concatenate(labels_list, axis=0)\n",
        "\n",
        "print(\"Images array shape:\", images_array.shape)"
      ],
      "metadata": {
        "colab": {
          "base_uri": "https://localhost:8080/"
        },
        "id": "vCKOdvoH6oAi",
        "outputId": "2263f378-c217-483f-e0c5-fac5af4d747f"
      },
      "execution_count": 16,
      "outputs": [
        {
          "output_type": "stream",
          "name": "stdout",
          "text": [
            "Images array shape: (652, 224, 224, 3)\n"
          ]
        }
      ]
    },
    {
      "cell_type": "code",
      "source": [
        "y_predict = model.predict(images_array)\n",
        "y_predict_classes=np.argmax(y_predict, axis=1)\n",
        "y_true=np.argmax(labels_array, axis=1)\n",
        "f1 = f1_score(y_true,y_predict_classes, average=None)\n",
        "f1_average = f1_score(y_true,y_predict_classes, average='weighted')\n",
        "print(\"F1 score: \", f1)\n",
        "print(\"F1 score average: \", f1_average)"
      ],
      "metadata": {
        "colab": {
          "base_uri": "https://localhost:8080/"
        },
        "id": "_nCGf-uN6zLd",
        "outputId": "649a3e57-fdec-4862-acb3-265fdfa83247"
      },
      "execution_count": 22,
      "outputs": [
        {
          "output_type": "stream",
          "name": "stdout",
          "text": [
            "21/21 [==============================] - 8s 373ms/step\n"
          ]
        }
      ]
    },
    {
      "cell_type": "code",
      "source": [
        "import seaborn as sns\n",
        "from sklearn.metrics import confusion_matrix\n",
        "conf_mat=confusion_matrix(y_true, y_predict_classes)\n",
        "sns.heatmap(conf_mat, annot=True, cmap=\"Blues\", fmt=\"d\")"
      ],
      "metadata": {
        "id": "Al6P-GXduA9E",
        "colab": {
          "base_uri": "https://localhost:8080/",
          "height": 447
        },
        "outputId": "9fc0c446-5aae-4bfd-b22e-c99e440439ab"
      },
      "execution_count": 21,
      "outputs": [
        {
          "output_type": "execute_result",
          "data": {
            "text/plain": [
              "<Axes: >"
            ]
          },
          "metadata": {},
          "execution_count": 21
        },
        {
          "output_type": "display_data",
          "data": {
            "text/plain": [
              "<Figure size 640x480 with 2 Axes>"
            ],
            "image/png": "[encoded data removed]"
          },
          "metadata": {}
        }
      ]
    }
  ],
  "metadata": {
    "kernelspec": {
      "display_name": "cv2023",
      "language": "python",
      "name": "python3"
    },
    "language_info": {
      "codemirror_mode": {
        "name": "ipython",
        "version": 3
      },
      "file_extension": ".py",
      "mimetype": "text/x-python",
      "name": "python",
      "nbconvert_exporter": "python",
      "pygments_lexer": "ipython3",
      "version": "3.9.16"
    },
    "orig_nbformat": 4,
    "colab": {
      "provenance": [],
      "include_colab_link": true
    },
    "accelerator": "GPU",
    "gpuClass": "standard"
  },
  "nbformat": 4,
  "nbformat_minor": 0
}